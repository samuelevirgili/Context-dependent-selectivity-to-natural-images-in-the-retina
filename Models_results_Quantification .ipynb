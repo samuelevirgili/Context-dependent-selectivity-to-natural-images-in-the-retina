{
 "cells": [
  {
   "cell_type": "code",
   "execution_count": 1,
   "metadata": {},
   "outputs": [
    {
     "name": "stdout",
     "output_type": "stream",
     "text": [
      "Populating the interactive namespace from numpy and matplotlib\n"
     ]
    }
   ],
   "source": [
    "%pylab inline\n",
    "%load_ext autoreload\n",
    "%autoreload 2\n",
    "\n",
    "import numpy as np\n",
    "import glob\n",
    "import skimage\n",
    "import skimage.io\n",
    "import skimage.transform\n",
    "from skimage.transform import rescale, resize, downscale_local_mean\n",
    "from skimage.filters import gaussian\n",
    "import matplotlib.pyplot as plt\n",
    "import os\n",
    "import sys\n",
    "sys.path.append('./extraction_functions') #this is where we put all the functions.py\n",
    "sys.path.append('./../../functions_PVA') #this is where we put all the functions.py\n",
    "from save_load import *\n",
    "from extract_triggers import *\n",
    "import csv as csv\n",
    "import itertools\n",
    "from tqdm import tqdm\n",
    "\n",
    "# sys.path.append('/home/samuele/anaconda3/envs/RFEst/lib/python3.9/site-packages')\n",
    "#sys.path.append('/home/samuele/RFEst')\n",
    "\n",
    "\n",
    "#UNCOMMENT WHEN USING THE BERENS METHOD\n",
    "#from rfest import splineLG, splineLNP, splineLNLN\n",
    "#from rfest.metrics import mse\n",
    "\n",
    "\n",
    "from data import Dataset\n",
    "\n",
    "from scipy.optimize import curve_fit\n",
    "\n",
    "def corrcoef(x, y):\n",
    "    \"\"\"Return Pearson product-moment correlations coefficients.\n",
    "\n",
    "    This is a wrapper around `np.corrcoef` to avoid:\n",
    "        `RuntimeWarning: invalid value encountered in true_divide`.\n",
    "    \"\"\"\n",
    "\n",
    "    assert len(x) > 0, len(x)\n",
    "    assert len(y) > 0, len(y)\n",
    "    assert len(x) == len(y), (len(x), len(y))\n",
    "\n",
    "    is_x_deterministic = np.all(x == x[0])  # i.e. array filled with a unique value\n",
    "    is_y_deterministic = np.all(y == y[0])  # i.e. array filled with a unique value\n",
    "    if is_x_deterministic and is_y_deterministic:\n",
    "        r = 1.0\n",
    "    elif is_x_deterministic or is_y_deterministic:\n",
    "        r = 0.0\n",
    "    else:\n",
    "        r = np.corrcoef(x, y)[0, 1]\n",
    "\n",
    "    return r"
   ]
  },
  {
   "cell_type": "code",
   "execution_count": 2,
   "metadata": {},
   "outputs": [],
   "source": [
    "Selected_cells ={}\n",
    "Count_cells={}\n",
    "good_exps = [11,12,13,14,17,19]\n",
    "\n",
    "Selected_cellsA = []\n",
    "Selected_cellsB = []\n",
    "Selected_cellsCp = []\n",
    "\n",
    "#-----------------------------------------------------------------------------\n",
    "# Experiment 11\n",
    "selected_cellsA = [2 , 4 , 5 , 6 , 12 , 15 , 20 , 32 , 39 , 45 , 49 , 58 , 60 , 68 , 72 , 76 , 103 , 109 , 120 , 133 , 134 , 137 , 138 , 146 , 161 , 164 , 165 , 170 , 172 , 180 , 183 , 187 , 188 , 193 , 199 , 200 , 214 , 215 , 229 , 230 , 234 , 235 , 260 , 262 , 269 , 276 , 278 , 280 , 299 , 322 , 324 , 339 , 382 , 451 , 454 , 477 , 478 , 484 , 496 , 500 , 501 , 81 , 310 ]\n",
    "selected_cellsB = [ 22 , 38 , 44 , 67 , 74 , 75 ,   85 , 95 , 105 , 107 , 111 , 142 ,  168 , 181 ,  207 ,  227 , 238 ,  248 , 252 , 259 , 263 , 275 , 286 ,  366 , 388 ,  491 , 504 , 514 , 517 , 518 , 467 ]\n",
    "selected_cellsCp = [197,14,54,154,178,236,319,323,369,453,145,279,456,97,116,159,297,329,226,353,279,394,308,502]\n",
    "# selected_cellsBm = [3,80,153,197,217,247,314,470]  #168,248,286,96,197,470\n",
    "# selected_cellsC = [14 , 18 , 34 , 54 , 56 , 97 , 104 , 116 , 126 , 154 , 157 , 178 , 191 , 212 , 224 , 319 , 323 , 347 , 369 , 390 , 398 , 426 , 453 , 466 , 113 , 29 , 33 , 63 , 145 , 159 , 218 , 236 , 297 , 301 , 329 ]\n",
    "# selected_cellsD = [24 , 42 , 46 , 64 , 66 , 93 , 122 , 125 , 144 , 149 , 167 , 185 , 205 , 223 , 226 , 233 , 245 , 249 , 254 , 279 , 285 , 296 , 308 , 313 , 338 , 341 , 353 , 356 , 372 , 394 , 435 , 456 , 502 ]\n",
    "\n",
    "exp=11\n",
    "Selected_cellsA.append(selected_cellsA)\n",
    "Selected_cellsB.append(selected_cellsB)\n",
    "Selected_cellsCp.append(selected_cellsCp)\n",
    "\n",
    "Count_cells[exp]={}\n",
    "Count_cells[exp]['class']=[len(selected_cellsA),len(selected_cellsB),len(selected_cellsCp)]\n",
    "Count_cells[exp]['total']=np.sum([len(selected_cellsA),len(selected_cellsB),len(selected_cellsCp)])\n",
    "\n",
    "# #-----------------------------------------------------------------------------\n",
    "# Experiment 12\n",
    "selected_cellsA = [3 , 10 , 11 , 19 , 24 , 29 , 33 , 44 , 48 , 58 , 61 , 63 , 70 , 72 , 73 , 75 , 76 , 82 , 83 , 86 , 87 , 93 , 109 , 116 , 120 , 124 , 130 , 132 , 140 , 142 , 146 , 150 , 158 , 171 , 175 , 178 , 179 , 182 , 184 , 188 , 191 , 192 , 200 , 205 , 211 , 227 , 234 , 235 , 240 , 245 , 263 , 264 , 287 , 297 , 298 , 335 , 354 , 372 , 380 , 395 , 415 , 441 , 529 , 588 , 595 , 597 , 600 , 629 , 648 ]\n",
    "selected_cellsB = [488 , 37 , 46 , 51 , 65 , 68 , 74 , 88 , 95 , 111 , 125 , 128 , 133 , 152 , 161 , 168 , 173 , 185 , 189 ,  201 , 202 , 215 , 266 , 279 , 286 ,  364 , 399 , 419 , 450 , 459 , 460 , 466 , 478 , 494 , 496 , 514 , 539 , 543 , 570 , 576 , 577 , 637 , 665 , 271 , 657 ]\n",
    "selected_cellsCp = [473,5,26,38,45,54,55,177,187,193,223,394,433,486,490,528,559,596,619,659,6,424]\n",
    "selected_cellsC = [473 , 5 , 21 , 26 , 38 , 45 , 54 , 55 , 66 , 104 , 147 , 156 , 177 , 187 , 193 , 212  , 223 , 290 , 304 , 329 , 367 , 378 , 394 , 433 , 471 , 486 , 490 , 528 , 559 , 596 , 619 , 659 , 667 , 6 , 424 ]\n",
    "selected_cellsD = [13 , 139 , 190 , 207 , 213 , 219 , 226 , 288 , 308 , 353 ,196,338]\n",
    "\n",
    "exp=12\n",
    "Selected_cellsA.append(selected_cellsA)\n",
    "Selected_cellsB.append(selected_cellsB)\n",
    "Selected_cellsCp.append(selected_cellsCp)\n",
    "\n",
    "Count_cells[exp]={}\n",
    "Count_cells[exp]['class']=[len(selected_cellsA),len(selected_cellsB),len(selected_cellsCp)]\n",
    "Count_cells[exp]['total']=np.sum([len(selected_cellsA),len(selected_cellsB),len(selected_cellsCp)])\n",
    "\n",
    "#-----------------------------------------------------------------------------\n",
    "# Experiment 13\n",
    "selected_cellsA = [0 , 56 , 65 , 77 , 91 , 92 , 96 , 112 , 130 , 144 , 158 , 165 , 166 , 170 , 184 , 187 , 193 , 209 , 234 , 261 , 265 , 382 , 386 , 394 , 450 , 487 , 490 , 501 , 205 ]\n",
    "selected_cellsAm = [2 , 3 , 16 , 28 , 67 , 71 , 99 , 101 , 108 , 111 , 128 , 139 , 140 , 153 , 177 , 180 , 186 , 200 , 202 , 208 , 220 , 225 , 228 , 252 , 257 , 259 , 387 , 528 ,  634 , 684 , 702 , 706 , 717 , 748 ]\n",
    "selected_cellsB = [18 , 24 , 32 , 41 ,  54 , 60 , 64 , 66 , 69 , 72 , 102 , 103 , 132 , 134 , 148 , 149 , 150 ,\n",
    "                   159 , 167 , 174 , 178 , 185 , 190 , 194 , 197 , 207 , 239 ,  269 , 270 ,  600 , 606 , 697 ,\n",
    "                   703 , 704 , 720 ,  744 , 749 ]\n",
    "selected_cellsCp = [51,738,87,40,42,47,74,76,87,90,113,120,129,142,155,217,262,268,377,650,741]\n",
    "# selected_cellsC = [621 ,51,154,240,267,505,654,698,738,87 , 38 , 39 , 40 , 42 , 47 , 55 , 58 , 62 , 74 , 76 , 78 , 80 , 87 , 90 , 95 , 113 , 120 , 125 , 127 , 129 , 142 , 143 , 155 , 176 , 199 , 211 , 214 , 217 , 254 , 256 , 258 , 262 , 268 , 377 , 629 , 642 , 650 , 699 , 741  ]\n",
    "# selected_cellsD = [1 , 6 , 26 , 43 , 44 , 145 , 175 , 223 , 233 , 527 ]\n",
    "\n",
    "exp=13\n",
    "Selected_cellsA.append(selected_cellsA+selected_cellsAm)\n",
    "Selected_cellsB.append(selected_cellsB)\n",
    "Selected_cellsCp.append(selected_cellsCp)\n",
    "\n",
    "Count_cells[exp]={}\n",
    "Count_cells[exp]['class']=[len(selected_cellsA)+len(selected_cellsAm),len(selected_cellsB),len(selected_cellsCp)]\n",
    "Count_cells[exp]['total']=np.sum([len(selected_cellsA)+len(selected_cellsAm),len(selected_cellsB),len(selected_cellsCp)])\n",
    "\n",
    "#-----------------------------------------------------------------------------\n",
    "# Experiment 14\n",
    "selected_cellsA = [0 , 14 , 35 , 44 , 60 , 83 , 95 , 132 , 149 , 150 , 158 , 167 , 201 , 202 , 216 , 225 , 227 , 234 , 239 , 241 , 256 , 269 , 271 , 291 , 302 , 303 , 307 , 310 , 329 , 334 , 339 , 341 , 348 , 351 , 357 , 378 , 381 , 419 , 420 , 421 , 424 , 429 , 432 , 448 , 461 , 482 , 490 , 521 , 522 , 554 , 575 , 601 , 627 , 666 , 667 , 672 , 678 , 714 , 715 , 722 , 723 , 724 ]\n",
    "selected_cellsAm = [6 , 17 , 18 , 46 , 54 , 56 , 58 , 63 , 92 , 96 , 110 , 113 , 122 , 133 , 153 , 157 , 197 , 200 , 209 , 224 , 236 , 246 , 251 , 277 , 283 , 337 , 372 , 423 , 425 , 426 , 477 , 523 , 542 , 544 , 557 , 593 , 632 , 637 , 701 , 703 , 720 , 728 ]\n",
    "selected_cellsBp = [11,13,16,28,49,72,124,129,137,151,163,164,170,175,193,233,237,253,266,267,295,297,299,319,322,356,360,366,411,433,480,628,696,706,718,719,727]\n",
    "# selected_cellsB = [ grille couts cdd sorbonne10 , 11 , 13 , 16 , 19 , 28 , 43 , 49 , 72 , 117 , 124 , 129 , 134 , 137 , 151 , 163 , 164 , 170 , 175 , 176 , 192 , 193 , 195 , 233 , 235 , 237 , 252 , 253 , 265 , 266 , 267 , 270 , 287 , 295 , 297 , 299 , 308 , 319 , 322 , 328 , 356 , 360 , 366 , 368 , 398 , 411 , 433 , 480 , 481 , 519 , 541 , 570 , 616 , 628 , 665 , 696 , 706 , 718 , 719 , 727 ]\n",
    "# selected_cellsC = [ 1 , 36 , 41 , 47 , 84 , 86 , 91 , 94 , 112 , 125 , 139 , 165 , 173 , 179 , 219 , 232 , 274 , 301 , 316 , 317 , 342 , 344 , 345 , 350 , 358 , 363 , 467 , 497 , 537 ]\n",
    "\n",
    "exp=14\n",
    "Selected_cellsA.append(selected_cellsA)\n",
    "Selected_cellsB.append(selected_cellsAm)\n",
    "Selected_cellsCp.append(selected_cellsBp)\n",
    "\n",
    "Count_cells[exp]={}\n",
    "Count_cells[exp]['class']=[len(selected_cellsA),len(selected_cellsAm),len(selected_cellsBp)]\n",
    "Count_cells[exp]['total']=np.sum([len(selected_cellsA),len(selected_cellsAm),len(selected_cellsBp)])\n",
    "\n",
    "#------------------------------------------------------------------------------\n",
    "# Experiment 17\n",
    "selected_cellsA = [4 , 18 , 19 , 53 , 78 , 83 , 88 , 89 , 98 , 113 , 117 , 123 , 127 , 130 , 141 , 145 , 164 , 178 , 191 , 194 , 195 , 197 , 200 , 209 , 210 , 216 , 239 , 262 , 268 , 270 , 289 , 290 , 312 , 350 , 418 , 499 , 500 , 508 , 541 , 567 , 639 , 641 , 642 , 737 , 754 , 776 , 791 , 792 , 794 , 813 , 815 , 823 , 868 , 901 , 924 , 939 , 972 , 992 , 996 , 1007 , 1023 , 1029 , 1030 , 1032 , 1033 , 1036 ]\n",
    "selected_cellsB = [22 , 30 , 116 , 177 , 260 , 285 , 339 , 349 , 364 , 376 , 402 , 412 , 436 , 459 , 515 , 532 , 534 , 553 , 561 , 579 , 680 , 706 , 708 , 743 , 753 , 767 , 796 , 800 , 843 , 862 , 872 , 874 , 892 , 905 , 910 , 942 , 956 , 960 , 962 , 991 , 994 , 998 , 1004 , 1009 , 1011 , 1014 , 1021 , 1026 , 1031 ]\n",
    "selected_cellsCp = [13,136,172,182,273,300,543,608,632,759,774,806,880,916,931,954,969,975,763,898,950,973]\n",
    "# selected_cellsBm = [622 , 688 , 763 , 898 , 950 , 973 , 990 , 1019 ]\n",
    "# selected_cellsC = [13 , 136 , 172 , 182 , 233 , 273 , 300 , 543 , 575 , 608 , 632 , 668 , 672 , 696 , 759 , 774 , 780 , 806 , 810 , 812 , 876 , 880 , 916 , 927 , 931 , 954 , 967 , 969 , 975 , 979 , 1002 ]\n",
    "# selected_cellsD = [57 , 264 , 388 , 428 , 450 , 467 , 480 , 566 , 596 , 606 , 636 , 698 , 720 , 739 , 782 , 884 , 886 , 923 ]\n",
    "\n",
    "exp=17\n",
    "Selected_cellsA.append(selected_cellsA)\n",
    "Selected_cellsB.append(selected_cellsB)\n",
    "Selected_cellsCp.append(selected_cellsCp)\n",
    "\n",
    "Count_cells[exp]={}\n",
    "Count_cells[exp]['class']=[len(selected_cellsA),len(selected_cellsB),len(selected_cellsCp)]\n",
    "Count_cells[exp]['total']=np.sum([len(selected_cellsA),len(selected_cellsB),len(selected_cellsCp)])\n",
    "\n",
    "#------------------------------------------------------------------------------\n",
    "# Experiment 19\n",
    "selected_cellsA = [2 , 5 , 25 , 26 , 36 , 43 , 46 , 50 , 52 , 56 , 62 , 79 , 94 , 106 , 109 , 114 , 122 , 128 , 129 , 137 , 138 , 142 , 153 , 160 , 162 , 175 , 182 , 184 , 190 , 196 , 198 , 200 , 204 , 211 , 212 , 216 , 220 , 223 , 225 , 236 , 237 , 248 , 251 , 252 , 254 , 269 , 271 , 274 , 282 , 284 , 286 , 297 , 305 , 310 , 323 , 347 , 356 , 360 , 369 , 377 , 416 , 427 , 469 , 486 , 499 , 501 , 502 ]\n",
    "selected_cellsAm = [21 , 30 , 45 , 47 , 61 , 67 , 89 , 96 , 118 , 123 , 125 , 143 , 157 , 159 , 165 , 171 , 174 , 185 , 203 , 213 , 257 , 262 , 279 , 311 , 338 , 340 , 349 , 353 , 359 , 366 , 386 , 411 , 415 , 425 , 449 , 467 , 468 , 487 , 593 , 598 ]\n",
    "selected_cellsBp = [84,97,1,10,16,23,28,33,35,39,44,65,82,83,102,107,130,193,206,219,253,285,293,300,318,319,322,329,330,336,342,385,390,435,436,443,493,498,570]\n",
    "# selected_cellsB = [1 , 6 , 10 , 16 , 23 , 28 , 33 , 35 , 39 , 44 , 65 , 68 , 82 , 83 , 102 , 107 , 130 , 134 , 145 , 146 , 156 , 173 , 193 , 201 , 206 , 219 , 234 , 253 , 272 , 285 , 289 , 293 , 296 , 299 , 300 , 318 , 319 , 322 , 329 , 330 , 336 , 342 , 385 , 390 , 408 , 432 , 435 , 436 , 443 , 492 , 493 , 498 , 570 , 597 , 603 , 604 ]\n",
    "# selected_cellsC = [0 , 11 , 15 , 24 , 57 , 75 , 80 , 81 , 84 , 97 , 101 , 108 , 121 , 140 , 164 , 168 , 191 , 202 , 229 , 232 , 259 , 263 , 270 , 277 , 281 , 287 , 307 , 325 , 337 , 341 , 373 , 422 , 528 , 555 , 560 , 565 ]\n",
    "\n",
    "exp=19\n",
    "Selected_cellsA.append(selected_cellsA)\n",
    "Selected_cellsB.append(selected_cellsAm)\n",
    "Selected_cellsCp.append(selected_cellsBp)\n",
    "\n",
    "Count_cells[exp]={}\n",
    "Count_cells[exp]['class']=[len(selected_cellsA),len(selected_cellsAm),len(selected_cellsBp)]\n",
    "Count_cells[exp]['total']=np.sum([len(selected_cellsA),len(selected_cellsAm),len(selected_cellsBp)])\n",
    "\n",
    "\n",
    "#################################################################################33\n",
    "i=0\n",
    "for exp in good_exps:\n",
    "    Selected_cells[exp]=[Selected_cellsA[i],Selected_cellsB[i],Selected_cellsCp[i]]\n",
    "    i+=1"
   ]
  },
  {
   "cell_type": "code",
   "execution_count": 3,
   "metadata": {},
   "outputs": [
    {
     "data": {
      "text/plain": [
       "{11: {'class': [63, 31, 24], 'total': 118},\n",
       " 12: {'class': [69, 45, 22], 'total': 136},\n",
       " 13: {'class': [63, 37, 21], 'total': 121},\n",
       " 14: {'class': [62, 42, 37], 'total': 141},\n",
       " 17: {'class': [66, 49, 22], 'total': 137},\n",
       " 19: {'class': [67, 40, 39], 'total': 146}}"
      ]
     },
     "execution_count": 3,
     "metadata": {},
     "output_type": "execute_result"
    }
   ],
   "source": [
    "Count_cells"
   ]
  },
  {
   "cell_type": "code",
   "execution_count": 3,
   "metadata": {},
   "outputs": [
    {
     "data": {
      "text/plain": [
       "array([   4,   18,   19,   22,   30,   53,   78,   83,   88,   89,   98,\n",
       "        113,  116,  117,  123,  127,  130,  141,  145,  164,  177,  178,\n",
       "        191,  194,  195,  197,  200,  209,  210,  216,  239,  260,  262,\n",
       "        268,  270,  285,  289,  290,  312,  339,  349,  350,  364,  376,\n",
       "        402,  412,  418,  436,  459,  499,  500,  508,  515,  532,  534,\n",
       "        541,  553,  561,  567,  579,  639,  641,  642,  680,  706,  708,\n",
       "        737,  743,  753,  754,  767,  776,  791,  792,  794,  796,  800,\n",
       "        813,  815,  823,  843,  862,  868,  872,  874,  892,  901,  905,\n",
       "        910,  924,  939,  942,  956,  960,  962,  972,  991,  992,  994,\n",
       "        996,  998, 1004, 1007, 1009, 1011, 1014, 1021, 1023, 1026, 1029,\n",
       "       1030, 1031, 1032, 1033, 1036])"
      ]
     },
     "execution_count": 3,
     "metadata": {},
     "output_type": "execute_result"
    }
   ],
   "source": [
    "np.sort(np.array(Selected_cells[17][0]+Selected_cells[17][1]))"
   ]
  },
  {
   "cell_type": "code",
   "execution_count": 4,
   "metadata": {},
   "outputs": [
    {
     "data": {
      "text/plain": [
       "(94,)"
      ]
     },
     "execution_count": 4,
     "metadata": {},
     "output_type": "execute_result"
    }
   ],
   "source": [
    "exp=11\n",
    "np.sort(np.array(Selected_cells[exp][0]+Selected_cells[exp][1])).shape"
   ]
  },
  {
   "cell_type": "markdown",
   "metadata": {},
   "source": [
    "# Cell for counting the As, Bs and Cs and knowing their number"
   ]
  },
  {
   "cell_type": "code",
   "execution_count": 6,
   "metadata": {},
   "outputs": [
    {
     "name": "stdout",
     "output_type": "stream",
     "text": [
      "Exp14: As:104 Bs:60 Cs:29 Ds:16\n"
     ]
    }
   ],
   "source": [
    "exp=14  #choose the experiment\n",
    "\n",
    "if exp==11: grades_folder='/media/samuele/Samuele_01/Exp_11/sorting/recording_0/recording_0.GUI/'\n",
    "if exp==12: grades_folder='/media/samuele/Samuele_01/Exp_12/sorting/exp12-meas_01/exp12-meas_01-merged.GUI/'\n",
    "if exp==13: grades_folder='/media/samuele/Samuele_01/Exp_13/sorting/'\n",
    "if exp==14: grades_folder='/media/samuele/Samuele_01/Exp_14/sorting/'\n",
    "if exp==17: grades_folder='/media/samuele/Samuele_01/Exp_17/sorting/exp17-meas_01/exp17-meas_01.GUI/'\n",
    "if exp==19: grades_folder='/media/samuele/Samuele_01/Exp_19/sorting/'\n",
    "#in salamander experiments all the cells used were As\n",
    "\n",
    "stim_trials_f= open(grades_folder + 'exp{0}-cluster_quality.csv'.format(exp))\n",
    "stim_trials_f = csv.reader(stim_trials_f,delimiter=\",\")\n",
    "stim_trials=[]\n",
    "\n",
    "As=[]\n",
    "Bs=[]\n",
    "Cs=[]\n",
    "Ds=[]\n",
    "for row in stim_trials_f: \n",
    "    if exp==11 or exp==17: stim_trials.append(np.array(row[0].split(',')))\n",
    "    else: stim_trials.append(np.array(row))\n",
    "stim_trials = np.array(stim_trials[1:])\n",
    "#print(stim_trials)\n",
    "                            \n",
    "for row in stim_trials:\n",
    "    #print(row)\n",
    "    if row[1]=='A' or row[1]=='A-': As.append(int(row[0]))\n",
    "    elif row[1]=='B' or row[1]=='B+': Bs.append(int(row[0]))\n",
    "    elif row[1]=='B-' or row[1]=='C' or row[1]=='C+': Cs.append(int(row[0]))\n",
    "    else: Ds.append(int(row[0]))\n",
    "        \n",
    "print('Exp{0}: As:{1} Bs:{2} Cs:{3} Ds:{4}'.format(exp,len(As),len(Bs),len(Cs),len(Ds)))                           "
   ]
  },
  {
   "cell_type": "markdown",
   "metadata": {},
   "source": [
    "## An authomatic way of knowing if for a cell there are experimental LSTAs and polarity invertions or not"
   ]
  },
  {
   "cell_type": "markdown",
   "metadata": {},
   "source": [
    "### here for each experiment, the Berens denoising method is run and the outputs for all the images of all the cells are stored"
   ]
  },
  {
   "cell_type": "code",
   "execution_count": 36,
   "metadata": {},
   "outputs": [
    {
     "name": "stderr",
     "output_type": "stream",
     "text": [
      "\r",
      "  0%|                                                   | 0/107 [00:00<?, ?it/s]"
     ]
    },
    {
     "name": "stdout",
     "output_type": "stream",
     "text": [
      "Total time elapsed: 5.490 s.\n",
      "Total time elapsed: 5.481 s.\n",
      "Total time elapsed: 5.502 s.\n",
      "Total time elapsed: 6.048 s.\n",
      "Total time elapsed: 6.295 s.\n",
      "Total time elapsed: 6.213 s.\n",
      "Total time elapsed: 6.273 s.\n",
      "Total time elapsed: 6.398 s.\n"
     ]
    },
    {
     "name": "stderr",
     "output_type": "stream",
     "text": [
      "\r",
      "  1%|▍                                        | 1/107 [00:52<1:32:20, 52.27s/it]"
     ]
    },
    {
     "name": "stdout",
     "output_type": "stream",
     "text": [
      "Total time elapsed: 6.087 s.\n",
      "Total time elapsed: 6.524 s.\n",
      "Total time elapsed: 6.561 s.\n",
      "Total time elapsed: 6.233 s.\n",
      "Total time elapsed: 6.247 s.\n",
      "Total time elapsed: 6.218 s.\n",
      "Total time elapsed: 6.242 s.\n",
      "Total time elapsed: 6.225 s.\n"
     ]
    },
    {
     "name": "stderr",
     "output_type": "stream",
     "text": [
      "\r",
      "  2%|▊                                        | 2/107 [01:47<1:34:23, 53.94s/it]"
     ]
    },
    {
     "name": "stdout",
     "output_type": "stream",
     "text": [
      "Total time elapsed: 6.585 s.\n",
      "Total time elapsed: 6.707 s.\n",
      "Total time elapsed: 6.504 s.\n",
      "Total time elapsed: 6.201 s.\n",
      "Total time elapsed: 6.265 s.\n",
      "Total time elapsed: 6.131 s.\n",
      "Total time elapsed: 6.253 s.\n",
      "Total time elapsed: 6.374 s.\n"
     ]
    },
    {
     "name": "stderr",
     "output_type": "stream",
     "text": [
      "\r",
      "  3%|█▏                                       | 3/107 [02:43<1:34:52, 54.73s/it]"
     ]
    },
    {
     "name": "stdout",
     "output_type": "stream",
     "text": [
      "Total time elapsed: 6.302 s.\n",
      "Total time elapsed: 6.228 s.\n",
      "Total time elapsed: 6.304 s.\n",
      "Total time elapsed: 6.412 s.\n",
      "Total time elapsed: 6.440 s.\n",
      "Total time elapsed: 6.658 s.\n",
      "Total time elapsed: 6.448 s.\n",
      "Total time elapsed: 6.478 s.\n"
     ]
    },
    {
     "name": "stderr",
     "output_type": "stream",
     "text": [
      "\r",
      "  4%|█▌                                       | 4/107 [03:39<1:34:49, 55.24s/it]"
     ]
    },
    {
     "name": "stdout",
     "output_type": "stream",
     "text": [
      "Total time elapsed: 6.669 s.\n",
      "Total time elapsed: 6.452 s.\n",
      "Total time elapsed: 6.227 s.\n",
      "Total time elapsed: 6.309 s.\n",
      "Total time elapsed: 6.211 s.\n",
      "Total time elapsed: 6.649 s.\n",
      "Total time elapsed: 6.753 s.\n",
      "Total time elapsed: 6.576 s.\n"
     ]
    },
    {
     "name": "stderr",
     "output_type": "stream",
     "text": [
      "\r",
      "  5%|█▉                                       | 5/107 [04:35<1:34:44, 55.73s/it]"
     ]
    },
    {
     "name": "stdout",
     "output_type": "stream",
     "text": [
      "Total time elapsed: 6.383 s.\n",
      "Total time elapsed: 6.392 s.\n",
      "Total time elapsed: 6.258 s.\n",
      "Total time elapsed: 6.166 s.\n",
      "Total time elapsed: 6.764 s.\n",
      "Total time elapsed: 7.064 s.\n",
      "Total time elapsed: 6.347 s.\n",
      "Total time elapsed: 6.699 s.\n"
     ]
    },
    {
     "name": "stderr",
     "output_type": "stream",
     "text": [
      "\r",
      "  6%|██▎                                      | 6/107 [05:32<1:34:29, 56.13s/it]"
     ]
    },
    {
     "name": "stdout",
     "output_type": "stream",
     "text": [
      "Total time elapsed: 6.730 s.\n",
      "Total time elapsed: 8.356 s.\n",
      "Total time elapsed: 8.474 s.\n",
      "Total time elapsed: 8.271 s.\n",
      "Total time elapsed: 8.264 s.\n",
      "Total time elapsed: 7.981 s.\n",
      "Total time elapsed: 6.612 s.\n",
      "Total time elapsed: 6.861 s.\n"
     ]
    },
    {
     "name": "stderr",
     "output_type": "stream",
     "text": [
      "\r",
      "  7%|██▋                                      | 7/107 [06:39<1:39:29, 59.69s/it]"
     ]
    },
    {
     "name": "stdout",
     "output_type": "stream",
     "text": [
      "Total time elapsed: 6.718 s.\n",
      "Total time elapsed: 6.858 s.\n",
      "Total time elapsed: 6.653 s.\n",
      "Total time elapsed: 6.684 s.\n",
      "Total time elapsed: 6.940 s.\n",
      "Total time elapsed: 6.613 s.\n",
      "Total time elapsed: 6.593 s.\n",
      "Total time elapsed: 6.295 s.\n"
     ]
    },
    {
     "name": "stderr",
     "output_type": "stream",
     "text": [
      "\r",
      "  7%|███                                      | 8/107 [07:37<1:37:47, 59.27s/it]"
     ]
    },
    {
     "name": "stdout",
     "output_type": "stream",
     "text": [
      "Total time elapsed: 6.681 s.\n",
      "Total time elapsed: 6.867 s.\n",
      "Total time elapsed: 6.518 s.\n",
      "Total time elapsed: 6.292 s.\n",
      "Total time elapsed: 6.571 s.\n",
      "Total time elapsed: 6.897 s.\n",
      "Total time elapsed: 6.500 s.\n",
      "Total time elapsed: 6.375 s.\n"
     ]
    },
    {
     "name": "stderr",
     "output_type": "stream",
     "text": [
      "\r",
      "  8%|███▍                                     | 9/107 [08:35<1:35:56, 58.74s/it]"
     ]
    },
    {
     "name": "stdout",
     "output_type": "stream",
     "text": [
      "Total time elapsed: 6.855 s.\n",
      "Total time elapsed: 6.612 s.\n",
      "Total time elapsed: 7.595 s.\n",
      "Total time elapsed: 6.611 s.\n",
      "Total time elapsed: 6.470 s.\n",
      "Total time elapsed: 6.268 s.\n",
      "Total time elapsed: 6.465 s.\n",
      "Total time elapsed: 6.373 s.\n"
     ]
    },
    {
     "name": "stderr",
     "output_type": "stream",
     "text": [
      "\r",
      "  9%|███▋                                    | 10/107 [09:33<1:34:34, 58.50s/it]"
     ]
    },
    {
     "name": "stdout",
     "output_type": "stream",
     "text": [
      "Total time elapsed: 6.526 s.\n",
      "Total time elapsed: 6.520 s.\n",
      "Total time elapsed: 6.381 s.\n",
      "Total time elapsed: 6.333 s.\n",
      "Total time elapsed: 6.130 s.\n",
      "Total time elapsed: 6.335 s.\n",
      "Total time elapsed: 6.512 s.\n",
      "Total time elapsed: 6.156 s.\n"
     ]
    },
    {
     "name": "stderr",
     "output_type": "stream",
     "text": [
      "\r",
      " 10%|████                                    | 11/107 [10:29<1:32:10, 57.61s/it]"
     ]
    },
    {
     "name": "stdout",
     "output_type": "stream",
     "text": [
      "Total time elapsed: 6.207 s.\n",
      "Total time elapsed: 6.157 s.\n",
      "Total time elapsed: 6.386 s.\n",
      "Total time elapsed: 6.443 s.\n",
      "Total time elapsed: 6.572 s.\n",
      "Total time elapsed: 6.496 s.\n",
      "Total time elapsed: 6.397 s.\n",
      "Total time elapsed: 6.235 s.\n"
     ]
    },
    {
     "name": "stderr",
     "output_type": "stream",
     "text": [
      "\r",
      " 11%|████▍                                   | 12/107 [11:24<1:30:16, 57.02s/it]"
     ]
    },
    {
     "name": "stdout",
     "output_type": "stream",
     "text": [
      "Total time elapsed: 6.361 s.\n",
      "Total time elapsed: 6.333 s.\n",
      "Total time elapsed: 6.283 s.\n",
      "Total time elapsed: 6.231 s.\n",
      "Total time elapsed: 6.265 s.\n",
      "Total time elapsed: 6.117 s.\n",
      "Total time elapsed: 6.210 s.\n",
      "Total time elapsed: 6.197 s.\n"
     ]
    },
    {
     "name": "stderr",
     "output_type": "stream",
     "text": [
      "\r",
      " 12%|████▊                                   | 13/107 [12:19<1:28:15, 56.33s/it]"
     ]
    },
    {
     "name": "stdout",
     "output_type": "stream",
     "text": [
      "Total time elapsed: 6.207 s.\n",
      "Total time elapsed: 6.219 s.\n",
      "Total time elapsed: 6.180 s.\n",
      "Total time elapsed: 6.127 s.\n",
      "Total time elapsed: 6.181 s.\n",
      "Total time elapsed: 6.146 s.\n",
      "Total time elapsed: 6.195 s.\n",
      "Total time elapsed: 6.298 s.\n"
     ]
    },
    {
     "name": "stderr",
     "output_type": "stream",
     "text": [
      "\r",
      " 13%|█████▏                                  | 14/107 [13:13<1:26:24, 55.74s/it]"
     ]
    },
    {
     "name": "stdout",
     "output_type": "stream",
     "text": [
      "Total time elapsed: 6.081 s.\n",
      "Total time elapsed: 6.280 s.\n",
      "Total time elapsed: 6.552 s.\n",
      "Total time elapsed: 6.590 s.\n",
      "Total time elapsed: 6.610 s.\n",
      "Total time elapsed: 6.395 s.\n",
      "Total time elapsed: 6.412 s.\n",
      "Total time elapsed: 6.622 s.\n"
     ]
    },
    {
     "name": "stderr",
     "output_type": "stream",
     "text": [
      "\r",
      " 14%|█████▌                                  | 15/107 [14:10<1:25:48, 55.96s/it]"
     ]
    },
    {
     "name": "stdout",
     "output_type": "stream",
     "text": [
      "Total time elapsed: 6.686 s.\n",
      "Total time elapsed: 6.391 s.\n",
      "Total time elapsed: 6.400 s.\n",
      "Total time elapsed: 6.567 s.\n",
      "Total time elapsed: 6.522 s.\n",
      "Total time elapsed: 6.425 s.\n",
      "Total time elapsed: 6.612 s.\n",
      "Total time elapsed: 6.425 s.\n"
     ]
    },
    {
     "name": "stderr",
     "output_type": "stream",
     "text": [
      "\r",
      " 15%|█████▉                                  | 16/107 [15:07<1:25:16, 56.22s/it]"
     ]
    },
    {
     "name": "stdout",
     "output_type": "stream",
     "text": [
      "Total time elapsed: 6.356 s.\n",
      "Total time elapsed: 6.401 s.\n",
      "Total time elapsed: 6.492 s.\n",
      "Total time elapsed: 6.383 s.\n",
      "Total time elapsed: 6.505 s.\n",
      "Total time elapsed: 6.724 s.\n",
      "Total time elapsed: 6.637 s.\n",
      "Total time elapsed: 6.306 s.\n"
     ]
    },
    {
     "name": "stderr",
     "output_type": "stream",
     "text": [
      "\r",
      " 16%|██████▎                                 | 17/107 [16:03<1:24:34, 56.38s/it]"
     ]
    },
    {
     "name": "stdout",
     "output_type": "stream",
     "text": [
      "Total time elapsed: 6.712 s.\n",
      "Total time elapsed: 6.500 s.\n",
      "Total time elapsed: 6.364 s.\n",
      "Total time elapsed: 6.277 s.\n",
      "Total time elapsed: 6.401 s.\n",
      "Total time elapsed: 6.451 s.\n",
      "Total time elapsed: 6.434 s.\n",
      "Total time elapsed: 6.376 s.\n"
     ]
    },
    {
     "name": "stderr",
     "output_type": "stream",
     "text": [
      "\r",
      " 17%|██████▋                                 | 18/107 [17:00<1:23:37, 56.37s/it]"
     ]
    },
    {
     "name": "stdout",
     "output_type": "stream",
     "text": [
      "Total time elapsed: 6.273 s.\n",
      "Total time elapsed: 6.391 s.\n",
      "Total time elapsed: 6.297 s.\n",
      "Total time elapsed: 6.368 s.\n",
      "Total time elapsed: 6.166 s.\n",
      "Total time elapsed: 6.805 s.\n",
      "Total time elapsed: 6.613 s.\n",
      "Total time elapsed: 6.581 s.\n"
     ]
    },
    {
     "name": "stderr",
     "output_type": "stream",
     "text": [
      "\r",
      " 18%|███████                                 | 19/107 [17:56<1:22:35, 56.31s/it]"
     ]
    },
    {
     "name": "stdout",
     "output_type": "stream",
     "text": [
      "Total time elapsed: 6.457 s.\n",
      "Total time elapsed: 6.510 s.\n",
      "Total time elapsed: 6.371 s.\n",
      "Total time elapsed: 6.342 s.\n",
      "Total time elapsed: 6.425 s.\n",
      "Total time elapsed: 6.303 s.\n",
      "Total time elapsed: 6.101 s.\n",
      "Total time elapsed: 6.209 s.\n"
     ]
    },
    {
     "name": "stderr",
     "output_type": "stream",
     "text": [
      "\r",
      " 19%|███████▍                                | 20/107 [18:52<1:21:23, 56.13s/it]"
     ]
    },
    {
     "name": "stdout",
     "output_type": "stream",
     "text": [
      "Total time elapsed: 6.103 s.\n",
      "Total time elapsed: 6.060 s.\n",
      "Total time elapsed: 6.268 s.\n",
      "Total time elapsed: 6.255 s.\n",
      "Total time elapsed: 6.109 s.\n",
      "Total time elapsed: 6.160 s.\n",
      "Total time elapsed: 6.061 s.\n",
      "Total time elapsed: 6.114 s.\n"
     ]
    },
    {
     "name": "stderr",
     "output_type": "stream",
     "text": [
      "\r",
      " 20%|███████▊                                | 21/107 [19:45<1:19:23, 55.39s/it]"
     ]
    },
    {
     "name": "stdout",
     "output_type": "stream",
     "text": [
      "Total time elapsed: 6.128 s.\n",
      "Total time elapsed: 6.121 s.\n",
      "Total time elapsed: 6.141 s.\n",
      "Total time elapsed: 6.140 s.\n",
      "Total time elapsed: 6.721 s.\n",
      "Total time elapsed: 6.139 s.\n",
      "Total time elapsed: 6.193 s.\n",
      "Total time elapsed: 6.468 s.\n"
     ]
    },
    {
     "name": "stderr",
     "output_type": "stream",
     "text": [
      "\r",
      " 21%|████████▏                               | 22/107 [20:40<1:18:12, 55.21s/it]"
     ]
    },
    {
     "name": "stdout",
     "output_type": "stream",
     "text": [
      "Total time elapsed: 6.790 s.\n",
      "Total time elapsed: 6.262 s.\n",
      "Total time elapsed: 6.316 s.\n",
      "Total time elapsed: 6.227 s.\n",
      "Total time elapsed: 6.277 s.\n",
      "Total time elapsed: 6.339 s.\n",
      "Total time elapsed: 6.397 s.\n",
      "Total time elapsed: 6.244 s.\n"
     ]
    },
    {
     "name": "stderr",
     "output_type": "stream",
     "text": [
      "\r",
      " 21%|████████▌                               | 23/107 [21:35<1:17:15, 55.18s/it]"
     ]
    },
    {
     "name": "stdout",
     "output_type": "stream",
     "text": [
      "Total time elapsed: 5.026 s.\n",
      "Total time elapsed: 6.290 s.\n",
      "Total time elapsed: 6.247 s.\n",
      "Total time elapsed: 6.369 s.\n",
      "Total time elapsed: 6.293 s.\n",
      "Total time elapsed: 6.207 s.\n",
      "Total time elapsed: 6.158 s.\n",
      "Total time elapsed: 6.304 s.\n"
     ]
    },
    {
     "name": "stderr",
     "output_type": "stream",
     "text": [
      "\r",
      " 22%|████████▉                               | 24/107 [22:29<1:15:37, 54.67s/it]"
     ]
    },
    {
     "name": "stdout",
     "output_type": "stream",
     "text": [
      "Total time elapsed: 6.293 s.\n",
      "Total time elapsed: 6.320 s.\n",
      "Total time elapsed: 6.308 s.\n",
      "Total time elapsed: 6.321 s.\n",
      "Total time elapsed: 6.232 s.\n",
      "Total time elapsed: 6.327 s.\n",
      "Total time elapsed: 6.310 s.\n",
      "Total time elapsed: 6.246 s.\n"
     ]
    },
    {
     "name": "stderr",
     "output_type": "stream",
     "text": [
      "\r",
      " 23%|█████████▎                              | 25/107 [23:24<1:14:52, 54.79s/it]"
     ]
    },
    {
     "name": "stdout",
     "output_type": "stream",
     "text": [
      "Total time elapsed: 6.286 s.\n",
      "Total time elapsed: 6.321 s.\n",
      "Total time elapsed: 6.706 s.\n",
      "Total time elapsed: 6.586 s.\n",
      "Total time elapsed: 6.535 s.\n",
      "Total time elapsed: 6.584 s.\n",
      "Total time elapsed: 6.296 s.\n",
      "Total time elapsed: 6.157 s.\n"
     ]
    },
    {
     "name": "stderr",
     "output_type": "stream",
     "text": [
      "\r",
      " 24%|█████████▋                              | 26/107 [24:20<1:14:34, 55.24s/it]"
     ]
    },
    {
     "name": "stdout",
     "output_type": "stream",
     "text": [
      "Total time elapsed: 6.150 s.\n",
      "Total time elapsed: 6.265 s.\n",
      "Total time elapsed: 6.202 s.\n",
      "Total time elapsed: 6.230 s.\n",
      "Total time elapsed: 6.358 s.\n",
      "Total time elapsed: 6.195 s.\n",
      "Total time elapsed: 6.105 s.\n",
      "Total time elapsed: 6.234 s.\n"
     ]
    },
    {
     "name": "stderr",
     "output_type": "stream",
     "text": [
      "\r",
      " 25%|██████████                              | 27/107 [25:15<1:13:19, 54.99s/it]"
     ]
    },
    {
     "name": "stdout",
     "output_type": "stream",
     "text": [
      "Total time elapsed: 6.275 s.\n",
      "Total time elapsed: 6.244 s.\n",
      "Total time elapsed: 6.110 s.\n",
      "Total time elapsed: 6.168 s.\n",
      "Total time elapsed: 6.473 s.\n",
      "Total time elapsed: 6.689 s.\n",
      "Total time elapsed: 6.387 s.\n",
      "Total time elapsed: 6.381 s.\n"
     ]
    },
    {
     "name": "stderr",
     "output_type": "stream",
     "text": [
      "\r",
      " 26%|██████████▍                             | 28/107 [26:10<1:12:39, 55.18s/it]"
     ]
    },
    {
     "name": "stdout",
     "output_type": "stream",
     "text": [
      "Total time elapsed: 6.450 s.\n",
      "Total time elapsed: 6.508 s.\n",
      "Total time elapsed: 6.481 s.\n",
      "Total time elapsed: 6.304 s.\n",
      "Total time elapsed: 6.172 s.\n",
      "Total time elapsed: 6.286 s.\n",
      "Total time elapsed: 6.241 s.\n",
      "Total time elapsed: 6.330 s.\n"
     ]
    },
    {
     "name": "stderr",
     "output_type": "stream",
     "text": [
      "\r",
      " 27%|██████████▊                             | 29/107 [27:05<1:11:44, 55.18s/it]"
     ]
    },
    {
     "name": "stdout",
     "output_type": "stream",
     "text": [
      "Total time elapsed: 6.322 s.\n",
      "Total time elapsed: 6.271 s.\n",
      "Total time elapsed: 6.217 s.\n",
      "Total time elapsed: 6.230 s.\n",
      "Total time elapsed: 6.278 s.\n",
      "Total time elapsed: 6.234 s.\n",
      "Total time elapsed: 6.155 s.\n",
      "Total time elapsed: 6.659 s.\n"
     ]
    },
    {
     "name": "stderr",
     "output_type": "stream",
     "text": [
      "\r",
      " 28%|███████████▏                            | 30/107 [28:00<1:10:46, 55.14s/it]"
     ]
    },
    {
     "name": "stdout",
     "output_type": "stream",
     "text": [
      "Total time elapsed: 6.614 s.\n",
      "Total time elapsed: 6.913 s.\n",
      "Total time elapsed: 6.311 s.\n",
      "Total time elapsed: 6.312 s.\n",
      "Total time elapsed: 6.152 s.\n",
      "Total time elapsed: 6.180 s.\n",
      "Total time elapsed: 6.312 s.\n",
      "Total time elapsed: 6.245 s.\n"
     ]
    },
    {
     "name": "stderr",
     "output_type": "stream",
     "text": [
      "\r",
      " 29%|███████████▌                            | 31/107 [28:56<1:10:07, 55.36s/it]"
     ]
    },
    {
     "name": "stdout",
     "output_type": "stream",
     "text": [
      "Total time elapsed: 6.391 s.\n",
      "Total time elapsed: 6.350 s.\n",
      "Total time elapsed: 6.552 s.\n",
      "Total time elapsed: 6.290 s.\n",
      "Total time elapsed: 6.211 s.\n",
      "Total time elapsed: 6.345 s.\n",
      "Total time elapsed: 6.286 s.\n",
      "Total time elapsed: 6.404 s.\n"
     ]
    },
    {
     "name": "stderr",
     "output_type": "stream",
     "text": [
      "\r",
      " 30%|███████████▉                            | 32/107 [29:52<1:09:19, 55.46s/it]"
     ]
    },
    {
     "name": "stdout",
     "output_type": "stream",
     "text": [
      "Total time elapsed: 6.621 s.\n",
      "Total time elapsed: 6.292 s.\n",
      "Total time elapsed: 6.374 s.\n",
      "Total time elapsed: 6.218 s.\n",
      "Total time elapsed: 6.157 s.\n",
      "Total time elapsed: 6.264 s.\n",
      "Total time elapsed: 6.156 s.\n",
      "Total time elapsed: 6.129 s.\n"
     ]
    },
    {
     "name": "stderr",
     "output_type": "stream",
     "text": [
      "\r",
      " 31%|████████████▎                           | 33/107 [30:47<1:08:17, 55.38s/it]"
     ]
    },
    {
     "name": "stdout",
     "output_type": "stream",
     "text": [
      "Total time elapsed: 6.147 s.\n",
      "Total time elapsed: 6.167 s.\n",
      "Total time elapsed: 6.164 s.\n",
      "Total time elapsed: 6.081 s.\n",
      "Total time elapsed: 6.161 s.\n",
      "Total time elapsed: 6.306 s.\n",
      "Total time elapsed: 6.887 s.\n",
      "Total time elapsed: 6.434 s.\n"
     ]
    },
    {
     "name": "stderr",
     "output_type": "stream",
     "text": [
      "\r",
      " 32%|████████████▋                           | 34/107 [31:42<1:07:21, 55.36s/it]"
     ]
    },
    {
     "name": "stdout",
     "output_type": "stream",
     "text": [
      "Total time elapsed: 6.036 s.\n",
      "Total time elapsed: 6.256 s.\n",
      "Total time elapsed: 6.221 s.\n",
      "Total time elapsed: 6.180 s.\n",
      "Total time elapsed: 6.195 s.\n",
      "Total time elapsed: 6.276 s.\n",
      "Total time elapsed: 6.606 s.\n",
      "Total time elapsed: 6.499 s.\n"
     ]
    },
    {
     "name": "stderr",
     "output_type": "stream",
     "text": [
      "\r",
      " 33%|█████████████                           | 35/107 [32:38<1:06:20, 55.29s/it]"
     ]
    },
    {
     "name": "stdout",
     "output_type": "stream",
     "text": [
      "Total time elapsed: 6.387 s.\n",
      "Total time elapsed: 6.247 s.\n",
      "Total time elapsed: 6.311 s.\n",
      "Total time elapsed: 6.353 s.\n",
      "Total time elapsed: 6.470 s.\n",
      "Total time elapsed: 6.404 s.\n",
      "Total time elapsed: 6.229 s.\n",
      "Total time elapsed: 6.090 s.\n"
     ]
    },
    {
     "name": "stderr",
     "output_type": "stream",
     "text": [
      "\r",
      " 34%|█████████████▍                          | 36/107 [33:33<1:05:25, 55.29s/it]"
     ]
    },
    {
     "name": "stdout",
     "output_type": "stream",
     "text": [
      "Total time elapsed: 6.621 s.\n",
      "Total time elapsed: 6.711 s.\n",
      "Total time elapsed: 6.357 s.\n",
      "Total time elapsed: 6.485 s.\n",
      "Total time elapsed: 6.471 s.\n",
      "Total time elapsed: 6.198 s.\n",
      "Total time elapsed: 6.178 s.\n",
      "Total time elapsed: 6.201 s.\n"
     ]
    },
    {
     "name": "stderr",
     "output_type": "stream",
     "text": [
      "\r",
      " 35%|█████████████▊                          | 37/107 [34:29<1:04:44, 55.49s/it]"
     ]
    },
    {
     "name": "stdout",
     "output_type": "stream",
     "text": [
      "Total time elapsed: 6.134 s.\n",
      "Total time elapsed: 6.256 s.\n",
      "Total time elapsed: 6.194 s.\n",
      "Total time elapsed: 6.372 s.\n",
      "Total time elapsed: 6.197 s.\n",
      "Total time elapsed: 6.304 s.\n",
      "Total time elapsed: 6.275 s.\n",
      "Total time elapsed: 6.621 s.\n"
     ]
    },
    {
     "name": "stderr",
     "output_type": "stream",
     "text": [
      "\r",
      " 36%|██████████████▏                         | 38/107 [35:24<1:03:41, 55.38s/it]"
     ]
    },
    {
     "name": "stdout",
     "output_type": "stream",
     "text": [
      "Total time elapsed: 6.468 s.\n",
      "Total time elapsed: 6.006 s.\n",
      "Total time elapsed: 6.131 s.\n",
      "Total time elapsed: 6.129 s.\n",
      "Total time elapsed: 6.649 s.\n",
      "Total time elapsed: 6.537 s.\n",
      "Total time elapsed: 6.736 s.\n",
      "Total time elapsed: 6.257 s.\n"
     ]
    },
    {
     "name": "stderr",
     "output_type": "stream",
     "text": [
      "\r",
      " 36%|██████████████▌                         | 39/107 [36:20<1:02:52, 55.47s/it]"
     ]
    },
    {
     "name": "stdout",
     "output_type": "stream",
     "text": [
      "Total time elapsed: 6.163 s.\n",
      "Total time elapsed: 6.226 s.\n",
      "Total time elapsed: 6.232 s.\n",
      "Total time elapsed: 5.989 s.\n",
      "Total time elapsed: 6.139 s.\n",
      "Total time elapsed: 6.314 s.\n",
      "Total time elapsed: 6.056 s.\n",
      "Total time elapsed: 6.307 s.\n"
     ]
    },
    {
     "name": "stderr",
     "output_type": "stream",
     "text": [
      "\r",
      " 37%|██████████████▉                         | 40/107 [37:14<1:01:27, 55.04s/it]"
     ]
    },
    {
     "name": "stdout",
     "output_type": "stream",
     "text": [
      "Total time elapsed: 6.125 s.\n",
      "Total time elapsed: 6.219 s.\n",
      "Total time elapsed: 6.166 s.\n",
      "Total time elapsed: 6.110 s.\n",
      "Total time elapsed: 6.056 s.\n",
      "Total time elapsed: 6.196 s.\n",
      "Total time elapsed: 6.276 s.\n",
      "Total time elapsed: 6.015 s.\n"
     ]
    },
    {
     "name": "stderr",
     "output_type": "stream",
     "text": [
      "\r",
      " 38%|███████████████▎                        | 41/107 [38:07<1:00:08, 54.67s/it]"
     ]
    },
    {
     "name": "stdout",
     "output_type": "stream",
     "text": [
      "Total time elapsed: 6.164 s.\n",
      "Total time elapsed: 6.127 s.\n",
      "Total time elapsed: 6.108 s.\n",
      "Total time elapsed: 6.097 s.\n",
      "Total time elapsed: 6.229 s.\n",
      "Total time elapsed: 6.106 s.\n",
      "Total time elapsed: 6.175 s.\n",
      "Total time elapsed: 6.186 s.\n"
     ]
    },
    {
     "name": "stderr",
     "output_type": "stream",
     "text": [
      "\r",
      " 39%|████████████████▍                         | 42/107 [39:02<59:01, 54.48s/it]"
     ]
    },
    {
     "name": "stdout",
     "output_type": "stream",
     "text": [
      "Total time elapsed: 6.161 s.\n",
      "Total time elapsed: 6.582 s.\n",
      "Total time elapsed: 6.291 s.\n",
      "Total time elapsed: 6.275 s.\n",
      "Total time elapsed: 6.297 s.\n",
      "Total time elapsed: 6.416 s.\n",
      "Total time elapsed: 6.301 s.\n",
      "Total time elapsed: 6.356 s.\n"
     ]
    },
    {
     "name": "stderr",
     "output_type": "stream",
     "text": [
      "\r",
      " 40%|████████████████▉                         | 43/107 [39:57<58:26, 54.78s/it]"
     ]
    },
    {
     "name": "stdout",
     "output_type": "stream",
     "text": [
      "Total time elapsed: 6.448 s.\n",
      "Total time elapsed: 6.383 s.\n",
      "Total time elapsed: 6.147 s.\n",
      "Total time elapsed: 6.261 s.\n",
      "Total time elapsed: 6.215 s.\n",
      "Total time elapsed: 6.163 s.\n",
      "Total time elapsed: 6.345 s.\n",
      "Total time elapsed: 6.183 s.\n"
     ]
    },
    {
     "name": "stderr",
     "output_type": "stream",
     "text": [
      "\r",
      " 41%|█████████████████▎                        | 44/107 [40:52<57:30, 54.77s/it]"
     ]
    },
    {
     "name": "stdout",
     "output_type": "stream",
     "text": [
      "Total time elapsed: 6.228 s.\n",
      "Total time elapsed: 6.281 s.\n",
      "Total time elapsed: 6.526 s.\n",
      "Total time elapsed: 6.154 s.\n",
      "Total time elapsed: 6.218 s.\n",
      "Total time elapsed: 6.061 s.\n",
      "Total time elapsed: 3.664 s.\n",
      "Total time elapsed: 6.320 s.\n"
     ]
    },
    {
     "name": "stderr",
     "output_type": "stream",
     "text": [
      "\r",
      " 42%|█████████████████▋                        | 45/107 [41:44<55:46, 53.97s/it]"
     ]
    },
    {
     "name": "stdout",
     "output_type": "stream",
     "text": [
      "Total time elapsed: 6.258 s.\n",
      "Total time elapsed: 6.268 s.\n",
      "Total time elapsed: 6.348 s.\n",
      "Total time elapsed: 6.576 s.\n",
      "Total time elapsed: 6.111 s.\n",
      "Total time elapsed: 6.133 s.\n",
      "Total time elapsed: 6.141 s.\n",
      "Total time elapsed: 6.143 s.\n"
     ]
    },
    {
     "name": "stderr",
     "output_type": "stream",
     "text": [
      "\r",
      " 43%|██████████████████                        | 46/107 [42:39<55:05, 54.20s/it]"
     ]
    },
    {
     "name": "stdout",
     "output_type": "stream",
     "text": [
      "Total time elapsed: 6.511 s.\n",
      "Total time elapsed: 6.121 s.\n",
      "Total time elapsed: 6.583 s.\n",
      "Total time elapsed: 6.435 s.\n",
      "Total time elapsed: 6.246 s.\n",
      "Total time elapsed: 6.187 s.\n",
      "Total time elapsed: 6.568 s.\n",
      "Total time elapsed: 6.179 s.\n"
     ]
    },
    {
     "name": "stderr",
     "output_type": "stream",
     "text": [
      "\r",
      " 44%|██████████████████▍                       | 47/107 [43:34<54:35, 54.59s/it]"
     ]
    },
    {
     "name": "stdout",
     "output_type": "stream",
     "text": [
      "Total time elapsed: 6.386 s.\n",
      "Total time elapsed: 6.113 s.\n",
      "Total time elapsed: 6.119 s.\n",
      "Total time elapsed: 6.700 s.\n",
      "Total time elapsed: 6.210 s.\n",
      "Total time elapsed: 6.391 s.\n",
      "Total time elapsed: 6.850 s.\n",
      "Total time elapsed: 6.722 s.\n"
     ]
    },
    {
     "name": "stderr",
     "output_type": "stream",
     "text": [
      "\r",
      " 45%|██████████████████▊                       | 48/107 [44:30<54:09, 55.07s/it]"
     ]
    },
    {
     "name": "stdout",
     "output_type": "stream",
     "text": [
      "Total time elapsed: 6.428 s.\n",
      "Total time elapsed: 6.180 s.\n",
      "Total time elapsed: 6.498 s.\n",
      "Total time elapsed: 6.150 s.\n",
      "Total time elapsed: 6.296 s.\n",
      "Total time elapsed: 6.245 s.\n",
      "Total time elapsed: 6.693 s.\n",
      "Total time elapsed: 6.081 s.\n"
     ]
    },
    {
     "name": "stderr",
     "output_type": "stream",
     "text": [
      "\r",
      " 46%|███████████████████▏                      | 49/107 [45:26<53:17, 55.13s/it]"
     ]
    },
    {
     "name": "stdout",
     "output_type": "stream",
     "text": [
      "Total time elapsed: 6.313 s.\n",
      "Total time elapsed: 6.090 s.\n",
      "Total time elapsed: 6.174 s.\n",
      "Total time elapsed: 6.144 s.\n",
      "Total time elapsed: 6.379 s.\n",
      "Total time elapsed: 6.164 s.\n",
      "Total time elapsed: 6.088 s.\n",
      "Total time elapsed: 6.385 s.\n"
     ]
    },
    {
     "name": "stderr",
     "output_type": "stream",
     "text": [
      "\r",
      " 47%|███████████████████▋                      | 50/107 [46:20<52:11, 54.94s/it]"
     ]
    },
    {
     "name": "stdout",
     "output_type": "stream",
     "text": [
      "Total time elapsed: 6.000 s.\n",
      "Total time elapsed: 6.230 s.\n",
      "Total time elapsed: 6.267 s.\n",
      "Total time elapsed: 6.269 s.\n",
      "Total time elapsed: 6.487 s.\n",
      "Total time elapsed: 6.164 s.\n",
      "Total time elapsed: 6.287 s.\n",
      "Total time elapsed: 6.212 s.\n"
     ]
    },
    {
     "name": "stderr",
     "output_type": "stream",
     "text": [
      "\r",
      " 48%|████████████████████                      | 51/107 [47:15<51:11, 54.84s/it]"
     ]
    },
    {
     "name": "stdout",
     "output_type": "stream",
     "text": [
      "Total time elapsed: 6.183 s.\n",
      "Total time elapsed: 6.182 s.\n",
      "Total time elapsed: 6.204 s.\n",
      "Total time elapsed: 6.340 s.\n",
      "Total time elapsed: 6.278 s.\n",
      "Total time elapsed: 6.146 s.\n",
      "Total time elapsed: 6.327 s.\n",
      "Total time elapsed: 6.221 s.\n"
     ]
    },
    {
     "name": "stderr",
     "output_type": "stream",
     "text": [
      "\r",
      " 49%|████████████████████▍                     | 52/107 [48:09<50:12, 54.78s/it]"
     ]
    },
    {
     "name": "stdout",
     "output_type": "stream",
     "text": [
      "Total time elapsed: 6.220 s.\n",
      "Total time elapsed: 6.154 s.\n",
      "Total time elapsed: 6.287 s.\n",
      "Total time elapsed: 6.198 s.\n",
      "Total time elapsed: 6.106 s.\n",
      "Total time elapsed: 6.190 s.\n",
      "Total time elapsed: 6.210 s.\n",
      "Total time elapsed: 6.257 s.\n"
     ]
    },
    {
     "name": "stderr",
     "output_type": "stream",
     "text": [
      "\r",
      " 50%|████████████████████▊                     | 53/107 [49:04<49:11, 54.65s/it]"
     ]
    },
    {
     "name": "stdout",
     "output_type": "stream",
     "text": [
      "Total time elapsed: 6.336 s.\n",
      "Total time elapsed: 6.226 s.\n",
      "Total time elapsed: 6.169 s.\n",
      "Total time elapsed: 6.217 s.\n",
      "Total time elapsed: 6.258 s.\n",
      "Total time elapsed: 6.183 s.\n",
      "Total time elapsed: 6.243 s.\n",
      "Total time elapsed: 6.114 s.\n"
     ]
    },
    {
     "name": "stderr",
     "output_type": "stream",
     "text": [
      "\r",
      " 50%|█████████████████████▏                    | 54/107 [49:58<48:13, 54.60s/it]"
     ]
    },
    {
     "name": "stdout",
     "output_type": "stream",
     "text": [
      "Total time elapsed: 6.205 s.\n",
      "Total time elapsed: 6.321 s.\n",
      "Total time elapsed: 6.303 s.\n",
      "Total time elapsed: 6.432 s.\n",
      "Total time elapsed: 6.895 s.\n",
      "Total time elapsed: 6.159 s.\n",
      "Total time elapsed: 6.699 s.\n",
      "Total time elapsed: 6.808 s.\n"
     ]
    },
    {
     "name": "stderr",
     "output_type": "stream",
     "text": [
      "\r",
      " 51%|█████████████████████▌                    | 55/107 [50:55<47:51, 55.21s/it]"
     ]
    },
    {
     "name": "stdout",
     "output_type": "stream",
     "text": [
      "Total time elapsed: 6.689 s.\n",
      "Total time elapsed: 6.668 s.\n",
      "Total time elapsed: 6.429 s.\n",
      "Total time elapsed: 6.386 s.\n",
      "Total time elapsed: 6.260 s.\n",
      "Total time elapsed: 6.382 s.\n",
      "Total time elapsed: 6.532 s.\n",
      "Total time elapsed: 6.374 s.\n"
     ]
    },
    {
     "name": "stderr",
     "output_type": "stream",
     "text": [
      "\r",
      " 52%|█████████████████████▉                    | 56/107 [51:51<47:15, 55.60s/it]"
     ]
    },
    {
     "name": "stdout",
     "output_type": "stream",
     "text": [
      "Total time elapsed: 6.504 s.\n",
      "Total time elapsed: 7.060 s.\n",
      "Total time elapsed: 7.052 s.\n",
      "Total time elapsed: 6.690 s.\n",
      "Total time elapsed: 6.770 s.\n",
      "Total time elapsed: 6.939 s.\n",
      "Total time elapsed: 6.994 s.\n",
      "Total time elapsed: 6.452 s.\n"
     ]
    },
    {
     "name": "stderr",
     "output_type": "stream",
     "text": [
      "\r",
      " 53%|██████████████████████▎                   | 57/107 [52:51<47:15, 56.71s/it]"
     ]
    },
    {
     "name": "stdout",
     "output_type": "stream",
     "text": [
      "Total time elapsed: 6.826 s.\n",
      "Total time elapsed: 6.681 s.\n",
      "Total time elapsed: 6.566 s.\n",
      "Total time elapsed: 6.558 s.\n",
      "Total time elapsed: 6.659 s.\n",
      "Total time elapsed: 6.698 s.\n",
      "Total time elapsed: 6.745 s.\n",
      "Total time elapsed: 6.979 s.\n"
     ]
    },
    {
     "name": "stderr",
     "output_type": "stream",
     "text": [
      "\r",
      " 54%|██████████████████████▊                   | 58/107 [53:49<46:49, 57.33s/it]"
     ]
    },
    {
     "name": "stdout",
     "output_type": "stream",
     "text": [
      "Total time elapsed: 6.252 s.\n",
      "Total time elapsed: 6.389 s.\n",
      "Total time elapsed: 6.708 s.\n",
      "Total time elapsed: 6.348 s.\n",
      "Total time elapsed: 6.449 s.\n",
      "Total time elapsed: 6.952 s.\n",
      "Total time elapsed: 6.303 s.\n",
      "Total time elapsed: 6.664 s.\n"
     ]
    },
    {
     "name": "stderr",
     "output_type": "stream",
     "text": [
      "\r",
      " 55%|███████████████████████▏                  | 59/107 [54:46<45:46, 57.21s/it]"
     ]
    },
    {
     "name": "stdout",
     "output_type": "stream",
     "text": [
      "Total time elapsed: 6.424 s.\n",
      "Total time elapsed: 6.796 s.\n",
      "Total time elapsed: 6.983 s.\n",
      "Total time elapsed: 6.592 s.\n",
      "Total time elapsed: 6.368 s.\n",
      "Total time elapsed: 6.337 s.\n",
      "Total time elapsed: 6.575 s.\n",
      "Total time elapsed: 6.333 s.\n"
     ]
    },
    {
     "name": "stderr",
     "output_type": "stream",
     "text": [
      "\r",
      " 56%|███████████████████████▌                  | 60/107 [55:44<44:52, 57.29s/it]"
     ]
    },
    {
     "name": "stdout",
     "output_type": "stream",
     "text": [
      "Total time elapsed: 6.252 s.\n",
      "Total time elapsed: 6.293 s.\n",
      "Total time elapsed: 6.844 s.\n",
      "Total time elapsed: 6.349 s.\n",
      "Total time elapsed: 6.533 s.\n",
      "Total time elapsed: 6.659 s.\n",
      "Total time elapsed: 6.298 s.\n",
      "Total time elapsed: 6.311 s.\n"
     ]
    },
    {
     "name": "stderr",
     "output_type": "stream",
     "text": [
      "\r",
      " 57%|███████████████████████▉                  | 61/107 [56:40<43:46, 57.09s/it]"
     ]
    },
    {
     "name": "stdout",
     "output_type": "stream",
     "text": [
      "Total time elapsed: 6.693 s.\n",
      "Total time elapsed: 6.142 s.\n",
      "Total time elapsed: 6.227 s.\n",
      "Total time elapsed: 6.110 s.\n",
      "Total time elapsed: 6.331 s.\n",
      "Total time elapsed: 6.820 s.\n",
      "Total time elapsed: 6.394 s.\n",
      "Total time elapsed: 6.457 s.\n"
     ]
    },
    {
     "name": "stderr",
     "output_type": "stream",
     "text": [
      "\r",
      " 58%|████████████████████████▎                 | 62/107 [57:36<42:35, 56.79s/it]"
     ]
    },
    {
     "name": "stdout",
     "output_type": "stream",
     "text": [
      "Total time elapsed: 6.730 s.\n",
      "Total time elapsed: 6.627 s.\n",
      "Total time elapsed: 6.794 s.\n",
      "Total time elapsed: 6.555 s.\n",
      "Total time elapsed: 6.190 s.\n",
      "Total time elapsed: 6.228 s.\n",
      "Total time elapsed: 6.416 s.\n",
      "Total time elapsed: 6.264 s.\n"
     ]
    },
    {
     "name": "stderr",
     "output_type": "stream",
     "text": [
      "\r",
      " 59%|████████████████████████▋                 | 63/107 [58:33<41:39, 56.81s/it]"
     ]
    },
    {
     "name": "stdout",
     "output_type": "stream",
     "text": [
      "Total time elapsed: 6.270 s.\n",
      "Total time elapsed: 6.189 s.\n",
      "Total time elapsed: 6.579 s.\n",
      "Total time elapsed: 6.376 s.\n",
      "Total time elapsed: 6.594 s.\n",
      "Total time elapsed: 6.727 s.\n",
      "Total time elapsed: 6.739 s.\n",
      "Total time elapsed: 6.388 s.\n"
     ]
    },
    {
     "name": "stderr",
     "output_type": "stream",
     "text": [
      "\r",
      " 60%|█████████████████████████                 | 64/107 [59:30<40:37, 56.68s/it]"
     ]
    },
    {
     "name": "stdout",
     "output_type": "stream",
     "text": [
      "Total time elapsed: 6.504 s.\n",
      "Total time elapsed: 6.382 s.\n",
      "Total time elapsed: 6.412 s.\n",
      "Total time elapsed: 7.297 s.\n",
      "Total time elapsed: 7.282 s.\n",
      "Total time elapsed: 6.914 s.\n",
      "Total time elapsed: 6.635 s.\n",
      "Total time elapsed: 6.401 s.\n"
     ]
    },
    {
     "name": "stderr",
     "output_type": "stream",
     "text": [
      "\r",
      " 61%|████████████████████████▎               | 65/107 [1:00:29<40:10, 57.39s/it]"
     ]
    },
    {
     "name": "stdout",
     "output_type": "stream",
     "text": [
      "Total time elapsed: 7.356 s.\n",
      "Total time elapsed: 7.648 s.\n",
      "Total time elapsed: 6.787 s.\n",
      "Total time elapsed: 6.737 s.\n",
      "Total time elapsed: 6.667 s.\n",
      "Total time elapsed: 7.783 s.\n",
      "Total time elapsed: 6.730 s.\n",
      "Total time elapsed: 6.796 s.\n"
     ]
    },
    {
     "name": "stderr",
     "output_type": "stream",
     "text": [
      "\r",
      " 62%|████████████████████████▋               | 66/107 [1:01:31<40:13, 58.87s/it]"
     ]
    },
    {
     "name": "stdout",
     "output_type": "stream",
     "text": [
      "Total time elapsed: 6.879 s.\n",
      "Total time elapsed: 7.196 s.\n",
      "Total time elapsed: 6.817 s.\n",
      "Total time elapsed: 7.009 s.\n",
      "Total time elapsed: 6.341 s.\n",
      "Total time elapsed: 6.548 s.\n",
      "Total time elapsed: 6.602 s.\n",
      "Total time elapsed: 6.633 s.\n"
     ]
    },
    {
     "name": "stderr",
     "output_type": "stream",
     "text": [
      "\r",
      " 63%|█████████████████████████               | 67/107 [1:02:30<39:17, 58.93s/it]"
     ]
    },
    {
     "name": "stdout",
     "output_type": "stream",
     "text": [
      "Total time elapsed: 6.659 s.\n",
      "Total time elapsed: 6.616 s.\n",
      "Total time elapsed: 6.647 s.\n",
      "Total time elapsed: 6.525 s.\n",
      "Total time elapsed: 6.593 s.\n",
      "Total time elapsed: 6.786 s.\n",
      "Total time elapsed: 6.710 s.\n",
      "Total time elapsed: 6.312 s.\n"
     ]
    },
    {
     "name": "stderr",
     "output_type": "stream",
     "text": [
      "\r",
      " 64%|█████████████████████████▍              | 68/107 [1:03:28<38:05, 58.59s/it]"
     ]
    },
    {
     "name": "stdout",
     "output_type": "stream",
     "text": [
      "Total time elapsed: 6.229 s.\n",
      "Total time elapsed: 6.106 s.\n",
      "Total time elapsed: 6.141 s.\n",
      "Total time elapsed: 6.243 s.\n",
      "Total time elapsed: 6.122 s.\n",
      "Total time elapsed: 6.726 s.\n",
      "Total time elapsed: 6.718 s.\n",
      "Total time elapsed: 6.845 s.\n"
     ]
    },
    {
     "name": "stderr",
     "output_type": "stream",
     "text": [
      "\r",
      " 64%|█████████████████████████▊              | 69/107 [1:04:24<36:37, 57.82s/it]"
     ]
    },
    {
     "name": "stdout",
     "output_type": "stream",
     "text": [
      "Total time elapsed: 6.472 s.\n",
      "Total time elapsed: 6.374 s.\n",
      "Total time elapsed: 6.655 s.\n",
      "Total time elapsed: 6.608 s.\n",
      "Total time elapsed: 6.576 s.\n",
      "Total time elapsed: 6.897 s.\n",
      "Total time elapsed: 6.841 s.\n",
      "Total time elapsed: 6.422 s.\n"
     ]
    },
    {
     "name": "stderr",
     "output_type": "stream",
     "text": [
      "\r",
      " 65%|██████████████████████████▏             | 70/107 [1:05:22<35:38, 57.80s/it]"
     ]
    },
    {
     "name": "stdout",
     "output_type": "stream",
     "text": [
      "Total time elapsed: 6.556 s.\n",
      "Total time elapsed: 6.273 s.\n",
      "Total time elapsed: 6.419 s.\n",
      "Total time elapsed: 7.007 s.\n",
      "Total time elapsed: 6.977 s.\n",
      "Total time elapsed: 6.911 s.\n",
      "Total time elapsed: 6.533 s.\n",
      "Total time elapsed: 2.637 s.\n"
     ]
    },
    {
     "name": "stderr",
     "output_type": "stream",
     "text": [
      "\r",
      " 66%|██████████████████████████▌             | 71/107 [1:06:16<34:00, 56.69s/it]"
     ]
    },
    {
     "name": "stdout",
     "output_type": "stream",
     "text": [
      "Total time elapsed: 6.873 s.\n",
      "Total time elapsed: 6.607 s.\n",
      "Total time elapsed: 6.616 s.\n",
      "Total time elapsed: 6.339 s.\n",
      "Total time elapsed: 6.398 s.\n",
      "Total time elapsed: 6.576 s.\n",
      "Total time elapsed: 6.331 s.\n",
      "Total time elapsed: 6.393 s.\n"
     ]
    },
    {
     "name": "stderr",
     "output_type": "stream",
     "text": [
      "\r",
      " 67%|██████████████████████████▉             | 72/107 [1:07:13<33:06, 56.76s/it]"
     ]
    },
    {
     "name": "stdout",
     "output_type": "stream",
     "text": [
      "Total time elapsed: 6.736 s.\n",
      "Total time elapsed: 6.576 s.\n",
      "Total time elapsed: 6.535 s.\n",
      "Total time elapsed: 6.247 s.\n",
      "Total time elapsed: 6.177 s.\n",
      "Total time elapsed: 6.575 s.\n",
      "Total time elapsed: 6.266 s.\n",
      "Total time elapsed: 6.548 s.\n"
     ]
    },
    {
     "name": "stderr",
     "output_type": "stream",
     "text": [
      "\r",
      " 68%|███████████████████████████▎            | 73/107 [1:08:09<32:05, 56.63s/it]"
     ]
    },
    {
     "name": "stdout",
     "output_type": "stream",
     "text": [
      "Total time elapsed: 6.635 s.\n",
      "Total time elapsed: 6.544 s.\n",
      "Total time elapsed: 6.622 s.\n",
      "Total time elapsed: 6.360 s.\n",
      "Total time elapsed: 6.308 s.\n",
      "Total time elapsed: 6.338 s.\n",
      "Total time elapsed: 6.502 s.\n",
      "Total time elapsed: 6.886 s.\n"
     ]
    },
    {
     "name": "stderr",
     "output_type": "stream",
     "text": [
      "\r",
      " 69%|███████████████████████████▋            | 74/107 [1:09:06<31:11, 56.71s/it]"
     ]
    },
    {
     "name": "stdout",
     "output_type": "stream",
     "text": [
      "Total time elapsed: 6.509 s.\n",
      "Total time elapsed: 6.393 s.\n",
      "Total time elapsed: 6.387 s.\n",
      "Total time elapsed: 6.255 s.\n",
      "Total time elapsed: 6.408 s.\n",
      "Total time elapsed: 6.634 s.\n",
      "Total time elapsed: 6.369 s.\n",
      "Total time elapsed: 6.436 s.\n"
     ]
    },
    {
     "name": "stderr",
     "output_type": "stream",
     "text": [
      "\r",
      " 70%|████████████████████████████            | 75/107 [1:10:02<30:10, 56.57s/it]"
     ]
    },
    {
     "name": "stdout",
     "output_type": "stream",
     "text": [
      "Total time elapsed: 6.424 s.\n",
      "Total time elapsed: 6.294 s.\n",
      "Total time elapsed: 6.463 s.\n",
      "Total time elapsed: 6.289 s.\n",
      "Total time elapsed: 6.331 s.\n",
      "Total time elapsed: 6.421 s.\n",
      "Total time elapsed: 6.276 s.\n",
      "Total time elapsed: 6.233 s.\n"
     ]
    },
    {
     "name": "stderr",
     "output_type": "stream",
     "text": [
      "\r",
      " 71%|████████████████████████████▍           | 76/107 [1:10:58<29:04, 56.26s/it]"
     ]
    },
    {
     "name": "stdout",
     "output_type": "stream",
     "text": [
      "Total time elapsed: 6.352 s.\n",
      "Total time elapsed: 6.196 s.\n",
      "Total time elapsed: 6.260 s.\n",
      "Total time elapsed: 6.330 s.\n",
      "Total time elapsed: 6.440 s.\n",
      "Total time elapsed: 6.304 s.\n",
      "Total time elapsed: 6.300 s.\n",
      "Total time elapsed: 6.297 s.\n"
     ]
    },
    {
     "name": "stderr",
     "output_type": "stream",
     "text": [
      "\r",
      " 72%|████████████████████████████▊           | 77/107 [1:11:52<27:53, 55.77s/it]"
     ]
    },
    {
     "name": "stdout",
     "output_type": "stream",
     "text": [
      "Total time elapsed: 6.386 s.\n",
      "Total time elapsed: 6.269 s.\n",
      "Total time elapsed: 6.301 s.\n",
      "Total time elapsed: 6.287 s.\n",
      "Total time elapsed: 6.238 s.\n",
      "Total time elapsed: 6.287 s.\n",
      "Total time elapsed: 6.166 s.\n",
      "Total time elapsed: 6.223 s.\n"
     ]
    },
    {
     "name": "stderr",
     "output_type": "stream",
     "text": [
      "\r",
      " 73%|█████████████████████████████▏          | 78/107 [1:12:47<26:50, 55.53s/it]"
     ]
    },
    {
     "name": "stdout",
     "output_type": "stream",
     "text": [
      "Total time elapsed: 6.266 s.\n",
      "Total time elapsed: 6.294 s.\n",
      "Total time elapsed: 6.638 s.\n",
      "Total time elapsed: 6.733 s.\n",
      "Total time elapsed: 6.360 s.\n",
      "Total time elapsed: 6.489 s.\n",
      "Total time elapsed: 6.239 s.\n",
      "Total time elapsed: 6.433 s.\n"
     ]
    },
    {
     "name": "stderr",
     "output_type": "stream",
     "text": [
      "\r",
      " 74%|█████████████████████████████▌          | 79/107 [1:13:43<25:58, 55.67s/it]"
     ]
    },
    {
     "name": "stdout",
     "output_type": "stream",
     "text": [
      "Total time elapsed: 6.575 s.\n",
      "Total time elapsed: 6.530 s.\n",
      "Total time elapsed: 6.678 s.\n",
      "Total time elapsed: 6.678 s.\n",
      "Total time elapsed: 6.404 s.\n",
      "Total time elapsed: 6.608 s.\n",
      "Total time elapsed: 6.457 s.\n",
      "Total time elapsed: 6.307 s.\n"
     ]
    },
    {
     "name": "stderr",
     "output_type": "stream",
     "text": [
      "\r",
      " 75%|█████████████████████████████▉          | 80/107 [1:14:40<25:13, 56.07s/it]"
     ]
    },
    {
     "name": "stdout",
     "output_type": "stream",
     "text": [
      "Total time elapsed: 6.437 s.\n",
      "Total time elapsed: 6.486 s.\n",
      "Total time elapsed: 6.370 s.\n",
      "Total time elapsed: 6.550 s.\n",
      "Total time elapsed: 6.503 s.\n",
      "Total time elapsed: 6.318 s.\n",
      "Total time elapsed: 6.532 s.\n",
      "Total time elapsed: 6.414 s.\n"
     ]
    },
    {
     "name": "stderr",
     "output_type": "stream",
     "text": [
      "\r",
      " 76%|██████████████████████████████▎         | 81/107 [1:15:37<24:21, 56.22s/it]"
     ]
    },
    {
     "name": "stdout",
     "output_type": "stream",
     "text": [
      "Total time elapsed: 6.571 s.\n",
      "Total time elapsed: 6.685 s.\n",
      "Total time elapsed: 6.498 s.\n",
      "Total time elapsed: 6.563 s.\n",
      "Total time elapsed: 6.570 s.\n",
      "Total time elapsed: 6.633 s.\n",
      "Total time elapsed: 6.378 s.\n",
      "Total time elapsed: 6.619 s.\n"
     ]
    },
    {
     "name": "stderr",
     "output_type": "stream",
     "text": [
      "\r",
      " 77%|██████████████████████████████▋         | 82/107 [1:16:34<23:33, 56.53s/it]"
     ]
    },
    {
     "name": "stdout",
     "output_type": "stream",
     "text": [
      "Total time elapsed: 6.604 s.\n",
      "Total time elapsed: 7.147 s.\n",
      "Total time elapsed: 6.901 s.\n",
      "Total time elapsed: 6.376 s.\n",
      "Total time elapsed: 6.532 s.\n",
      "Total time elapsed: 6.326 s.\n",
      "Total time elapsed: 6.129 s.\n",
      "Total time elapsed: 6.300 s.\n"
     ]
    },
    {
     "name": "stderr",
     "output_type": "stream",
     "text": [
      "\r",
      " 78%|███████████████████████████████         | 83/107 [1:17:31<22:41, 56.73s/it]"
     ]
    },
    {
     "name": "stdout",
     "output_type": "stream",
     "text": [
      "Total time elapsed: 6.178 s.\n",
      "Total time elapsed: 6.342 s.\n",
      "Total time elapsed: 6.238 s.\n",
      "Total time elapsed: 6.176 s.\n",
      "Total time elapsed: 6.531 s.\n",
      "Total time elapsed: 6.430 s.\n",
      "Total time elapsed: 6.495 s.\n",
      "Total time elapsed: 6.184 s.\n"
     ]
    },
    {
     "name": "stderr",
     "output_type": "stream",
     "text": [
      "\r",
      " 79%|███████████████████████████████▍        | 84/107 [1:18:27<21:35, 56.32s/it]"
     ]
    },
    {
     "name": "stdout",
     "output_type": "stream",
     "text": [
      "Total time elapsed: 6.331 s.\n",
      "Total time elapsed: 6.376 s.\n",
      "Total time elapsed: 6.380 s.\n",
      "Total time elapsed: 6.711 s.\n",
      "Total time elapsed: 6.702 s.\n",
      "Total time elapsed: 6.600 s.\n",
      "Total time elapsed: 6.654 s.\n",
      "Total time elapsed: 6.827 s.\n"
     ]
    },
    {
     "name": "stderr",
     "output_type": "stream",
     "text": [
      "\r",
      " 79%|███████████████████████████████▊        | 85/107 [1:19:24<20:44, 56.56s/it]"
     ]
    },
    {
     "name": "stdout",
     "output_type": "stream",
     "text": [
      "Total time elapsed: 6.309 s.\n",
      "Total time elapsed: 6.311 s.\n",
      "Total time elapsed: 6.611 s.\n",
      "Total time elapsed: 6.552 s.\n",
      "Total time elapsed: 6.321 s.\n",
      "Total time elapsed: 6.409 s.\n",
      "Total time elapsed: 6.291 s.\n",
      "Total time elapsed: 6.771 s.\n"
     ]
    },
    {
     "name": "stderr",
     "output_type": "stream",
     "text": [
      "\r",
      " 80%|████████████████████████████████▏       | 86/107 [1:20:20<19:45, 56.45s/it]"
     ]
    },
    {
     "name": "stdout",
     "output_type": "stream",
     "text": [
      "Total time elapsed: 6.170 s.\n",
      "Total time elapsed: 6.270 s.\n",
      "Total time elapsed: 6.341 s.\n",
      "Total time elapsed: 6.161 s.\n",
      "Total time elapsed: 6.162 s.\n",
      "Total time elapsed: 7.017 s.\n",
      "Total time elapsed: 6.743 s.\n",
      "Total time elapsed: 6.607 s.\n"
     ]
    },
    {
     "name": "stderr",
     "output_type": "stream",
     "text": [
      "\r",
      " 81%|████████████████████████████████▌       | 87/107 [1:21:16<18:47, 56.39s/it]"
     ]
    },
    {
     "name": "stdout",
     "output_type": "stream",
     "text": [
      "Total time elapsed: 6.781 s.\n",
      "Total time elapsed: 6.343 s.\n",
      "Total time elapsed: 6.282 s.\n",
      "Total time elapsed: 6.353 s.\n",
      "Total time elapsed: 6.129 s.\n",
      "Total time elapsed: 6.237 s.\n",
      "Total time elapsed: 6.270 s.\n",
      "Total time elapsed: 6.248 s.\n"
     ]
    },
    {
     "name": "stderr",
     "output_type": "stream",
     "text": [
      "\r",
      " 82%|████████████████████████████████▉       | 88/107 [1:22:12<17:45, 56.06s/it]"
     ]
    },
    {
     "name": "stdout",
     "output_type": "stream",
     "text": [
      "Total time elapsed: 6.354 s.\n",
      "Total time elapsed: 6.485 s.\n",
      "Total time elapsed: 6.369 s.\n",
      "Total time elapsed: 6.263 s.\n",
      "Total time elapsed: 6.734 s.\n",
      "Total time elapsed: 6.274 s.\n",
      "Total time elapsed: 6.228 s.\n",
      "Total time elapsed: 6.089 s.\n"
     ]
    },
    {
     "name": "stderr",
     "output_type": "stream",
     "text": [
      "\r",
      " 83%|█████████████████████████████████▎      | 89/107 [1:23:07<16:45, 55.86s/it]"
     ]
    },
    {
     "name": "stdout",
     "output_type": "stream",
     "text": [
      "Total time elapsed: 6.245 s.\n",
      "Total time elapsed: 6.887 s.\n",
      "Total time elapsed: 6.570 s.\n",
      "Total time elapsed: 6.740 s.\n",
      "Total time elapsed: 6.775 s.\n",
      "Total time elapsed: 6.623 s.\n",
      "Total time elapsed: 6.271 s.\n",
      "Total time elapsed: 6.344 s.\n"
     ]
    },
    {
     "name": "stderr",
     "output_type": "stream",
     "text": [
      "\r",
      " 84%|█████████████████████████████████▋      | 90/107 [1:24:04<15:56, 56.26s/it]"
     ]
    },
    {
     "name": "stdout",
     "output_type": "stream",
     "text": [
      "Total time elapsed: 6.271 s.\n",
      "Total time elapsed: 6.210 s.\n",
      "Total time elapsed: 6.281 s.\n",
      "Total time elapsed: 6.304 s.\n",
      "Total time elapsed: 6.222 s.\n",
      "Total time elapsed: 6.260 s.\n",
      "Total time elapsed: 6.133 s.\n",
      "Total time elapsed: 6.171 s.\n"
     ]
    },
    {
     "name": "stderr",
     "output_type": "stream",
     "text": [
      "\r",
      " 85%|██████████████████████████████████      | 91/107 [1:24:59<14:51, 55.74s/it]"
     ]
    },
    {
     "name": "stdout",
     "output_type": "stream",
     "text": [
      "Total time elapsed: 6.199 s.\n",
      "Total time elapsed: 6.334 s.\n",
      "Total time elapsed: 6.311 s.\n",
      "Total time elapsed: 6.187 s.\n",
      "Total time elapsed: 6.167 s.\n",
      "Total time elapsed: 6.395 s.\n",
      "Total time elapsed: 6.303 s.\n",
      "Total time elapsed: 6.065 s.\n"
     ]
    },
    {
     "name": "stderr",
     "output_type": "stream",
     "text": [
      "\r",
      " 86%|██████████████████████████████████▍     | 92/107 [1:25:53<13:50, 55.38s/it]"
     ]
    },
    {
     "name": "stdout",
     "output_type": "stream",
     "text": [
      "Total time elapsed: 6.067 s.\n",
      "Total time elapsed: 6.228 s.\n",
      "Total time elapsed: 6.042 s.\n",
      "Total time elapsed: 6.196 s.\n",
      "Total time elapsed: 6.147 s.\n",
      "Total time elapsed: 6.257 s.\n",
      "Total time elapsed: 6.150 s.\n",
      "Total time elapsed: 6.051 s.\n"
     ]
    },
    {
     "name": "stderr",
     "output_type": "stream",
     "text": [
      "\r",
      " 87%|██████████████████████████████████▊     | 93/107 [1:26:47<12:48, 54.91s/it]"
     ]
    },
    {
     "name": "stdout",
     "output_type": "stream",
     "text": [
      "Total time elapsed: 6.207 s.\n",
      "Total time elapsed: 6.201 s.\n",
      "Total time elapsed: 6.261 s.\n",
      "Total time elapsed: 6.060 s.\n",
      "Total time elapsed: 6.320 s.\n",
      "Total time elapsed: 6.178 s.\n",
      "Total time elapsed: 6.017 s.\n",
      "Total time elapsed: 6.138 s.\n"
     ]
    },
    {
     "name": "stderr",
     "output_type": "stream",
     "text": [
      "\r",
      " 88%|███████████████████████████████████▏    | 94/107 [1:27:41<11:50, 54.65s/it]"
     ]
    },
    {
     "name": "stdout",
     "output_type": "stream",
     "text": [
      "Total time elapsed: 6.246 s.\n",
      "Total time elapsed: 6.298 s.\n",
      "Total time elapsed: 6.314 s.\n",
      "Total time elapsed: 6.371 s.\n",
      "Total time elapsed: 6.290 s.\n",
      "Total time elapsed: 6.213 s.\n",
      "Total time elapsed: 6.118 s.\n",
      "Total time elapsed: 6.004 s.\n"
     ]
    },
    {
     "name": "stderr",
     "output_type": "stream",
     "text": [
      "\r",
      " 89%|███████████████████████████████████▌    | 95/107 [1:28:36<10:55, 54.60s/it]"
     ]
    },
    {
     "name": "stdout",
     "output_type": "stream",
     "text": [
      "Total time elapsed: 6.022 s.\n",
      "Total time elapsed: 6.211 s.\n",
      "Total time elapsed: 6.208 s.\n",
      "Total time elapsed: 6.162 s.\n",
      "Total time elapsed: 6.289 s.\n",
      "Total time elapsed: 6.204 s.\n",
      "Total time elapsed: 6.211 s.\n",
      "Total time elapsed: 6.112 s.\n"
     ]
    },
    {
     "name": "stderr",
     "output_type": "stream",
     "text": [
      "\r",
      " 90%|███████████████████████████████████▉    | 96/107 [1:29:30<09:58, 54.43s/it]"
     ]
    },
    {
     "name": "stdout",
     "output_type": "stream",
     "text": [
      "Total time elapsed: 6.145 s.\n",
      "Total time elapsed: 6.095 s.\n",
      "Total time elapsed: 6.347 s.\n",
      "Total time elapsed: 6.255 s.\n",
      "Total time elapsed: 6.142 s.\n",
      "Total time elapsed: 6.108 s.\n",
      "Total time elapsed: 6.294 s.\n",
      "Total time elapsed: 6.180 s.\n"
     ]
    },
    {
     "name": "stderr",
     "output_type": "stream",
     "text": [
      "\r",
      " 91%|████████████████████████████████████▎   | 97/107 [1:30:24<09:03, 54.33s/it]"
     ]
    },
    {
     "name": "stdout",
     "output_type": "stream",
     "text": [
      "Total time elapsed: 6.583 s.\n",
      "Total time elapsed: 6.474 s.\n",
      "Total time elapsed: 6.113 s.\n",
      "Total time elapsed: 6.599 s.\n",
      "Total time elapsed: 7.113 s.\n",
      "Total time elapsed: 6.352 s.\n",
      "Total time elapsed: 6.301 s.\n",
      "Total time elapsed: 2.282 s.\n"
     ]
    },
    {
     "name": "stderr",
     "output_type": "stream",
     "text": [
      "\r",
      " 92%|████████████████████████████████████▋   | 98/107 [1:31:16<08:03, 53.73s/it]"
     ]
    },
    {
     "name": "stdout",
     "output_type": "stream",
     "text": [
      "Total time elapsed: 6.692 s.\n",
      "Total time elapsed: 7.035 s.\n",
      "Total time elapsed: 6.713 s.\n",
      "Total time elapsed: 6.872 s.\n",
      "Total time elapsed: 6.610 s.\n",
      "Total time elapsed: 6.300 s.\n",
      "Total time elapsed: 6.528 s.\n",
      "Total time elapsed: 6.609 s.\n"
     ]
    },
    {
     "name": "stderr",
     "output_type": "stream",
     "text": [
      "\r",
      " 93%|█████████████████████████████████████   | 99/107 [1:32:14<07:20, 55.11s/it]"
     ]
    },
    {
     "name": "stdout",
     "output_type": "stream",
     "text": [
      "Total time elapsed: 6.488 s.\n",
      "Total time elapsed: 6.487 s.\n",
      "Total time elapsed: 6.221 s.\n",
      "Total time elapsed: 6.446 s.\n",
      "Total time elapsed: 6.516 s.\n",
      "Total time elapsed: 6.310 s.\n",
      "Total time elapsed: 6.272 s.\n",
      "Total time elapsed: 6.451 s.\n"
     ]
    },
    {
     "name": "stderr",
     "output_type": "stream",
     "text": [
      "\r",
      " 93%|████████████████████████████████████▍  | 100/107 [1:33:10<06:27, 55.39s/it]"
     ]
    },
    {
     "name": "stdout",
     "output_type": "stream",
     "text": [
      "Total time elapsed: 6.392 s.\n",
      "Total time elapsed: 6.471 s.\n",
      "Total time elapsed: 6.332 s.\n",
      "Total time elapsed: 6.723 s.\n",
      "Total time elapsed: 6.704 s.\n",
      "Total time elapsed: 6.457 s.\n",
      "Total time elapsed: 6.189 s.\n",
      "Total time elapsed: 6.702 s.\n"
     ]
    },
    {
     "name": "stderr",
     "output_type": "stream",
     "text": [
      "\r",
      " 94%|████████████████████████████████████▊  | 101/107 [1:34:07<05:34, 55.72s/it]"
     ]
    },
    {
     "name": "stdout",
     "output_type": "stream",
     "text": [
      "Total time elapsed: 6.395 s.\n",
      "Total time elapsed: 6.292 s.\n",
      "Total time elapsed: 6.452 s.\n",
      "Total time elapsed: 6.507 s.\n",
      "Total time elapsed: 6.825 s.\n",
      "Total time elapsed: 7.016 s.\n",
      "Total time elapsed: 6.615 s.\n",
      "Total time elapsed: 6.336 s.\n"
     ]
    },
    {
     "name": "stderr",
     "output_type": "stream",
     "text": [
      "\r",
      " 95%|█████████████████████████████████████▏ | 102/107 [1:35:04<04:40, 56.18s/it]"
     ]
    },
    {
     "name": "stdout",
     "output_type": "stream",
     "text": [
      "Total time elapsed: 6.547 s.\n",
      "Total time elapsed: 6.512 s.\n",
      "Total time elapsed: 6.378 s.\n",
      "Total time elapsed: 6.262 s.\n",
      "Total time elapsed: 6.155 s.\n",
      "Total time elapsed: 6.067 s.\n",
      "Total time elapsed: 6.148 s.\n",
      "Total time elapsed: 6.213 s.\n"
     ]
    },
    {
     "name": "stderr",
     "output_type": "stream",
     "text": [
      "\r",
      " 96%|█████████████████████████████████████▌ | 103/107 [1:35:59<03:43, 55.86s/it]"
     ]
    },
    {
     "name": "stdout",
     "output_type": "stream",
     "text": [
      "Total time elapsed: 6.506 s.\n",
      "Total time elapsed: 6.402 s.\n",
      "Total time elapsed: 6.550 s.\n",
      "Total time elapsed: 6.509 s.\n",
      "Total time elapsed: 6.343 s.\n",
      "Total time elapsed: 6.514 s.\n",
      "Total time elapsed: 6.221 s.\n",
      "Total time elapsed: 6.227 s.\n"
     ]
    },
    {
     "name": "stderr",
     "output_type": "stream",
     "text": [
      "\r",
      " 97%|█████████████████████████████████████▉ | 104/107 [1:36:55<02:47, 55.92s/it]"
     ]
    },
    {
     "name": "stdout",
     "output_type": "stream",
     "text": [
      "Total time elapsed: 6.196 s.\n",
      "Total time elapsed: 6.250 s.\n",
      "Total time elapsed: 6.175 s.\n",
      "Total time elapsed: 6.175 s.\n",
      "Total time elapsed: 6.154 s.\n",
      "Total time elapsed: 6.361 s.\n",
      "Total time elapsed: 6.216 s.\n",
      "Total time elapsed: 6.111 s.\n"
     ]
    },
    {
     "name": "stderr",
     "output_type": "stream",
     "text": [
      "\r",
      " 98%|██████████████████████████████████████▎| 105/107 [1:37:50<01:50, 55.45s/it]"
     ]
    },
    {
     "name": "stdout",
     "output_type": "stream",
     "text": [
      "Total time elapsed: 6.088 s.\n",
      "Total time elapsed: 6.203 s.\n",
      "Total time elapsed: 6.090 s.\n",
      "Total time elapsed: 6.258 s.\n",
      "Total time elapsed: 6.265 s.\n",
      "Total time elapsed: 6.163 s.\n",
      "Total time elapsed: 6.206 s.\n",
      "Total time elapsed: 6.361 s.\n"
     ]
    },
    {
     "name": "stderr",
     "output_type": "stream",
     "text": [
      "\r",
      " 99%|██████████████████████████████████████▋| 106/107 [1:38:44<00:55, 55.07s/it]"
     ]
    },
    {
     "name": "stdout",
     "output_type": "stream",
     "text": [
      "Total time elapsed: 6.254 s.\n",
      "Total time elapsed: 6.366 s.\n",
      "Total time elapsed: 6.244 s.\n",
      "Total time elapsed: 6.313 s.\n",
      "Total time elapsed: 6.245 s.\n",
      "Total time elapsed: 6.234 s.\n",
      "Total time elapsed: 6.305 s.\n",
      "Total time elapsed: 6.202 s.\n"
     ]
    },
    {
     "name": "stderr",
     "output_type": "stream",
     "text": [
      "100%|███████████████████████████████████████| 107/107 [1:39:39<00:00, 55.88s/it]\n"
     ]
    }
   ],
   "source": [
    "#Experimental LSTAs determination method through the Berens\n",
    "\n",
    "#this cell calculates and saves the denoised lstas that the berens gives\n",
    "\n",
    "#IT TAKES VERY LONG TO RUN, SO RUN IT ONLY IF YOU DON'T HAVE THE BERENS OUTPUT SAVED ALREADY!!!!!\n",
    "\n",
    "exp=19\n",
    "s600=False\n",
    "\n",
    "Skip=False\n",
    "LAP4=True\n",
    "\n",
    "if exp<14:\n",
    "    if s600:\n",
    "        pert_nb=600\n",
    "        img_nb=12\n",
    "    else:\n",
    "        pert_nb=1200\n",
    "        img_nb=7\n",
    "if exp==17 or exp==14 or exp==19:\n",
    "    pert_nb=1000\n",
    "    img_nb=8\n",
    "if exp==101 or exp==102:\n",
    "    pert_nb=1200\n",
    "    img_nb=4\n",
    "\n",
    "if exp<14:\n",
    "    if s600:\n",
    "        resp=np.load('/media/samuele/Samuele_01/Exp_{0}/analysis/Response_shaped_for_Berens_exp{0}_s600.npy'.format(exp))\n",
    "        stim=np.load('/media/samuele/Samuele_01/Exp_{0}/analysis/Stimulus_shaped_for_Berens_exp{0}_s600.npy'.format(exp))\n",
    "    else:\n",
    "        resp=np.load('/media/samuele/Samuele_01/Exp_{0}/analysis/Response_shaped_for_Berens_exp{0}_s1200.npy'.format(exp))\n",
    "        stim=np.load('/media/samuele/Samuele_01/Exp_{0}/analysis/Stimulus_shaped_for_Berens_exp{0}_s1200.npy'.format(exp))\n",
    "elif exp>=14 and exp<100:\n",
    "    if LAP4: resp=np.load('/media/samuele/Samuele_01/Exp_{0}/analysis/Response_shaped_for_Berens_exp{0}_s1000_LAP4.npy'.format(exp))\n",
    "    else: resp=np.load('/media/samuele/Samuele_01/Exp_{0}/analysis/Response_shaped_for_Berens_exp{0}.npy'.format(exp))\n",
    "    stim=np.load('/media/samuele/Samuele_01/Exp_{0}/analysis/Stimulus_shaped_for_Berens_exp{0}.npy'.format(exp))\n",
    "\n",
    "else:\n",
    "    resp=np.load('/media/samuele/Samuele_01/Salamander{0}/Response_shaped_for_Berens_exp{1}.npy'.format(exp-100,exp))\n",
    "    stim=np.load('/media/samuele/Samuele_01/Salamander{0}/Stimulus_shaped_for_Berens_exp{1}.npy'.format(exp-100,exp))\n",
    "    \n",
    "cell=30\n",
    "if Skip: range_=[cell]\n",
    "else:\n",
    "    if exp==101:range_=np.array([815,816,817,821,823,842,850,857,865,868,869,871,883,886,887,888,889,892,894,903,905,907,913,914,915,916,917])\n",
    "    elif exp==102:range_=np.array([1154,1165,1167,1178,1181,1182,1183,1184,1185,1186,197,999,1000,1009,1014,1018,1029,1042,1046,1047,1051,1055,109])\n",
    "    else:range_=np.sort(np.array(Selected_cells[exp][0]+Selected_cells[exp][1]))\n",
    "    \n",
    "if exp==11:\n",
    "    if s600: pckls_folder='/media/samuele/Samuele_01/Exp_11/analysis/s600/'\n",
    "    else:pckls_folder='/media/samuele/Samuele_01/Exp_11/analysis/s1200_rasters/'\n",
    "if exp==12:\n",
    "    if s600: pckls_folder='/media/samuele/Samuele_01/Exp_12/analysis/s600/'\n",
    "    else:pckls_folder='/media/samuele/Samuele_01/Exp_12/analysis/s1200_rasters_newcode/'\n",
    "if exp==13:pckls_folder='/media/samuele/Samuele_01/Exp_13/analysis/Sam_analysis_trial/s1200_rasters_new/'\n",
    "if exp==14:\n",
    "    if LAP4: pckls_folder='/media/samuele/Samuele_01/Exp_14/analysis/s1000_lap4/'\n",
    "    else: pckls_folder='/media/samuele/Samuele_01/Exp_14/analysis/s1000/'\n",
    "if exp==17:\n",
    "    if LAP4: pckls_folder='/media/samuele/Samuele_01/Exp_17/analysis/s1000_lap4/'\n",
    "    else: pckls_folder='/media/samuele/Samuele_01/Exp_17/analysis/s1000/'\n",
    "if exp==19:\n",
    "    if LAP4: pckls_folder='/media/samuele/Samuele_01/Exp_19/analysis/s1000_lap4/'\n",
    "    else: pckls_folder='/media/samuele/Samuele_01/Exp_19/analysis/s1000/'\n",
    "\n",
    "totcell_nb=0\n",
    "cell_names=[]\n",
    "for filename in os.listdir(pckls_folder):\n",
    "    if filename.endswith(\".pkl\"):\n",
    "        cell_names.append(int(filename.split('_')[2][1:] ) )\n",
    "        totcell_nb+=1\n",
    "cell_names=np.array(cell_names)\n",
    "\n",
    "berens_LSTAS=np.zeros((len(range_),img_nb,108,108))\n",
    "exp_LSTAs_pol_ber=[]\n",
    "for cell_nb,cell in enumerate(tqdm(range_)):\n",
    "    response=resp[np.where(cell_names.argsort()==np.where(cell_names==cell)[0][0])[0][0]]\n",
    "    polarities=np.zeros((img_nb))\n",
    "    for nb,resp_to_image in enumerate(response):\n",
    "        stimulus=stim[nb]\n",
    "        size=72\n",
    "        dims =(size,size)\n",
    "        df = [24, 24] #[20,12] \n",
    "        lag=0\n",
    "        try: \n",
    "            lg = splineLG((stimulus/stimulus.max()).reshape(pert_nb, size*size), resp_to_image, dims=dims, dt=lag, df=df)\n",
    "            lg.fit(metric='corrcoef',\n",
    "                              num_iters=1000, verbose=0, tolerance=10,\n",
    "                              beta=0.010)\n",
    "            res_ber=resize(lg.w_opt.reshape((size,size)), (108, 108), anti_aliasing=True)\n",
    "        except: res_ber=np.zeros((108,108))\n",
    "        if res_ber.max()>abs(res_ber.min()):\n",
    "            if res_ber.max()-7*res_ber.std()>0: polarities[nb]=1\n",
    "            else: polarities[nb]=0\n",
    "        else:\n",
    "            if res_ber.min()+7*res_ber.std()<0: polarities[nb]=-1\n",
    "            else: polarities[nb]=0\n",
    "        berens_LSTAS[cell_nb, nb]= res_ber\n",
    "    exp_LSTAs_pol_ber.append((cell,polarities))\n",
    "#         plt.figure()\n",
    "#         plt.imshow(res_ber)\n",
    "#         print(res_ber.std(), res_ber.max(), res_ber.min())\n",
    "exp_LSTAs_pol_ber=np.array(exp_LSTAs_pol_ber, dtype=object)\n",
    "#np.save('/media/eqs8/Samuele_01/Exp_{0}/analysis/exp_LSTAS_labels_berens_exp{0}'.format(exp),exp_LSTAs_pol_ber)\n",
    "if exp<14:\n",
    "    if s600==True:\n",
    "        np.save('/media/samuele/Samuele_01/Exp_{0}/analysis/Best_denoised_LSTAS_berens_exp{0}_s600'.format(exp),berens_LSTAS)\n",
    "    else:\n",
    "        np.save('/media/samuele/Samuele_01/Exp_{0}/analysis/Best_denoised_LSTAS_berens_exp{0}_s1200'.format(exp),berens_LSTAS)\n",
    "    \n",
    "elif exp>100:np.save('/media/samuele/Samuele_01/Salamander{0}/Best_denoised_LSTAS_berens_exp{1}'.format(exp-100,exp),berens_LSTAS)\n",
    "else: \n",
    "    if LAP4: np.save('/media/samuele/Samuele_01/Exp_{0}/analysis/Best_denoised_LAP4_LSTAS_berens_exp{0}'.format(exp),berens_LSTAS)\n",
    "    else: np.save('/media/samuele/Samuele_01/Exp_{0}/analysis/Best_denoised_LSTAS_berens_exp{0}'.format(exp),berens_LSTAS)"
   ]
  },
  {
   "cell_type": "code",
   "execution_count": 37,
   "metadata": {},
   "outputs": [
    {
     "name": "stdout",
     "output_type": "stream",
     "text": [
      "0\n",
      "Inverting []\n"
     ]
    }
   ],
   "source": [
    "#this cell loads the results of the previous cell and analyzes them to predict which cells invert and which don't\n",
    "\n",
    "#this code also saves the labels for all the cells\n",
    "\n",
    "exp=19\n",
    "denoised_LSTAs=np.load('/media/samuele/Samuele_01/Exp_{0}/analysis/Best_denoised_LAP4_LSTAS_berens_exp{0}.npy'.format(exp))\n",
    "# I load the denoised LSTAs from the Berens for each experiment\n",
    "\n",
    "n_img=denoised_LSTAs.shape[1]\n",
    "\n",
    "    \n",
    "selcell=561\n",
    "\n",
    "Div=10000\n",
    "\n",
    "#thresh = 5000*Div#3500 20sigmas\n",
    "#thresh = 220*Div#3500 10sigmas\n",
    "thresh = 4000*Div#3500 15sigmas\n",
    "\n",
    "sigmas=20\n",
    "radius=15\n",
    "\n",
    "SKIP=False\n",
    "PLOT=False\n",
    "\n",
    "count=0\n",
    "invlist = []\n",
    "exp_LSTAs_pol_ber_1=[]\n",
    "if exp==101:range_=np.array([815,816,817,821,823,842,850,857,865,868,869,871,883,886,887,888,889,892,894,903,905,907,913,914,915,916,917])\n",
    "elif exp==102:range_=np.array([1154,1165,1167,1178,1181,1182,1183,1184,1185,1186,197,999,1000,1009,1014,1018,1029,1042,1046,1047,1051,1055,109])\n",
    "else:range_=np.sort(np.array(Selected_cells[exp][0]+Selected_cells[exp][1]))\n",
    "for ind,cell in enumerate(range_):\n",
    "    \n",
    "    if SKIP and cell!=selcell: continue\n",
    "#     print(cell)    \n",
    "#     ind =np.where(exp_LSTAs_pol_ber[:,0]==cell)[0][0]\n",
    "    \n",
    "    if PLOT:\n",
    "        fig=figure(figsize=(4,n_img))\n",
    "\n",
    "\n",
    "    Coor = np.zeros([2,n_img])\n",
    "    Good =  np.zeros(n_img)\n",
    "    Sign = np.zeros(n_img)\n",
    "    \n",
    "    for im in np.arange(n_img):\n",
    "        if PLOT: ax=fig.add_subplot(4,2,im+1)\n",
    "        lsta=denoised_LSTAs[ind,im]     #I select a denoised LSTA for a certain cell and a certain image\n",
    "        if np.max(abs(lsta))==0: continue\n",
    "        else:    \n",
    "            lsta = lsta/np.max(abs(lsta))   #I standardize it so that the max or min has now the value either 1 or -1 \n",
    "            if PLOT:\n",
    "                ax.imshow(lsta)\n",
    "\n",
    "            #lsta=np.abs(lsta)**2\n",
    "            lsta=np.abs(lsta)               #than I take its absolute value\n",
    "\n",
    "\n",
    "            lsta[lsta<(lsta.max()-sigmas*lsta.std())]=0  #I put to 0 everything that is below sigma stds from the maximum\n",
    "\n",
    "            Coor[0,im] = np.array(np.where(abs(lsta)==abs(lsta).max()))[0]    #I locate either the max or the min\n",
    "            Coor[1,im] = np.array(np.where(abs(lsta)==abs(lsta).max()))[1]\n",
    "\n",
    "    #         print(np.where(abs(lsta)==abs(lsta).max()))\n",
    "    #         print('Image ',str(im),denoised_LSTAs[ind,im].max(),denoised_LSTAs[ind,im].min())\n",
    "    #         print(Coor[:,im])\n",
    "    #         print(denoised_LSTAs[ind,im][int(Coor[0][im])][int(Coor[1][im])])\n",
    "\n",
    "            xlsta = np.sum(lsta,axis=0)\n",
    "            ylsta = np.sum(lsta,axis=1)\n",
    "\n",
    "            CMx = np.dot(np.arange(108),xlsta)\n",
    "            CMy = np.dot(np.arange(108),ylsta)\n",
    "\n",
    "            Ix = np.dot((np.arange(108)-CMx)**2,xlsta)\n",
    "            Iy = np.dot((np.arange(108)-CMy)**2,ylsta)\n",
    "\n",
    "            Ix = Ix/ xlsta.sum()\n",
    "            Iy = Iy/ ylsta.sum()                         #I caluclate the momentum of inertia\n",
    "\n",
    "    #         print(Ix,Iy)\n",
    "\n",
    "            if Ix<thresh and Iy<thresh:    #if the MOI is not above threshold, I consider the cell to have a LSTA\n",
    "                Good[im]=1\n",
    "                Sign[im]= np.sign(denoised_LSTAs[ind,im][int(Coor[0][im])][int(Coor[1][im])])\n",
    "                #that can be either +1 or -1 depending of whether the maximum or the minimum is bigger\n",
    "\n",
    "\n",
    "            if PLOT:\n",
    "                ax.set_xticks([])\n",
    "                ax.set_yticks([])\n",
    "                ax.set_title( str(np.round(Ix/Div)) + '   '+str(np.round(Iy/Div)) )\n",
    "\n",
    "        \n",
    "    if SKIP:\n",
    "        print(Good)\n",
    "        print(Sign)\n",
    "    #circle of trust   \n",
    "    dist=[]                  \n",
    "    if Good.sum()>1:   # If for this cell more than two images have a LSTA\n",
    "        for good_im in range(n_img):\n",
    "            for pair in range(good_im+1,n_img,1):\n",
    "                if Sign[good_im]*Sign[pair]==-1:   # if there are two cells of opposite polarity...\n",
    "                    dist.append(np.sqrt( (Coor[0,good_im]-Coor[0,pair])**2+(Coor[1,good_im]-Coor[1,pair])**2 ))\n",
    "        if len(dist)==0:   #if there are not two cells with different polarity, the cell is not inverting\n",
    "            exp_LSTAs_pol_ber_1.append((cell,Sign))\n",
    "            continue\n",
    "        if np.array(dist).mean()>radius: #....check whether their mean distance is bigger than a certain radius\n",
    "        #print(cell)\n",
    "            exp_LSTAs_pol_ber_1.append((cell,Sign))  #if it bigger, the cell is not inverting\n",
    "            continue\n",
    "#--------------\n",
    "        else:\n",
    "            if np.sum(Good)>1 and Sign.max()==1 and Sign.min()==-1:\n",
    "\n",
    "        #         print(str(cell) + ' may invert')\n",
    "                count+=1\n",
    "                invlist.append(cell)\n",
    "\n",
    "    exp_LSTAs_pol_ber_1.append((cell,Sign))\n",
    "\n",
    "print(count)\n",
    "#print('Det ',len(set(invlist).difference(circle_out)))\n",
    "\n",
    "#print(len(Intersection(set(invlist).difference(set(circle_out)),real_inverting)))\n",
    "\n",
    "#Inverting =Intersection(set(invlist).difference(set(circle_out)),real_inverting)\n",
    "# print('Inverting' , np.sort(list(Inverting)))\n",
    "print('Inverting' , np.sort(invlist))\n",
    "#print('Badly detected', set(invlist).difference(Inverting).difference(set(circle_out)))"
   ]
  },
  {
   "cell_type": "code",
   "execution_count": 38,
   "metadata": {},
   "outputs": [],
   "source": [
    "exp_LSTAs_pol_ber_1=np.array(exp_LSTAs_pol_ber_1, dtype=object)\n",
    "if exp>100:\n",
    "    np.save('/media/samuele/Samuele_01/Salamander{0}/exp_LSTAS_labels_berens_exp{1}'.format(exp-100,exp),exp_LSTAs_pol_ber_1)\n",
    "else:\n",
    "    if LAP4: np.save('/media/samuele/Samuele_01/Exp_{0}/analysis/exp_LAP4_LSTAS_labels_berens_exp{0}'.format(exp),exp_LSTAs_pol_ber_1)\n",
    "    else: np.save('/media/samuele/Samuele_01/Exp_{0}/analysis/exp_LSTAS_labels_berens_exp{0}'.format(exp),exp_LSTAs_pol_ber_1)"
   ]
  },
  {
   "cell_type": "code",
   "execution_count": 81,
   "metadata": {},
   "outputs": [],
   "source": [
    "#exp_LSTAs_pol_ber_1"
   ]
  },
  {
   "cell_type": "code",
   "execution_count": 62,
   "metadata": {},
   "outputs": [
    {
     "name": "stdout",
     "output_type": "stream",
     "text": [
      "[1. 1. 1. 1.]\n",
      "[-1. -1. -1. -1.]\n",
      "[[51. 65. 52. 83.]\n",
      " [56. 14. 56. 14.]]\n",
      "[[51. 65. 52. 83.]\n",
      " [56. 14. 56. 14.]]\n"
     ]
    },
    {
     "data": {
      "image/png": "[encoded data removed]",
      "text/plain": [
       "<Figure size 288x288 with 4 Axes>"
      ]
     },
     "metadata": {},
     "output_type": "display_data"
    }
   ],
   "source": [
    "#this cell is for visualization purposes\n",
    "\n",
    "exp=101\n",
    "denoised_LSTAs=np.load('/media/samuele/Samuele_01/Salamander1/Best_denoised_LSTAS_berens_exp{0}.npy'.format(exp))\n",
    "\n",
    "n_img=denoised_LSTAs.shape[1]\n",
    "\n",
    "selcell=903\n",
    "\n",
    "Div=10000\n",
    "\n",
    "#thresh = 5000*Div#3500 20sigmas\n",
    "#thresh = 220*Div#3500 10sigmas\n",
    "thresh = 200*Div#3500 15sigmas\n",
    "\n",
    "SKIP=True\n",
    "PLOT=True\n",
    "\n",
    "sigmas=3\n",
    "radius=13\n",
    "\n",
    "count=0\n",
    "invlist = []\n",
    "if exp==101:range_=np.array([815,816,817,821,823,842,850,857,865,868,869,871,883,886,887,888,889,892,894,903,905,907,913,914,915,916,917])\n",
    "elif exp==102:range_=np.array([1154,1165,1167,1178,1181,1182,1183,1184,1185,1186,197,999,1000,1009,1014,1018,1029,1042,1046,1047,1051,1055,109])\n",
    "else:range_=np.sort(np.array(Selected_cells[exp][0]+Selected_cells[exp][1]))\n",
    "\n",
    "for ind, cell in enumerate(range_):\n",
    "    \n",
    "    if SKIP and cell!=selcell: continue\n",
    "        \n",
    "    #ind =np.where(exp_LSTAs_pol_ber[:,0]==cell)[0][0]\n",
    "    \n",
    "    if PLOT:\n",
    "        fig=figure(figsize=(4,n_img))\n",
    "\n",
    "\n",
    "    Coor = np.zeros([2,n_img])\n",
    "    Good =  np.zeros(n_img)\n",
    "    Sign = np.zeros(n_img)\n",
    "    Good_centers=[]\n",
    "    \n",
    "    for im in np.arange(n_img):\n",
    "        \n",
    "        if n_img>10: ax=fig.add_subplot(4,3,im+1)\n",
    "        else: ax=fig.add_subplot(4,2,im+1)\n",
    "        lsta=denoised_LSTAs[ind,im]\n",
    "\n",
    "        lsta = lsta/np.max(abs(lsta))\n",
    "        if PLOT:\n",
    "            ax.imshow(lsta)\n",
    "\n",
    "        #lsta=np.abs(lsta)**2\n",
    "        lsta=np.abs(lsta)\n",
    "\n",
    "\n",
    "        lsta[lsta<(lsta.max()-sigmas*lsta.std())]=0\n",
    "        \n",
    "        Coor[0,im] = np.array(np.where(abs(lsta)==abs(lsta).max()))[0]\n",
    "        Coor[1,im] = np.array(np.where(abs(lsta)==abs(lsta).max()))[1]\n",
    "        \n",
    "#         print(np.where(abs(lsta)==abs(lsta).max()))\n",
    "#         print('Image ',str(im),denoised_LSTAs[ind,im].max(),denoised_LSTAs[ind,im].min())\n",
    "#         print(Coor[:,im])\n",
    "#         print(denoised_LSTAs[ind,im][int(Coor[0][im])][int(Coor[1][im])])\n",
    "        \n",
    "        xlsta = np.sum(lsta,axis=0)\n",
    "        ylsta = np.sum(lsta,axis=1)\n",
    "\n",
    "\n",
    "        CMx = np.dot(np.arange(108),xlsta)\n",
    "        CMy = np.dot(np.arange(108),ylsta)\n",
    "\n",
    "        Ix = np.dot((np.arange(108)-CMx)**2,xlsta)\n",
    "        Iy = np.dot((np.arange(108)-CMy)**2,ylsta)\n",
    "\n",
    "        Ix = Ix/ xlsta.sum()\n",
    "        Iy = Iy/ ylsta.sum()\n",
    "        \n",
    "#         print(Ix,Iy)\n",
    "        \n",
    "        if Ix<thresh and Iy<thresh:\n",
    "            Good[im]=1\n",
    "            Sign[im]= np.sign(denoised_LSTAs[ind,im][int(Coor[0][im])][int(Coor[1][im])])\n",
    "            \n",
    "    \n",
    "\n",
    "        if PLOT:\n",
    "            ax.set_xticks([])\n",
    "            ax.set_yticks([])\n",
    "            ax.set_title( str(np.round(Ix/Div)) + '   '+str(np.round(Iy/Div)) )\n",
    "            \n",
    "        \n",
    "    if SKIP:\n",
    "        print(Good)\n",
    "        print(Sign)\n",
    "        print(Coor)\n",
    "        print(np.delete(Coor,np.where(Good ==0)[0],axis=1  )  )\n",
    "    \n",
    "#-------------------------------- \n",
    "#     dist=[]\n",
    "#     if Good.sum()>1:\n",
    "#         good_centers=np.delete(Coor,np.where(Good ==0)[0],axis=1  )\n",
    "#         for good_im in range(good_centers.shape[1]):\n",
    "#             for pair in range(good_im+1,good_centers.shape[1],1):\n",
    "#                 dist.append(np.sqrt( (good_centers[0,good_im]-good_centers[0,pair])**2+(good_centers[1,good_im]-good_centers[1,pair])**2 ))\n",
    "    \n",
    "#     if np.array(dist).mean()>3: continue\n",
    "# #--------------\n",
    "#     else:dist=[]\n",
    "#         if np.sum(Good)>1 and Sign.max()==1 and Sign.min()==-1:\n",
    "\n",
    "#     #         print(str(cell) + ' may invert')\n",
    "#             count+=1\n",
    "#             invlist.append(cell)"
   ]
  },
  {
   "cell_type": "code",
   "execution_count": 57,
   "metadata": {
    "scrolled": false
   },
   "outputs": [
    {
     "name": "stdout",
     "output_type": "stream",
     "text": [
      "Total time elapsed: 5.920 s.\n",
      "Total time elapsed: 5.907 s.\n",
      "Total time elapsed: 6.072 s.\n",
      "Total time elapsed: 6.335 s.\n"
     ]
    },
    {
     "data": {
      "image/png": "[encoded data removed]",
      "text/plain": [
       "<Figure size 432x288 with 1 Axes>"
      ]
     },
     "metadata": {
      "needs_background": "light"
     },
     "output_type": "display_data"
    },
    {
     "data": {
      "image/png": "[encoded data removed]",
      "text/plain": [
       "<Figure size 432x288 with 1 Axes>"
      ]
     },
     "metadata": {
      "needs_background": "light"
     },
     "output_type": "display_data"
    },
    {
     "data": {
      "image/png": "[encoded data removed]",
      "text/plain": [
       "<Figure size 432x288 with 1 Axes>"
      ]
     },
     "metadata": {
      "needs_background": "light"
     },
     "output_type": "display_data"
    },
    {
     "data": {
      "image/png": "[encoded data removed]",
      "text/plain": [
       "<Figure size 432x288 with 1 Axes>"
      ]
     },
     "metadata": {
      "needs_background": "light"
     },
     "output_type": "display_data"
    }
   ],
   "source": [
    "exp=101\n",
    "s600=False\n",
    "#here I visualize the performance of the model through the berens method on single image and single cell  \n",
    "if exp==11:\n",
    "    if s600: \n",
    "        stim=np.load('/media/samuele/Samuele_01/Exp_11/analysis/Stimulus_shaped_for_Berens_exp11_s600.npy')\n",
    "        resp=np.load('/media/samuele/Samuele_01/Exp_11/analysis/Response_shaped_for_Berens_exp11_s600.npy')\n",
    "        pckls_folder='/media/samuele/Samuele_01/Exp_11/analysis/s600/'\n",
    "    else:\n",
    "        stim=np.load('/media/samuele/Samuele_01/Exp_11/analysis/Stimulus_shaped_for_Berens_exp11_s1200.npy')\n",
    "        resp=np.load('/media/samuele/Samuele_01/Exp_11/analysis/Response_shaped_for_Berens_exp11_s1200.npy')\n",
    "        pckls_folder='/media/samuele/Samuele_01/Exp_11/analysis/LSTAs1200_zoom_new/'\n",
    "if exp==12:\n",
    "    if s600: \n",
    "        stim=np.load('/media/samuele/Samuele_01/Exp_12/analysis/Stimulus_shaped_for_Berens_exp12_s600.npy')\n",
    "        resp=np.load('/media/samuele/Samuele_01/Exp_12/analysis/Response_shaped_for_Berens_exp12_s600.npy')\n",
    "        pckls_folder='/media/samuele/Samuele_01/Exp_12/analysis/s600/'\n",
    "    else:\n",
    "        stim=np.load('/media/samuele/Samuele_01/Exp_12/analysis/Stimulus_shaped_for_Berens_exp12_s1200.npy')\n",
    "        resp=np.load('/media/samuele/Samuele_01/Exp_12/analysis/Response_shaped_for_Berens_exp12_s1200.npy')\n",
    "        pckls_folder='/media/samuele/Samuele_01/Exp_12/analysis/LSTAs_newcode/'\n",
    "if exp==13:\n",
    "    if s600: \n",
    "        stim=np.load('/media/samuele/Samuele_01/Exp_13/analysis/Stimulus_shaped_for_Berens_exp13_s600.npy')\n",
    "        resp=np.load('/media/samuele/Samuele_01/Exp_13/analysis/Response_shaped_for_Berens_exp13_s600.npy')\n",
    "        pckls_folder='/media/samuele/Samuele_01/Exp_13/analysis/s600/'\n",
    "    else:\n",
    "        stim=np.load('/media/samuele/Samuele_01/Exp_13/analysis/Stimulus_shaped_for_Berens_exp13_s1200.npy')\n",
    "        resp=np.load('/media/samuele/Samuele_01/Exp_13/analysis/Response_shaped_for_Berens_exp13_s1200.npy')\n",
    "        pckls_folder='/media/samuele/Samuele_01/Exp_13/analysis/LSTAs_newcode/'\n",
    "if exp==14:\n",
    "    stim=np.load('/media/samuele/Samuele_01/Exp_14/analysis/Stimulus_shaped_for_Berens_exp14.npy')\n",
    "    resp=np.load('/media/samuele/Samuele_01/Exp_14/analysis/Response_shaped_for_Berens_exp14.npy')\n",
    "    pckls_folder='/media/samuele/Samuele_01/Exp_14/analysis/s1000/'  \n",
    "if exp==17:\n",
    "    stim=np.load('/media/samuele/Samuele_01/Exp_17/analysis/Stimulus_shaped_for_Berens_exp17.npy')\n",
    "    resp=np.load('/media/samuele/Samuele_01/Exp_17/analysis/Response_shaped_for_Berens_exp17.npy')\n",
    "    pckls_folder='/media/samuele/Samuele_01/Exp_17/analysis/LSTA_1000/'    \n",
    "if exp==19:\n",
    "    stim=np.load('/media/samuele/Samuele_01/Exp_19/analysis/Stimulus_shaped_for_Berens_exp19.npy')\n",
    "    resp=np.load('/media/samuele/Samuele_01/Exp_19/analysis/Response_shaped_for_Berens_exp19.npy')\n",
    "    pckls_folder='/media/samuele/Samuele_01/Exp_19/analysis/s1000/'    \n",
    "    \n",
    "if exp==101:\n",
    "    stim=np.load('/media/samuele/Samuele_01/Salamander1/Stimulus_shaped_for_Berens_exp101.npy')\n",
    "    resp=np.load('/media/samuele/Samuele_01/Salamander1/Response_shaped_for_Berens_exp101.npy')\n",
    "    pckls_folder='/media/samuele/Samuele_01/Salamander1/s1200/'       \n",
    "if exp==102:\n",
    "    stim=np.load('/media/samuele/Samuele_01/Salamander2/Stimulus_shaped_for_Berens_exp102.npy')\n",
    "    resp=np.load('/media/samuele/Samuele_01/Salamander2/Response_shaped_for_Berens_exp102.npy')\n",
    "    pckls_folder='/media/samuele/Samuele_01/Salamander2/s1200/'    \n",
    "\n",
    "if exp>=14 and exp<100: perts=1000\n",
    "else: \n",
    "    if s600: perts=600\n",
    "    else: perts=1200\n",
    "\n",
    "        \n",
    "checksize=56\n",
    "        \n",
    "im_number=7\n",
    "\n",
    "cell=842\n",
    "\n",
    "for im_number in [0,1,2,3]: #range(12):\n",
    "\n",
    "    cell_nb=0\n",
    "    cell_names=[]\n",
    "    for filename in os.listdir(pckls_folder):\n",
    "        if filename.endswith(\".pkl\"):\n",
    "            cell_names.append(int(filename.split('_')[2][1:] ) )\n",
    "            cell_nb+=1\n",
    "    cell_names=np.array(cell_names)\n",
    "    \n",
    "#     if exp==101: cell_names=np.array([815,816,817,821,823,842,850,857,865,868,869,871,883,886,887,888,889,892,894,903,905,907,913,914,915,916,917])\n",
    "#     if exp==102: cell_names=np.array([\n",
    "    stimulus=stim[im_number]\n",
    "    response=resp[np.where(cell_names.argsort()==np.where(cell_names==cell)[0][0])[0][0]]\n",
    "    resp_to_image=response[im_number]\n",
    "\n",
    "\n",
    "    lag=0\n",
    "    dims=(checksize,checksize)\n",
    "    nspl=24\n",
    "    df=[nspl,nspl]\n",
    "    #for b in np.arange(0.008,0.028, 0.001):\n",
    "    for b in [0.002]:\n",
    "        lg = splineLG((stimulus/stimulus.max()).reshape(perts, checksize*checksize), resp_to_image, dims=dims, dt=lag, df=df)\n",
    "        lg.fit(metric='corrcoef',\n",
    "                          num_iters=1000, verbose=0, tolerance=10,\n",
    "                          beta=b)\n",
    "        res_ber=resize(lg.w_opt.reshape((checksize,checksize)), (108, 108), anti_aliasing=True)\n",
    "\n",
    "        plt.figure()\n",
    "        plt.imshow(res_ber)\n",
    "        plt.title(b)"
   ]
  },
  {
   "cell_type": "code",
   "execution_count": 479,
   "metadata": {},
   "outputs": [],
   "source": [
    "# #trial with edge detection and treshold\n",
    "# denoised_LSTAs=np.load('/media/eqs8/Samuele_01/Exp_17/analysis/Best_denoised_LSTAS_berens_exp17.npy')\n",
    "# img_nb=denoised_LSTAs.shape[1]\n",
    "\n",
    "# temp_ber2=[]\n",
    "# for cell_idx, cell in enumerate(np.sort(np.concatenate((As,Bs)))):\n",
    "#     polarities=np.zeros((img_nb))\n",
    "#     for nb,lsta in enumerate(denoised_LSTAs[cell_idx]):\n",
    "#         if lsta.max()>abs(lsta.min()):\n",
    "#             edges=feature.canny(lsta/lsta.max(), sigma=3.5)\n",
    "#             if edges.sum()<34 and edges.sum()>5: polarities[nb]=1\n",
    "#             else: polarities[nb]=0\n",
    "#         else:\n",
    "#             edges=feature.canny(lsta/lsta.min(), sigma=3.5)\n",
    "#             if edges.sum()<34 and edges.sum()>5: polarities[nb]=-1\n",
    "#             else: polarities[nb]=0\n",
    "#     temp_ber2.append((cell,polarities))\n",
    "\n",
    "# temp_ber2=np.array(temp_ber2, dtype=object)\n",
    "# temp_ber2"
   ]
  },
  {
   "cell_type": "code",
   "execution_count": 478,
   "metadata": {
    "scrolled": false
   },
   "outputs": [],
   "source": [
    "# #trial with edge detection and invertions\n",
    "# denoised_LSTAs=np.load('/media/eqs8/Samuele_01/Exp_17/analysis/Best_denoised_LSTAS_berens_exp17.npy')\n",
    "# img_nb=denoised_LSTAs.shape[1]\n",
    "\n",
    "# temp_ber3=[]\n",
    "# for cell_idx, cell in enumerate(np.sort(np.concatenate((As,Bs)))):\n",
    "#     polarities=np.zeros((img_nb))\n",
    "#     for nb,lsta in enumerate(denoised_LSTAs[cell_idx]):\n",
    "#         if lsta.max()>abs(lsta.min()):\n",
    "#             edges=feature.canny(lsta/lsta.max(), sigma=3.5)\n",
    "#             rows_diff=[]\n",
    "#             cols_diff=[]\n",
    "#             for rows_idx, rows in enumerate(np.diff(edges)):\n",
    "#                 rows_diff.append(rows.sum())\n",
    "#                 cols_diff.append(np.diff(edges, axis=0)[:,rows_idx].sum())\n",
    "#             if np.array(rows_diff).max()>4 or np.array(rows_diff).max()<2 or np.array(cols_diff).max()>8: polarities[nb]=0\n",
    "#             else: polarities[nb]=1\n",
    "#         else:\n",
    "#             edges=feature.canny(lsta/lsta.min(), sigma=3.5)\n",
    "#             rows_diff=[]\n",
    "#             cols_diff=[]\n",
    "#             for rows_idx, rows in enumerate(np.diff(edges)):\n",
    "#                 rows_diff.append(rows.sum())\n",
    "#                 cols_diff.append(np.diff(edges, axis=0)[:,rows_idx].sum())\n",
    "#             if np.array(rows_diff).max()>4 or np.array(rows_diff).max()<2 or np.array(cols_diff).max()>8: polarities[nb]=0\n",
    "#             else: polarities[nb]=-1\n",
    "#     temp_ber3.append((cell,polarities))\n",
    "\n",
    "# temp_ber3=np.array(temp_ber3, dtype=object)\n",
    "# temp_ber3"
   ]
  },
  {
   "cell_type": "code",
   "execution_count": 477,
   "metadata": {},
   "outputs": [],
   "source": [
    "# #trial with squaring and sigma\n",
    "# denoised_LSTAs=np.load('/media/eqs8/Samuele_01/Exp_17/analysis/Best_denoised_LSTAS_berens_exp17.npy')\n",
    "# img_nb=denoised_LSTAs.shape[1]\n",
    "\n",
    "# sigmas=32\n",
    "# temp_ber=[]\n",
    "# for cell_idx, cell in enumerate(np.sort(np.concatenate((As,Bs)))):\n",
    "#     polarities=np.zeros((img_nb))\n",
    "#     for nb,lsta_1 in enumerate(denoised_LSTAs[cell_idx]):\n",
    "#         lsta=lsta_1**2*np.sign(lsta_1)\n",
    "#         if lsta.max()>abs(lsta.min()):\n",
    "#             if lsta.max()-sigmas*lsta.std()>0: polarities[nb]=1\n",
    "#             else: polarities[nb]=0\n",
    "#         else:\n",
    "#             if lsta.min()+sigmas*lsta.std()<0: polarities[nb]=-1\n",
    "#             else: polarities[nb]=0\n",
    "#     temp_ber.append((cell,polarities))\n",
    "\n",
    "# temp_ber=np.array(temp_ber, dtype=object)\n",
    "# temp_ber"
   ]
  },
  {
   "cell_type": "code",
   "execution_count": 156,
   "metadata": {},
   "outputs": [],
   "source": [
    "# #trial with squaring and sigma and position treshhold\n",
    "# denoised_LSTAs=np.load('/media/eqs8/Samuele_01/Exp_17/analysis/Best_denoised_LSTAS_berens_exp17.npy')\n",
    "# img_nb=denoised_LSTAs.shape[1]\n",
    "\n",
    "# sigmas=15\n",
    "# sparseness=.9\n",
    "# temp_ber4=[]\n",
    "# for cell_idx, cell in enumerate(np.sort(np.concatenate((As,Bs)))):\n",
    "#     polarities=np.zeros((img_nb))\n",
    "#     for nb,lsta_1 in enumerate(denoised_LSTAs[cell_idx]):\n",
    "#         lsta=lsta_1**4*np.sign(lsta_1)\n",
    "#         if lsta.max()>abs(lsta.min()):\n",
    "#             lsta[lsta<(lsta.max()-sigmas*lsta.std())]=0\n",
    "#             if list(np.where(lsta!=0)[0]):\n",
    "#                 if (np.where(lsta.flatten()!=0)[0]%108).std()<=sparseness and (np.where(lsta.flatten()!=0)[0]/108).astype(int).std()<=sparseness: polarities[nb]=1\n",
    "#                 else:polarities[nb]=0\n",
    "#             else:polarities[nb]=0\n",
    "#         else:\n",
    "#             lsta[lsta>(lsta.min()+sigmas*lsta.std())]=0\n",
    "#             if list(np.where(lsta!=0)[0]):\n",
    "#                 if (np.where(lsta.flatten()!=0)[0]%108).std()<=sparseness and (np.where(lsta.flatten()!=0)[0]/108).astype(int).std()<=sparseness: polarities[nb]=-1\n",
    "#                 else:polarities[nb]=0\n",
    "#             else:polarities[nb]=0\n",
    "#     temp_ber4.append((cell,polarities))\n",
    "\n",
    "# temp_ber4=np.array(temp_ber4, dtype=object)"
   ]
  },
  {
   "cell_type": "code",
   "execution_count": null,
   "metadata": {},
   "outputs": [],
   "source": [
    "# Blist = [   4,   30,  113,  116,  117,  141,  145,  200,  210,  339,  349,\n",
    "#         350,  364,  402,  436,  499,  500,  532,  561,  567,  641,  706,\n",
    "#         737,  743,  753,  754,  767,  776,  794,  800,  815,  862,  874,\n",
    "#         892,  901,  910,  942,  956,  962,  991,  992,  998, 1004, 1014,\n",
    "#        1021, 1029, 1031]\n",
    "# real_inverting=[4,30,116,285,339,364,561,567,706,754,776,862,874,892,910,956,962,991,1004,1009,1014,1031]\n",
    "\n",
    "# len(real_inverting)\n",
    "# def Intersection(lst1, lst2):\n",
    "#     return set(lst1).intersection(lst2)\n",
    "\n",
    "# circle_out =[499,743,753,757,794,800,815,942,145,200,500,901,992,998]"
   ]
  },
  {
   "cell_type": "code",
   "execution_count": null,
   "metadata": {},
   "outputs": [],
   "source": [
    "# ##RUN ONLY IF THE LABELS ARE NOT ALREADY PRESENT (LIKELY)!!!!!!!!!!!!!!!!!!!!!!!!!!!!!!!!!!!\n",
    "\n",
    "# #this authomatic detection relies on the STA ellipse\n",
    "\n",
    "# #the number of the experiment has to be chosen in the cell above\n",
    "# if exp==11:\n",
    "#     pckls_folder='/media/eqs8/Samuele_01/Exp_11/analysis/LSTAs1200_zoom_new/'\n",
    "#     #the folder in which the LSTAs are stored\n",
    "#     RF_fit_folder = '/media/eqs8/Samuele_01/Exp_11/analysis/STA2_withellipse/'\n",
    "#     codename = 'exp11_m5_RF_fit' \n",
    "#     #the folder in which the RF fits are stored and the file's name\n",
    "# if exp==12:\n",
    "#     pckls_folder='/media/eqs8/Samuele_01/Exp_12/analysis/LSTAs_newcode/'\n",
    "#     RF_fit_folder = '/media/eqs8/Samuele_01/Exp_12/analysis/RF_withellipse_newcode/'\n",
    "#     codename = 'exp12_m5_RF_fit' \n",
    "# if exp==13:\n",
    "#     pckls_folder='/media/eqs8/Samuele_01/Exp_13/analysis/LSTAs_newcode/'\n",
    "#     RF_fit_folder = '/media/eqs8/Samuele_01/Exp_13/analysis/Sam_analysis_trial/STAs_withellipses_new/'\n",
    "#     codename = 'exp13_m5_RF_fit' \n",
    "# if exp==17:\n",
    "#     pckls_folder='/media/eqs8/Samuele_01/Exp_17/analysis/LSTA_1000_trial/'\n",
    "#     RF_fit_folder = '/media/eqs8/Samuele_01/Exp_17/analysis/RF_m5/'\n",
    "#     codename = 'exp17_m5_RF_fit' \n",
    "# if exp==19:\n",
    "#     #pckls_folder= GET THE PICKLES OF THE LSTAS\n",
    "#     RF_fit_folder = '/media/eqs8/Samuele_01/Exp_19/analysis/RF_FIT/'\n",
    "#     codename = 'exp19_m1_RF_fit' \n",
    "    \n",
    "# RF_fit,sharpval = load_obj(RF_fit_folder +codename)\n",
    "\n",
    "# if exp>=14:  \n",
    "#     check_resize_factor = 1                       #\n",
    "#     image_translation = 72       / 12           # in check units of lsta (72px decalage/#pixpercheck)\n",
    "#     patim_size = 72\n",
    "    \n",
    "# if 10<exp<14:\n",
    "#     check_resize_factor = (864/73) / 12                       #73/60\n",
    "#     image_translation = 72       / (864/73)           # in check units of lsta (72px decalage/#pixpercheck)\n",
    "#     patim_size = 72\n",
    "    \n",
    "# ellipse_resize=1\n",
    "# #do I want to have my ellipse bigger?\n",
    "\n",
    "# exp_LSTAs_pol=[]\n",
    "# for filename in os.listdir(pckls_folder):\n",
    "#     if filename.endswith(\".pkl\"): \n",
    "#         cell=int(filename.split('_')[2][1:])\n",
    "#         if cell in As or cell in Bs:\n",
    "#             exp_lstas=np.load(pckls_folder+filename,allow_pickle=True)\n",
    "#             coor = (np.array(RF_fit[cell][0])) \n",
    "#             Xell,Yell= (np.array((RF_fit[cell][1]))) \n",
    "\n",
    "#     #-------------------------------------------\n",
    "#     # resize and convert to python coordinates\n",
    "#     #-------------------------------------------\n",
    "#     # top left corner in Matlab is: 0.5,0.5\n",
    "#     # in matlab is -0.5,-0.5. Have to shift, resize. And then reshift (inversion was done at RF_fit step)\n",
    "\n",
    "#             coor_new = (coor - [0.5,0.5]) *check_resize_factor + [0.5,0.5] + [image_translation,image_translation]\n",
    "\n",
    "#             Xell = ((Xell-(coor[0]))*ellipse_resize )*check_resize_factor + coor_new[0]\n",
    "#             Yell = ((Yell-(coor[1]))*ellipse_resize )*check_resize_factor + coor_new[1]\n",
    "#     #-------------------------------------------\n",
    "#             if exp<14:responses=np.zeros((7))\n",
    "#             if exp>14:responses=np.zeros((8))\n",
    "#             for nb,im in enumerate(exp_lstas):\n",
    "#                 filt=[]\n",
    "#                 for i,j in enumerate(im.flatten()):\n",
    "#                     if Yell.min()<i/patim_size<Yell.max() and Xell.min()<i%patim_size<Xell.max():\n",
    "#                         filt.append(j)\n",
    "#                 filt=np.array(filt)\n",
    "#                 nb_pix=len(filt)\n",
    "#                 #if cell==388: print(filt.mean(),im.std())\n",
    "#                 if filt.mean()>0 and (filt.mean()-3*im.std()/np.sqrt(nb_pix))>0: responses[nb]=1  \n",
    "#                 elif filt.mean()<0 and (filt.mean()+3*im.std()/np.sqrt(nb_pix))<0: responses[nb]=-1\n",
    "#                 else: responses[nb]=0 \n",
    "#                 #print(filt.mean(),im.mean(),im.std())'''\n",
    "#             print(cell,responses)\n",
    "#             #print(nb_pix)\n",
    "#             exp_LSTAs_pol.append((cell,responses))\n",
    "#         else: continue\n",
    "        \n",
    "# exp_LSTAs_pol=np.array(exp_LSTAs_pol, dtype=object)\n",
    "\n",
    "# #np.save('/media/eqs8/Samuele_01/Exp_{0}/analysis/exp_LSTAS_labels_ellipse_exp{1}'.format(exp,exp),exp_LSTAs_pol)"
   ]
  },
  {
   "cell_type": "code",
   "execution_count": null,
   "metadata": {},
   "outputs": [],
   "source": [
    "# #this authomatic detection uses a gaussian blur + a thresholding system\n",
    "# (IMPLAMENTED BUT NEVER USED BECAUSE WORSE THAN THE OTHER)\n",
    "# exp=11\n",
    "# if exp==11:\n",
    "#     pckls_folder='/media/eqs8/Samuele_01/Exp_11/analysis/LSTAs1200_zoom_new/'\n",
    "#     #the folder in which the LSTAs are stored\n",
    "\n",
    "# #     RF_fit_folder = '/media/eqs8/Samuele_01/Exp_11/analysis/STA2_withellipse/'\n",
    "# #     codename = 'exp11_m5_RF_fit' \n",
    "#     #the folder in which the RF fits are stored and the file's name\n",
    "# if exp==12:\n",
    "#     pckls_folder='/media/eqs8/Samuele_01/Exp_12/analysis/LSTAs_newcode/'\n",
    "# if exp==13:\n",
    "#     pckls_folder='/media/eqs8/Samuele_01/Exp_13/analysis/LSTAs_newcode/'\n",
    "# if exp=='Bapt':\n",
    "#     pckls_folder='/media/eqs8/Samuele_01/Exp_11/analysis/LSTAs1200_zoom_new/'\n",
    "    \n",
    "# labels=[]\n",
    "# # for filename in os.listdir(pckls_folder)[246:247]:    #to threshold only one cell\n",
    "# for filename in os.listdir(pckls_folder):\n",
    "#     if filename.endswith(\".pkl\"): \n",
    "#         cell=int(filename.split('_')[2][1:])\n",
    "#         print(cell)\n",
    "#         exp_lstas=np.load(pckls_folder+filename,allow_pickle=True)\n",
    "# #         idx=6        \n",
    "# #         exp_lstas.shape\n",
    "# #         #print(exp_lstas[idx])\n",
    "# #         #print(exp_lstas[idx].mean(),exp_lstas[idx].std(),exp_lstas[idx].max(),exp_lstas[idx].min() )\n",
    "# #         plt.figure()\n",
    "# #         plt.imshow(exp_lstas[idx])\n",
    "\n",
    "#         #import skimage.filters\n",
    "#         onecell_labels=[]\n",
    "#         for img_idx in range(exp_lstas.shape[0]):\n",
    "#         #for img_idx in range(2,4,1):                     #to threshold only one image of a cell\n",
    "\n",
    "#             new_img_1=gaussian(exp_lstas[img_idx],sigma=1)\n",
    "#             new_img=resize(new_img_1, (108, 108), anti_aliasing=True)\n",
    "# #             plt.figure()\n",
    "# #             plt.imshow(new_img)\n",
    "# #             print(new_img.mean(),new_img.std(),new_img.max(),new_img.min())\n",
    "\n",
    "# #             check=np.zeros((np.size(new_img)))\n",
    "#             on_filt=[]\n",
    "#             off_filt=[]\n",
    "#             for spot,pix in enumerate(new_img.flatten()):\n",
    "#                 if new_img.max()>abs(new_img.min()):\n",
    "#                     if pix>(new_img.max()-2*new_img.std()):\n",
    "# #                         check[spot]=1                   #comment\n",
    "#                         on_filt.append([spot,pix])\n",
    "#                 if new_img.max()< abs(new_img.min()):\n",
    "#                     if pix<(new_img.min()+2*new_img.std()):\n",
    "# #                         check[spot]=1                   #comment\n",
    "#                         off_filt.append([spot,pix])\n",
    "#             if on_filt:\n",
    "#                 on_filt=np.array(on_filt)\n",
    "#                 x_max=int(on_filt[on_filt[:,1].argmax(),0]%108)\n",
    "#                 y_max=int(on_filt[on_filt[:,1].argmax(),0]/108)\n",
    "#                 x_shifts=abs((on_filt[:,0]%108)-x_max)\n",
    "#                 y_shifts=abs((on_filt[:,0]/108).astype(int)-y_max)\n",
    "#                 sign=0\n",
    "#                 nonsign=0\n",
    "#                 for i in range(np.size(x_shifts)):\n",
    "#                     #print(x_shifts[i],y_shifts[i])\n",
    "#                     if x_shifts[i]+y_shifts[i]<6: sign+=1\n",
    "#                     else:nonsign+=1\n",
    "#                     #print(nonsign)\n",
    "#             #     if (on_filt[:,0]%108).std()>3: print('NO_LSTA:{0}'.format(on_filt.shape))\n",
    "#                 if nonsign>sign or x_max<5 or x_max>95 or y_max<5 or y_max>95: onecell_labels.append(0)#print('NO_LSTA:{0}'.format(on_filt.shape))\n",
    "#                 else: onecell_labels.append(1) #print('ON:{0}'.format(on_filt.shape))\n",
    "#                 #print(sign,nonsign)\n",
    "#             if off_filt:\n",
    "#                 off_filt=np.array(off_filt)\n",
    "#                 x_max=int(off_filt[off_filt[:,1].argmax(),0]%108)\n",
    "#                 y_max=int(off_filt[off_filt[:,1].argmax(),0]/108)\n",
    "#                 x_shifts=abs((off_filt[:,0]%108)-x_max)\n",
    "#                 y_shifts=abs((off_filt[:,0]/108).astype(int)-y_max)\n",
    "#                 sign=0\n",
    "#                 nonsign=0\n",
    "#                 for i in range(np.size(x_shifts)):\n",
    "#                     if x_shifts[i]+y_shifts[i]<6: sign+=1\n",
    "#                     else:nonsign+=1\n",
    "#             #     if (off_filt[:,0]%108).std()>3: print('NO_LSTA:{0}'.format(off_filt.shape))\n",
    "#                 if nonsign>sign or x_max<5 or x_max>95 or y_max<5 or y_max>95: onecell_labels.append(0)#print('NO_LSTA:{0}'.format(off_filt.shape))\n",
    "#                 else: onecell_labels.append(-1) #print('OFF:{0}, sign:{1}'.format(off_filt.shape,sign))\n",
    "#                 #print(sign,nonsign)\n",
    "# #             plt.figure()\n",
    "# #             plt.imshow(check.reshape(108,108))\n",
    "#         labels.append((cell,np.array(onecell_labels)))\n",
    "# labels=np.array(labels, dtype=object)\n",
    "# #np.save('/media/eqs8/Samuele_01/Exp_{0}/analysis/exp_LSTAS_labels_blu+tresh_exp{1}'.format(exp,exp),labels)"
   ]
  },
  {
   "cell_type": "markdown",
   "metadata": {},
   "source": [
    "# Load the labels calculated with the Berens method (RFEst)"
   ]
  },
  {
   "cell_type": "code",
   "execution_count": 3,
   "metadata": {},
   "outputs": [],
   "source": [
    "exp=11\n",
    "if exp>100:\n",
    "    exp_LSTAs_pol_ber=np.load('/media/samuele/Samuele_01/Salamander{0}/exp_LSTAS_labels_berens_exp{1}.npy'.format(exp-100,exp),allow_pickle=True)\n",
    "else:    \n",
    "    exp_LSTAs_pol_ber=np.load('/media/samuele/Samuele_01/Exp_{0}/analysis/exp_LSTAS_labels_berens_exp{0}.npy'.format(exp),allow_pickle=True)\n",
    "#exp_LSTAs_pol_ber"
   ]
  },
  {
   "cell_type": "markdown",
   "metadata": {},
   "source": [
    "# Count the LSTAs obtained in a given experiment and their polarity"
   ]
  },
  {
   "cell_type": "code",
   "execution_count": 4,
   "metadata": {},
   "outputs": [
    {
     "name": "stdout",
     "output_type": "stream",
     "text": [
      "Experiment 11:\n",
      "Number of cells analyzed (As and Bs): 94\n",
      "35 cells did not show a local STA (37.2% of the total)\n",
      "59 cells showed LSTAs (both inverting and not)) (62.8% of the total)\n"
     ]
    }
   ],
   "source": [
    "#The experiment has to be chosen in the cell above\n",
    "labels=np.array(exp_LSTAs_pol_ber, dtype=object)\n",
    "\n",
    "print('Experiment {0}:'.format(exp))\n",
    "print('Number of cells analyzed (As and Bs): {0}'.format(labels.shape[0]))\n",
    "\n",
    "tot_cells=labels.shape[0]\n",
    "no_lstas=0\n",
    "yes_lstas=0\n",
    "\n",
    "for cell_score in labels:\n",
    "    if np.all(cell_score[1]==0.):\n",
    "        no_lstas+=1\n",
    "    else:\n",
    "        yes_lstas+=1\n",
    "print('{0} cells did not show a local STA ({1:.3}% of the total)'.format(no_lstas,no_lstas/tot_cells*100))\n",
    "print('{0} cells showed LSTAs (both inverting and not)) ({1:.3}% of the total)'.format(yes_lstas,yes_lstas/tot_cells*100))"
   ]
  },
  {
   "cell_type": "markdown",
   "metadata": {},
   "source": [
    "## List of the cells that have LSTAs"
   ]
  },
  {
   "cell_type": "code",
   "execution_count": 101,
   "metadata": {},
   "outputs": [
    {
     "data": {
      "text/plain": [
       "array([1154, 1165, 1167, 1178, 1181, 1182, 1183, 1184, 1185, 1186,  197,\n",
       "        999, 1000, 1009, 1014, 1018, 1029, 1042, 1046, 1047, 1051, 1055,\n",
       "        109])"
      ]
     },
     "execution_count": 101,
     "metadata": {},
     "output_type": "execute_result"
    }
   ],
   "source": [
    "list_=[]\n",
    "for scores in exp_LSTAs_pol_ber:\n",
    "    if np.all(scores[1]==0.):continue\n",
    "    else:list_.append(scores[0])\n",
    "        \n",
    "np.array(list_)"
   ]
  },
  {
   "cell_type": "markdown",
   "metadata": {},
   "source": [
    "## Assessment of the shift among LSTAs of the same cell"
   ]
  },
  {
   "cell_type": "code",
   "execution_count": 70,
   "metadata": {},
   "outputs": [],
   "source": [
    "exp=11\n",
    "\n",
    "berens_LSTAS=np.load('/media/samuele/Samuele_01/Exp_{0}/analysis/Best_denoised_LSTAS_berens_exp{0}_s1200.npy'.format(exp))\n",
    "exp_LSTAs_pol_ber=np.load('/media/samuele/Samuele_01/Exp_{0}/analysis/exp_LSTAS_labels_berens_exp{0}.npy'.format(exp),allow_pickle=True)\n",
    "\n",
    "x, y = np.meshgrid(np.linspace(0,108,108), np.linspace(0,108,108))\n",
    "def gaussian_filt( x,y ,x0,y0,sx,sy,theta,amp):\n",
    "    x1=x*np.cos(theta)-y*np.sin(theta)-x0*np.cos(theta)+y0*np.sin(theta)\n",
    "    y1=y*np.cos(theta)+x*np.sin(theta)-y0*np.cos(theta)-x0*np.sin(theta)\n",
    "    return amp*np.exp(-((x1**2. / (2. * sx**2.) + (y1)**2. / (2. * sy**2.))))\n",
    "def gaussian_filt_1( input_ ,x0,y0,sx,sy,theta,amp):\n",
    "    x1=input_[0]*np.cos(theta)-input_[1]*np.sin(theta)-x0*np.cos(theta)+y0*np.sin(theta)\n",
    "    y1=input_[1]*np.cos(theta)+input_[0]*np.sin(theta)-y0*np.cos(theta)-x0*np.sin(theta)\n",
    "    return (amp*np.exp(-((x1**2. / (2. * sx**2.) + (y1)**2. / (2. * sy**2.))))).ravel()\n",
    "\n",
    "shifts_3=[]\n",
    "for i in range(berens_LSTAS.shape[0]):\n",
    "    if abs(exp_LSTAs_pol_ber[i,1]).sum()==0 or abs(exp_LSTAs_pol_ber[i,1]).sum()==1: continue \n",
    "    #these cells have only one detected Lsta or none and so they are not useful to our analysis\n",
    "    else:\n",
    "        selected_LSTAS=np.delete(berens_LSTAS[i],np.where(exp_LSTAs_pol_ber[i,1]==0.)[0], axis=0)\n",
    "        #redenoised_lstas=np.zeros(selected_LSTAS.shape)\n",
    "        redenoised_lstas=[]\n",
    "        for idx,lsta in enumerate(selected_LSTAS):\n",
    "            if abs(lsta.min())> abs(lsta.max()): p0=[lsta.argmin()%108, int(lsta.argmin()/108),2,2, 0,-1]\n",
    "            if abs(lsta.max())> abs(lsta.min()): p0=[lsta.argmax()%108, int(lsta.argmax()/108),2,2, 0,1]\n",
    "            try:\n",
    "                best_vals, covar = curve_fit(gaussian_filt_1, np.array((x, y)), lsta.ravel(), p0=p0)\n",
    "#                 redenoised_lstas[idx]=gaussian_filt_1((x,y), *best_vals).reshape(108,108)\n",
    "                redenoised_lstas.append(gaussian_filt_1((x,y), *best_vals).reshape(108,108))\n",
    "            except: continue        \n",
    "        redenoised_lstas=np.array(redenoised_lstas)\n",
    "        nb_remaining_images=redenoised_lstas.shape[0]\n",
    "        for j, exp_lsta in enumerate(redenoised_lstas):\n",
    "            if j==(nb_remaining_images-1):continue\n",
    "            else:\n",
    "                for t in range(j+1,nb_remaining_images):\n",
    "                    shifts_3.append(abs(np.dot((exp_lsta/np.linalg.norm(exp_lsta)).ravel(), (redenoised_lstas[t]/np.linalg.norm(redenoised_lstas[t])).ravel())))                  \n",
    "                                                        \n",
    "exp=13\n",
    "\n",
    "berens_LSTAS=np.load('/media/samuele/Samuele_01/Exp_{0}/analysis/Best_denoised_LSTAS_berens_exp{0}_s1200.npy'.format(exp))\n",
    "exp_LSTAs_pol_ber=np.load('/media/samuele/Samuele_01/Exp_{0}/analysis/exp_LSTAS_labels_berens_exp{0}.npy'.format(exp),allow_pickle=True)\n",
    "\n",
    "shifts=[]\n",
    "for i in range(berens_LSTAS.shape[0]):\n",
    "    if abs(exp_LSTAs_pol_ber[i,1]).sum()==0 or abs(exp_LSTAs_pol_ber[i,1]).sum()==1: continue \n",
    "    #these cells have only one detected Lsta or none and so they are not useful to our analysis\n",
    "    else:\n",
    "        selected_LSTAS=np.delete(berens_LSTAS[i],np.where(exp_LSTAs_pol_ber[i,1]==0.)[0], axis=0)\n",
    "        #redenoised_lstas=np.zeros(selected_LSTAS.shape)\n",
    "        redenoised_lstas=[]\n",
    "        for idx,lsta in enumerate(selected_LSTAS):\n",
    "            if abs(lsta.min())> abs(lsta.max()): p0=[lsta.argmin()%108, int(lsta.argmin()/108),2,2, 0,-1]\n",
    "            if abs(lsta.max())> abs(lsta.min()): p0=[lsta.argmax()%108, int(lsta.argmax()/108),2,2, 0,1]\n",
    "            try:\n",
    "                best_vals, covar = curve_fit(gaussian_filt_1, np.array((x, y)), lsta.ravel(), p0=p0)\n",
    "#                 redenoised_lstas[idx]=gaussian_filt_1((x,y), *best_vals).reshape(108,108)\n",
    "                redenoised_lstas.append(gaussian_filt_1((x,y), *best_vals).reshape(108,108))\n",
    "            except: continue        \n",
    "        redenoised_lstas=np.array(redenoised_lstas)\n",
    "        nb_remaining_images=redenoised_lstas.shape[0]\n",
    "        for j, exp_lsta in enumerate(redenoised_lstas):\n",
    "            if j==(nb_remaining_images-1):continue\n",
    "            else:\n",
    "                for t in range(j+1,nb_remaining_images):\n",
    "                    shifts.append(abs(np.dot((exp_lsta/np.linalg.norm(exp_lsta)).ravel(), (redenoised_lstas[t]/np.linalg.norm(redenoised_lstas[t])).ravel())))                  \n",
    "                                                        \n",
    "\n",
    "exp=17\n",
    "\n",
    "berens_LSTAS=np.load('/media/samuele/Samuele_01/Exp_{0}/analysis/Best_denoised_LSTAS_berens_exp{0}.npy'.format(exp))\n",
    "exp_LSTAs_pol_ber=np.load('/media/samuele/Samuele_01/Exp_{0}/analysis/exp_LSTAS_labels_berens_exp{0}.npy'.format(exp),allow_pickle=True)\n",
    "\n",
    "shifts_2=[]\n",
    "for i in range(berens_LSTAS.shape[0]):\n",
    "    if abs(exp_LSTAs_pol_ber[i,1]).sum()==0 or abs(exp_LSTAs_pol_ber[i,1]).sum()==1: continue \n",
    "    #these cells have only one detected Lsta or none and so they are not useful to our analysis\n",
    "    else:\n",
    "        selected_LSTAS=np.delete(berens_LSTAS[i],np.where(exp_LSTAs_pol_ber[i,1]==0.)[0], axis=0)\n",
    "        #redenoised_lstas=np.zeros(selected_LSTAS.shape)\n",
    "        redenoised_lstas=[]\n",
    "        for idx,lsta in enumerate(selected_LSTAS):\n",
    "            if abs(lsta.min())> abs(lsta.max()): p0=[lsta.argmin()%108, int(lsta.argmin()/108),2,2, 0,-1]\n",
    "            if abs(lsta.max())> abs(lsta.min()): p0=[lsta.argmax()%108, int(lsta.argmax()/108),2,2, 0,1]\n",
    "            try:\n",
    "                best_vals, covar = curve_fit(gaussian_filt_1, np.array((x, y)), lsta.ravel(), p0=p0)\n",
    "#                 redenoised_lstas[idx]=gaussian_filt_1((x,y), *best_vals).reshape(108,108)\n",
    "                redenoised_lstas.append(gaussian_filt_1((x,y), *best_vals).reshape(108,108))\n",
    "            except: continue        \n",
    "        redenoised_lstas=np.array(redenoised_lstas)\n",
    "        nb_remaining_images=redenoised_lstas.shape[0]\n",
    "        for j, exp_lsta in enumerate(redenoised_lstas):\n",
    "            if j==(nb_remaining_images-1):continue\n",
    "            else:\n",
    "                for t in range(j+1,nb_remaining_images):\n",
    "                    shifts_2.append(abs(np.dot((exp_lsta/np.linalg.norm(exp_lsta)).ravel(), (redenoised_lstas[t]/np.linalg.norm(redenoised_lstas[t])).ravel())))                  \n",
    "                                                        "
   ]
  },
  {
   "cell_type": "code",
   "execution_count": 71,
   "metadata": {},
   "outputs": [
    {
     "data": {
      "text/plain": [
       "<matplotlib.legend.Legend at 0x7f5149e0ba30>"
      ]
     },
     "execution_count": 71,
     "metadata": {},
     "output_type": "execute_result"
    },
    {
     "data": {
      "image/png": "[encoded data removed]",
      "text/plain": [
       "<Figure size 432x288 with 1 Axes>"
      ]
     },
     "metadata": {
      "needs_background": "light"
     },
     "output_type": "display_data"
    }
   ],
   "source": [
    "bin_=linspace(0,1,25)[1:]\n",
    "plt.figure()\n",
    "plt.hist(shifts_2,bins=bin_,label='Exp_17',density=True)\n",
    "plt.hist(shifts,bins=bin_,label='Exp_13',density=True)\n",
    "plt.hist(shifts_3,bins=bin_,label='Exp_11',density=True)\n",
    "plt.legend()"
   ]
  },
  {
   "cell_type": "code",
   "execution_count": 85,
   "metadata": {},
   "outputs": [
    {
     "data": {
      "text/plain": [
       "(array([0.10884354, 0.43537415, 0.27210884, 0.27210884, 0.54421769,\n",
       "        0.8707483 , 1.14285714, 0.21768707, 0.10884354, 0.16326531,\n",
       "        0.16326531, 0.21768707, 0.27210884, 0.59863946, 0.97959184,\n",
       "        1.08843537, 0.92517007, 1.63265306, 2.12244898, 2.28571429,\n",
       "        1.79591837, 2.50340136, 5.27891156]),\n",
       " array([0.04166667, 0.08333333, 0.125     , 0.16666667, 0.20833333,\n",
       "        0.25      , 0.29166667, 0.33333333, 0.375     , 0.41666667,\n",
       "        0.45833333, 0.5       , 0.54166667, 0.58333333, 0.625     ,\n",
       "        0.66666667, 0.70833333, 0.75      , 0.79166667, 0.83333333,\n",
       "        0.875     , 0.91666667, 0.95833333, 1.        ]),\n",
       " <BarContainer object of 23 artists>)"
      ]
     },
     "execution_count": 85,
     "metadata": {},
     "output_type": "execute_result"
    },
    {
     "data": {
      "image/png": "[encoded data removed]",
      "text/plain": [
       "<Figure size 432x288 with 1 Axes>"
      ]
     },
     "metadata": {
      "needs_background": "light"
     },
     "output_type": "display_data"
    }
   ],
   "source": [
    "tot=shifts+shifts_2+shifts_3\n",
    "plt.figure()\n",
    "plt.hist(shifts_2,bins=bin_,label='11+13+17',density=True)"
   ]
  },
  {
   "cell_type": "markdown",
   "metadata": {},
   "source": [
    "## Quantification of CNN performance on psths. (on population)"
   ]
  },
  {
   "cell_type": "code",
   "execution_count": 117,
   "metadata": {},
   "outputs": [
    {
     "name": "stdout",
     "output_type": "stream",
     "text": [
      "(20, 30, 23)\n",
      "(30, 23)\n",
      "[0.56528466 0.86413039 0.91429371 0.84353785 0.90500531 0.82807594\n",
      " 0.84496323 0.84932576 0.94668149 0.83777781 0.5712198  0.95256843\n",
      " 0.86931835 0.80343213 0.65601749 0.83156825 0.78196085 0.92717897\n",
      " 0.81340661 0.80559441 0.88044434 0.81257536 0.57932909]\n",
      "0.8123343586028866\n"
     ]
    }
   ],
   "source": [
    "exp= 102\n",
    "if exp==11:\n",
    "    results_folder=\"/media/samuele/Samuele_01/Exp_11/analysis/cnn_12mixed_tr19/run_019\"\n",
    "    dataset = Dataset.load(\"/media/samuele/Samuele_01/Exp_11/analysis/data2_12mixed_tr19.pkl\")\n",
    "# if exp==12:\n",
    "#     results_folder=\"/media/samuele/Samuele_01/Exp_12/analysis/cnn_32mixed_tr21/run_060\"\n",
    "#     dataset = Dataset.load(\"/media/eqs8/Samuele_01/Exp_12/analysis/data2_32mixed_tr21.pkl\")\n",
    "if exp==13:\n",
    "    results_folder=\"/media/samuele/Samuele_01/Exp_13/analysis/cnn_9OFF_tr1/run_097\"\n",
    "    dataset = Dataset.load(\"/media/samuele/Samuele_01/Exp_13/analysis/data2_select_tr1.pkl\")\n",
    "if exp==17:\n",
    "    results_folder=\"/media/samuele/Samuele_01/Exp_17/analysis/cnn_41mixed_tr28_repeat/run_026\"\n",
    "    dataset = Dataset.load(\"/media/samuele/Samuele_01/Exp_17/analysis/data2_41mixed_tr28.pkl\")\n",
    "if exp==19:\n",
    "    results_folder=\"/media/samuele/Samuele_01/Exp_19/analysis/cnn_28mixed_tr35/run_019\"\n",
    "    dataset = Dataset.load(\"/media/samuele/Samuele_01/Exp_19/analysis/data2_28mixed_tr35.pkl\")\n",
    "if exp==101:\n",
    "    results_folder=\"/media/samuele/BC_Samuele/20190523_goodone/analyses/cnn_sys_ident/20200616_025316/run_075\"\n",
    "    dataset = Dataset.load(\"/media/samuele/BC_Samuele/20190523_goodone/analyses/flashed_images/fi/data.pkl\")\n",
    "if exp==102:\n",
    "    results_folder=\"/media/samuele/Samuele_01/Salamander2/cnn_23mixed_tr34/run_030\"\n",
    "    dataset = Dataset.load(\"/media/samuele/Samuele_01/Salamander2/data2_23mixed_tr34.pkl\")\n",
    "\n",
    "dataset.select_cells('all')\n",
    "# train_x, train_y = dataset.train()\n",
    "# val_x, val_y = dataset.val()\n",
    "test_x, test_y = dataset.test(averages=False)\n",
    "\n",
    "#here I reshape the pickle outputs that have a weird 1\n",
    "# train_x=train_x[:,:,:,0]\n",
    "# val_x=val_x[:,:,:,0]\n",
    "test_x=test_x[:,:,:,0]\n",
    "\n",
    "print(test_y.shape)\n",
    "\n",
    "cnn_test_predictions=np.load(os.path.join(results_folder, 'test_predictions.npy'))\n",
    "#these are the CNN results on the testing set\n",
    "cnn_test_predictions=np.mean(cnn_test_predictions,axis=0)\n",
    "#I average across repetitions because the model is not stochastic and so for the same image gives always the same prediction\n",
    "print(cnn_test_predictions.shape)\n",
    "\n",
    "even_test_y = np.mean(test_y[0::2, :, :], axis=0)  # mean over even repetitions\n",
    "odd_test_y = np.mean(test_y[1::2, :, :], axis=0)  # mean over odd repetitions\n",
    "reliabilities = []\n",
    "accuracies_o = []\n",
    "accuracies_e = []\n",
    "nb_cells=test_y.shape[-1]\n",
    "for cell_nb in range(0, nb_cells):\n",
    "    reliability = corrcoef(even_test_y[:, cell_nb], odd_test_y[:, cell_nb])\n",
    "    accuracy_o = corrcoef(cnn_test_predictions[:, cell_nb], odd_test_y[:, cell_nb])\n",
    "    accuracy_e = corrcoef(cnn_test_predictions[:, cell_nb], even_test_y[:, cell_nb])\n",
    "    reliabilities.append(reliability)\n",
    "    accuracies_o.append(accuracy_o)\n",
    "    accuracies_e.append(accuracy_e)\n",
    "reliabilities = np.array(reliabilities)\n",
    "accuracies_o = np.array(accuracies_o)\n",
    "accuracies_e = np.array(accuracies_e)\n",
    "\n",
    "max_explainable_var=2/(1+np.sqrt(1/reliabilities**2))\n",
    "#the variance in the true data that is explainable. The unexplainable part is due to noise\n",
    "\n",
    "nc_cnn_predicted_variance=(0.5*(accuracies_o+accuracies_e))/np.sqrt(reliabilities)\n",
    "#the variance that is actually explained by the model\n",
    "\n",
    "cnn_performance=nc_cnn_predicted_variance/max_explainable_var\n",
    "#the percentage of explainable variance that is explained by the model\n",
    "\n",
    "print(cnn_performance)\n",
    "print(cnn_performance.mean())\n",
    "#print(cnn_test_predictions[:, cell_nb])"
   ]
  },
  {
   "cell_type": "markdown",
   "metadata": {},
   "source": [
    "## Quantification of LN performance on psths. (on population)¶"
   ]
  },
  {
   "cell_type": "code",
   "execution_count": 133,
   "metadata": {},
   "outputs": [
    {
     "name": "stdout",
     "output_type": "stream",
     "text": [
      "0.9661171372264133\n",
      "0.8621423741141351\n",
      "0.926987218040583\n",
      "0.5415750059541351\n",
      "0.42757242555348934\n",
      "0.8175455924213747\n",
      "0.97333789169088\n",
      "Population performance of the LN model:  0.7878968064287158\n"
     ]
    }
   ],
   "source": [
    "exp= 13\n",
    "if exp==11:\n",
    "    results_folder=\"/media/samuele/Samuele_01/Exp_11/analysis/ln_12mixed_tr19/\"\n",
    "    dataset = Dataset.load(\"/media/samuele/Samuele_01/Exp_11/analysis/data2_12mixed_tr19.pkl\")\n",
    "# if exp==12:\n",
    "#     results_folder=\"/media/samuele/Samuele_01/Exp_12/analysis/ln_32mixed_tr21/\"\n",
    "#     dataset = Dataset.load(\"/media/samuele/Samuele_01/Exp_12/analysis/data2_32mixed_tr21.pkl\")\n",
    "if exp==13:\n",
    "    results_folder=\"/media/samuele/Samuele_01/Exp_13/analysis/ln_9OFF_tr1/\"\n",
    "    dataset = Dataset.load(\"/media/samuele/Samuele_01/Exp_13/analysis/data2_select_tr1.pkl\")\n",
    "if exp==17:\n",
    "    results_folder=\"/media/samuele/Samuele_01/Exp_17/analysis/ln_41mixed_tr28/\"\n",
    "    dataset = Dataset.load(\"/media/samuele/Samuele_01/Exp_17/analysis/data2_41mixed_tr28.pkl\")\n",
    "if exp==19:\n",
    "    results_folder=\"/media/samuele/Samuele_01/Exp_19/analysis/ln_28mixed_tr35/\"\n",
    "    dataset = Dataset.load(\"/media/samuele/Samuele_01/Exp_19/analysis/data2_28mixed_tr35.pkl\")\n",
    "if exp==101:\n",
    "    results_folder=\"/media/samuele/Samuele_01/Salamander1/ln_exp101/\"\n",
    "    dataset = Dataset.load(\"/media/samuele/Samuele_01/Salamander1/data.pkl\")\n",
    "if exp==102:\n",
    "    results_folder=\"/media/samuele/Samuele_01/Salamander2/ln_23mixed_tr34/\"\n",
    "    dataset = Dataset.load(\"/media/samuele/Samuele_01/Salamander2/data2_23mixed_tr34.pkl\")\n",
    "\n",
    "\n",
    "dataset.select_cells('all')\n",
    "test_x, test_y = dataset.test(averages=False)\n",
    "nb_cells=test_y.shape[-1]\n",
    "#print(test_y.shape)\n",
    "\n",
    "stim_trials_f= open(results_folder + 'baseline_ln_table_seed_exp{0}.csv'.format(exp))\n",
    "stim_trials_f = csv.reader(stim_trials_f,delimiter=\",\")\n",
    "stim_trials=[]\n",
    "for row in stim_trials_f:\n",
    "    stim_trials.append(np.array(row))\n",
    "stim_trials = np.array(stim_trials[1:])\n",
    "#print(stim_trials)\n",
    "\n",
    "ln_pop_perf=[]\n",
    "for cell_nb in range(nb_cells):\n",
    "    dataset.select_cells([cell_nb])\n",
    "    test_x, test_y = dataset.test(averages=False)\n",
    "    test_x=test_x[:,:,:,0]\n",
    "    best_run=int(stim_trials[cell_nb][2])\n",
    "    if best_run==0: \n",
    "        continue            #these are the cells for which the LN model did not converge\n",
    "    else:\n",
    "        results_f=results_folder+\"c{0:02d}/run_{1:03d}/\".format(cell_nb,best_run)\n",
    "#         print(results_f)\n",
    "        ln_test_predictions=np.load(os.path.join(results_f, 'test_predictions.npy'))\n",
    "        #these are the LN results on the testing set\n",
    "        ln_test_predictions=np.mean(ln_test_predictions,axis=0)[:,0]\n",
    "        #I average across repetitions because the model is not stochastic and so for the same image gives always the same prediction\n",
    "        #print(ln_test_predictions.shape)\n",
    "\n",
    "        even_test_y = np.mean(test_y[0::2, :], axis=0)[:,0]  # mean over even repetitions\n",
    "        odd_test_y = np.mean(test_y[1::2, :], axis=0)[:,0]   # mean over odd repetitions\n",
    "        reliability = corrcoef(even_test_y, odd_test_y)\n",
    "        accuracy_o = corrcoef(ln_test_predictions, odd_test_y)\n",
    "        accuracy_e = corrcoef(ln_test_predictions, even_test_y)\n",
    "\n",
    "        max_explainable_var=2/(1+np.sqrt(1/reliability**2))\n",
    "        #the variance in the true data that is explainable. The unexplainable part is due to noise\n",
    "\n",
    "        nc_ln_predicted_variance=(0.5*(accuracy_o+accuracy_e))/np.sqrt(reliability)\n",
    "        #the variance that is actually explained by the model\n",
    "\n",
    "        ln_performance=nc_ln_predicted_variance/max_explainable_var\n",
    "        #the percentage of explainable variance that is explained by the model\n",
    "        \n",
    "        print(ln_performance)\n",
    "        ln_pop_perf.append([cell_nb, ln_performance])\n",
    "print('Population performance of the LN model:  {0}'.format(np.array(ln_pop_perf)[:,1].mean()))"
   ]
  },
  {
   "cell_type": "code",
   "execution_count": 19,
   "metadata": {},
   "outputs": [],
   "source": [
    "# #estimation of the model performance in predicting the LSTAs using the STA ellipse\n",
    "# #not used, because overperformed by the gaussian fit\n",
    "\n",
    "# exp=13\n",
    "# if exp==11:\n",
    "#     RF_fit_folder = '/media/eqs8/Samuele_01/Exp_11/analysis/STA2_withellipse/'\n",
    "#     codename = 'exp11_m5_RF_fit' \n",
    "#     model_cell_list=[3,44,68,81,95,134,153,199,310,322,388,478]\n",
    "#     results_folder=\"/media/eqs8/Samuele_01/Exp_11/analysis/cnn_12mixed_tr19/run_019\"\n",
    "# if exp==12:\n",
    "#     RF_fit_folder = '/media/eqs8/Samuele_01/Exp_12/analysis/RF_withellipse_newcode/'\n",
    "#     codename = 'exp12_m5_RF_fit' \n",
    "#     model_cell_list=[33,46,74,82,87,93,95,111,120,125,158,173,179,184,192,196,200,202,245,266,271,287,335,354,372,380,415,450,459,460,570,657]\n",
    "#     results_folder=\"/media/eqs8/Samuele_01/Exp_12/analysis/cnn_32mixed_tr21/run_060\"\n",
    "# if exp==13:\n",
    "#     RF_fit_folder = '/media/eqs8/Samuele_01/Exp_13/analysis/Sam_analysis_trial/STAs_withellipses_new/'\n",
    "#     codename = 'exp13_m5_RF_fit' \n",
    "#     model_cell_list=[91,186,202,225,257,621,634,684,748]\n",
    "#     results_folder=\"/media/eqs8/Samuele_01/Exp_13/analysis/cnn_9OFF_tr1/run_097\"\n",
    "# if exp==19: \n",
    "#     model_cell_list=[1,6,33,35,44,65,79,83,89,106,142,145,153,201,211,237,253,285,293,299,311,318,329,338,360,385,390,416,432,435,436,469,493,604]\n",
    "# if exp=='Bapt':\n",
    "#     RF_fit_folder = '/media/eqs8/Samuele_01/Exp_11/analysis/STA2_withellipse/'\n",
    "#     codename = 'exp13_m5_RF_fit' \n",
    "#     model_cell_list=[]\n",
    "#     results_folder=\"/media/eqs8/Samuele_01/Bapt/analysis/cnn_12mixed_tr19/run_019\"\n",
    "\n",
    "# corr_coeffs_ellipse=np.zeros((len(model_cell_list),7))\n",
    "# RF_fit,sharpval = load_obj(RF_fit_folder +codename)\n",
    "# test_lstas_withgray=np.load(os.path.join(results_folder, 'lstas.npy'))\n",
    "# pert_testing=[30,0,1,19,8,12,11]\n",
    "# for idx,cell in enumerate(model_cell_list):\n",
    "#     coor = (np.array(RF_fit[cell][0])) \n",
    "#     Xell,Yell= (np.array((RF_fit[cell][1]))) \n",
    "#     coor_new = (coor - [0.5,0.5]) *check_resize_factor + [0.5,0.5] + [image_translation,image_translation]\n",
    "#     Xell = (  ((Xell-(coor[0]))*ellipse_resize )*check_resize_factor + coor_new[0]  )*108/72\n",
    "#     Yell = (  ((Yell-(coor[1]))*ellipse_resize )*check_resize_factor + coor_new[1]  )*108/72\n",
    "\n",
    "#     exp_lstas=np.load(pckls_folder+'exp{0}_m2_c{1}_s1200_LSTAs.pkl'.format(exp,cell),allow_pickle=True)\n",
    "#     for nb,im in enumerate(exp_lstas):\n",
    "#         res_img=resize(im, (108, 108), anti_aliasing=True)\n",
    "# # plt.figure()  \n",
    "# # plt.imshow(res_img)\n",
    "# # plt.plot(Xell,Yell,'black')\n",
    "# # plt.figure()\n",
    "# # plt.imshow(mask.reshape(108,108))\n",
    "# # plt.plot(Xell,Yell,'red')\n",
    "# # plt.figure()\n",
    "# # plt.imshow(test_lstas_withgray[4,pert_testing[6]])\n",
    "# # plt.plot(Xell,Yell,'red')\n",
    "#         filt_exp=[]\n",
    "#         filt_mod=[]\n",
    "#         for q,w in enumerate(res_img.flatten()):\n",
    "#             if Yell.min()<q/108<Yell.max() and Xell.min()<q%108<Xell.max():\n",
    "#                 filt_exp.append(w) \n",
    "#                 filt_mod.append(test_lstas_withgray[idx,pert_testing[nb]].flatten()[q])\n",
    "\n",
    "#         filt_exp=np.array(filt_exp)\n",
    "#         filt_mod=np.array(filt_mod)\n",
    "\n",
    "#         corr_coeffs_ellipse[idx,nb]=np.corrcoef(filt_exp,filt_mod)[0,1]*abs(exp_LSTAs_pol[np.where(exp_LSTAs_pol[:,0]==cell)[0][0],1][nb])\n",
    "#         #print(abs(exp_LSTAs_pol[np.where(exp_LSTAs_pol[:,0]==cell)[0][0],1][nb]))"
   ]
  },
  {
   "cell_type": "code",
   "execution_count": 87,
   "metadata": {},
   "outputs": [],
   "source": [
    "# #estimation of the model performance in predicting the LSTAs using the denoising +thresholding\n",
    "# #not used, because overperformed by the gaussian fit\n",
    "\n",
    "# exp=13\n",
    "# if exp==11:\n",
    "#     model_cell_list=[3,44,68,81,95,134,153,199,310,322,388,478]\n",
    "#     results_folder=\"/media/eqs8/Samuele_01/Exp_11/analysis/cnn_12mixed_tr19/run_019\"\n",
    "# if exp==12:\n",
    "#     model_cell_list=[33,46,74,82,87,93,95,111,120,125,158,173,179,184,192,196,200,202,245,266,271,287,335,354,372,380,415,450,459,460,570,657]\n",
    "#     results_folder=\"/media/eqs8/Samuele_01/Exp_12/analysis/cnn_32mixed_tr21/run_060\"\n",
    "# if exp==13:\n",
    "#     model_cell_list=[91,186,202,225,257,621,634,684,748]\n",
    "#     results_folder=\"/media/eqs8/Samuele_01/Exp_13/analysis/cnn_9OFF_tr1/run_097\"\n",
    "# if exp=='Bapt':\n",
    "#     model_cell_list=[]\n",
    "#     results_folder=\"/media/eqs8/Samuele_01/Bapt/analysis/cnn_12mixed_tr19/run_019\"\n",
    "\n",
    "# corr_coeffs_tresh=np.zeros((len(model_cell_list),7))\n",
    "\n",
    "# test_lstas_withgray=np.load(os.path.join(results_folder, 'lstas.npy'))\n",
    "# pert_testing=np.array([30,0,1,19,8,12,11])\n",
    "\n",
    "# for idx,cell in enumerate(model_cell_list):\n",
    "#     exp_lstas=np.load(pckls_folder+'exp{0}_m2_c{1}_s1200_LSTAs.pkl'.format(exp,cell),allow_pickle=True)\n",
    "\n",
    "#     for img_idx in range(exp_lstas.shape[0]):\n",
    "#     #for img_idx in range(2,4,1):                     #to threshold only one image of a cell\n",
    "        \n",
    "#         new_img_1=gaussian(exp_lstas[img_idx],sigma=2)\n",
    "#         new_img=resize(new_img_1, (108, 108), anti_aliasing=True)\n",
    "\n",
    "#         on_filt=[]\n",
    "#         off_filt=[]\n",
    "#         for spot,pix in enumerate(new_img.flatten()):\n",
    "#             if new_img.max()>abs(new_img.min()):\n",
    "#                 if pix>(new_img.max()-3*new_img.std()):\n",
    "#                     on_filt.append([spot,pix])\n",
    "#             if new_img.max()< abs(new_img.min()):\n",
    "#                 if pix<(new_img.min()+3*new_img.std()):\n",
    "#                     off_filt.append([spot,pix])\n",
    "#         if on_filt:\n",
    "#             on_filt=np.array(on_filt)\n",
    "#             x_max=int(on_filt[on_filt[:,1].argmax(),0]%108)\n",
    "#             y_max=int(on_filt[on_filt[:,1].argmax(),0]/108)\n",
    "#             x_shifts=abs((on_filt[:,0]%108)-x_max)\n",
    "#             y_shifts=abs((on_filt[:,0]/108).astype(int)-y_max)\n",
    "#             sign_on_filt=[]\n",
    "#             model_mask=[]\n",
    "#             for i in range(np.size(x_shifts)):\n",
    "#                 if x_shifts[i]+y_shifts[i]<6: \n",
    "#                     sign_on_filt.append(on_filt[i,1])\n",
    "#                     model_mask.append(test_lstas_withgray[idx,pert_testing[img_idx],int(on_filt[i,0]%108), int(on_filt[i,0]/108)])\n",
    "#                 else:continue\n",
    "#             corr_coeffs[idx,img_idx]=corrcoef(sign_on_filt,model_mask)*abs(labels[np.where(labels[:,0]==cell)[0][0],1][img_idx])\n",
    "#         if off_filt:\n",
    "#             off_filt=np.array(off_filt)\n",
    "#             x_max=int(off_filt[off_filt[:,1].argmax(),0]%108)\n",
    "#             y_max=int(off_filt[off_filt[:,1].argmax(),0]/108)\n",
    "#             x_shifts=abs((off_filt[:,0]%108)-x_max)\n",
    "#             y_shifts=abs((off_filt[:,0]/108).astype(int)-y_max)\n",
    "#             sign_off_filt=[]\n",
    "#             model_mask=[]\n",
    "#             for i in range(np.size(x_shifts)):\n",
    "#                 if x_shifts[i]+y_shifts[i]<6:\n",
    "#                     sign_off_filt.append(off_filt[i,1])\n",
    "#                     model_mask.append(test_lstas_withgray[idx,pert_testing[img_idx],int(off_filt[i,0]%108), int(off_filt[i,0]/108)])\n",
    "#                 else:continue\n",
    "#             corr_coeffs_tresh[idx,img_idx]=corrcoef(sign_off_filt,model_mask)*abs(labels[np.where(labels[:,0]==cell)[0][0],1][img_idx])\n",
    "#     print(cell)"
   ]
  },
  {
   "cell_type": "markdown",
   "metadata": {},
   "source": [
    "### do a boothstrap on the Experimental LSTA in oder to assess which is the fraction of variance that can be explained by the model and which is just noise"
   ]
  },
  {
   "cell_type": "code",
   "execution_count": 86,
   "metadata": {},
   "outputs": [],
   "source": [
    "# #get the picklesnames list\n",
    "# pkls = []\n",
    "# pknames = []\n",
    "# pkcount=0\n",
    "\n",
    "# pkldirs = '/media/eqs8/Samuele_01/Exp_13/analysis/Sam_analysis_trial/s1200_rasters_new'\n",
    "\n",
    "# #-----------------------------------------------\n",
    "# # Here I load all the pickles names\n",
    "# # we make the list of names, and the list of address to open\n",
    "# #-----------------------------------------------\n",
    "\n",
    "# pks = getfiles(startdir=pkldirs, phrase='.pkl', function='endswith')\n",
    "# for pk in pks:\n",
    "#     pkls.append(pk)\n",
    "\n",
    "# pkls = sorted(pkls)\n",
    "\n",
    "# for pk in pkls[:]:\n",
    "#     pknames.append((pk.split('/')[-1].split('_s1200_times.pkl')[0]))\n",
    "        \n",
    "\n",
    "# pkcount = len(pkls)\n",
    "# print(pkcount)   \n",
    "# pknames[38:]\n",
    "\n",
    "# #-----------------------------------------------\n",
    "# # Here I load all the pertrubation folder\n",
    "# #-----------------------------------------------\n",
    "# patFolder = '/media/eqs8/Samuele_01/Exp_11/stimuli/20210205-FI_MERGE/20210205-fipwrc_6imgs_1200reps_ml50_std25_amp32/patterns/'\n",
    "    \n",
    "# pknames"
   ]
  },
  {
   "cell_type": "code",
   "execution_count": 88,
   "metadata": {},
   "outputs": [],
   "source": [
    "# #load the trigs\n",
    "# Mtimes = []\n",
    "# Trigs = []\n",
    "\n",
    "# fs=20000\n",
    "\n",
    "# exp=13\n",
    "# nmeas=5\n",
    "\n",
    "# time_elapsed = 0\n",
    "# for meas in np.arange(nmeas)+1:\n",
    "    \n",
    "#     rootF= '/media/eqs8/Samuele_01/Exp_13/analysis/pckls_triggers/'\n",
    "#     trigs,ttot= load_obj(rootF + 'exp'+str(exp)+'-meas_0' + str(meas) + '_triggers_unfilt')\n",
    "    \n",
    "#     Trigs.append(time_elapsed+trigs/fs)\n",
    "#     Mtimes.append(time_elapsed)\n",
    "    \n",
    "#     time_elapsed+=ttot\n",
    "\n",
    "# #Load the frames of the perturbation stimulus\n",
    "# date = '20210205-'\n",
    "\n",
    "# if exp>10: \n",
    "#     stimF ='/media/eqs8/Samuele_01/Exp_11/stimuli/20210205-FI_MERGE/20210205-fi_merge_ml50_std25/' + date + 'fi_merge_'\n",
    "#     stim_index=1\n",
    "# #-----------------\n",
    "# # Get start times and make rasters\n",
    "# #-----------\n",
    "# # Get stim trials\n",
    "\n",
    "# stim_trials_f= open(stimF + 'fipwrc_trials.csv')\n",
    "# stim_trials_f = csv.reader(stim_trials_f,delimiter=\",\")\n",
    "\n",
    "# stim_trials=[]\n",
    "# for row in stim_trials_f:\n",
    "#     stim_trials.append(np.array(row))\n",
    "\n",
    "# stim_trials_head = stim_trials[0]\n",
    "# stim_trials = np.array(stim_trials[1:]).astype(float)\n",
    "# print(stim_trials_head)\n",
    "\n",
    "\n",
    "# #-------------------------------\n",
    "# #convert to times with trigtimes\n",
    "# trigs = Trigs[stim_index]\n",
    "\n",
    "# if exp==11 and stim_index==1:   # missing trials in the end\n",
    "#     trigs = np.concatenate((Trigs[1], -np.ones((301429-(Trigs[stim_index].shape)[0])))) #froze fix\n",
    "\n",
    "\n",
    "# for st in stim_trials:\n",
    "#     st[2]=trigs[int(st[2])]\n",
    "#     st[3]=trigs[int(st[3])+1]\n",
    "\n",
    "# #stim_trials[:,2]=stim_trials[:,2]/frate\n",
    "# #stim_trials[:,3]=(stim_trials[:,3]+1)/frate\n",
    "\n",
    "# #-----------\n",
    "# # Get conditions\n",
    "\n",
    "# stimF ='/media/eqs8/Samuele_01/Exp_11/stimuli/20210205-FI_MERGE/20210205-fipwrc_6imgs_1200reps_ml50_std25_amp32/' + date \n",
    "\n",
    "# stim_cond_f= open(stimF + 'fipwrc_conditions.csv')\n",
    "# stim_cond_f = csv.reader(stim_cond_f,delimiter=\",\")\n",
    "\n",
    "# stim_cond={}\n",
    "# stim_pattern={}\n",
    "# c=0\n",
    "# for row in stim_cond_f:\n",
    "#     if c==0:\n",
    "#         stim_cond_head = row\n",
    "#         c=1\n",
    "#     else:\n",
    "#         stim_cond[row[0]]= int(row[1])\n",
    "#         stim_pattern[row[0]]=int(row[2])\n",
    "\n",
    "# print(stim_cond_head)\n",
    "\n",
    "# #---------------------\n",
    "# # Get images start times and pert_nb\n",
    "\n",
    "# pert_nb = np.zeros([7,1200])\n",
    "# im_starts= np.zeros([7,1200])\n",
    "# im_patterns=np.zeros([7,1200])\n",
    "\n",
    "# im_count = np.zeros(7,dtype='int')\n",
    "\n",
    "# for stim in stim_trials:\n",
    "#     condition = int(stim[1])\n",
    "#     im_nb =  int(stim_cond[str(condition)])\n",
    "#     pattern = int(stim_pattern[str(condition)])\n",
    "\n",
    "#     im_starts[im_nb,im_count[im_nb]] = stim[2]\n",
    "\n",
    "#     im_patterns[im_nb,im_count[im_nb]]= pattern\n",
    "    \n",
    "#     im_count[im_nb]+=1\n",
    "\n",
    "    "
   ]
  },
  {
   "cell_type": "code",
   "execution_count": 89,
   "metadata": {},
   "outputs": [],
   "source": [
    "# #code for producing the LSTA splits for the bootstrap. LOOK IF THE FILE HAS ALREADY BEEN GENERATED!!!\n",
    "# if exp==11:\n",
    "#     model_cell_list=np.array([3,44,68,81,95,134,153,199,310,322,388,478])\n",
    "# if exp==13:\n",
    "#     model_cell_list=np.array([91,186,202,225,257,621,634,684,748])\n",
    "\n",
    "# t_start = 0.03   # window start to count spikes\n",
    "# t_end = 0.05     # window end to count spikes\n",
    "# raster_len = 0.6\n",
    "# frate = 40\n",
    "\n",
    "# spilt_size=200\n",
    "\n",
    "# splits=[]\n",
    "# nb_splits=int(1200/spilt_size)\n",
    "# for i in range(nb_splits):\n",
    "#     splits.append(np.delete(np.arange(0,1200,1),[range(i*spilt_size,(i+1)*spilt_size)],axis=0))\n",
    "# splits=np.array(splits)\n",
    "\n",
    "# LSTAS_Splits=np.zeros((len(model_cell_list), 7,nb_splits,patim_size,patim_size))\n",
    "# i0=0\n",
    "# iz=len(pknames)    \n",
    "# #-------------------------------------    \n",
    "# # start loop\n",
    "# i=i0\n",
    "# for pk in pkls[i0:iz]:\n",
    "#     clus=pknames[i]\n",
    "#     clus_nb=int(clus.split('_')[2][1:])\n",
    "#     #print(clus_nb)\n",
    "#     if clus_nb in model_cell_list: \n",
    "#         print(clus_nb)\n",
    "#         if not(clus.split('_')[0][3:]==str(exp)):\n",
    "#             i+=1\n",
    "#             continue\n",
    "\n",
    "#     #     print('cluster ',clus)\n",
    "#         #Get raster_times\n",
    "#         raster = load_obj(pk)\n",
    "\n",
    "#         spcount = np.zeros([7,nb_splits],dtype='int')\n",
    "#         lsta=np.zeros([7,nb_splits,patim_size,patim_size])\n",
    "\n",
    "#         for im in np.arange(7):\n",
    "#             for sp,nb_rep in enumerate(splits):        \n",
    "#                 for pat in nb_rep:\n",
    "#                     #-----------------\n",
    "#                     #load pattern\n",
    "#                     pat_nb = int(im_patterns[im,pat])\n",
    "#                     pat_img_file = patFolder + 'pattern_'+str(pat_nb)+'_data.npy'\n",
    "#                     pat_img = load(pat_img_file)\n",
    "#                     pat_img = pat_img[::-1,:]    # this is to load the patterns with the correct orientation!!!!!!!!!\n",
    "#                     #-----------------\n",
    "\n",
    "#                     spcount_imrep = len( raster[pat][ (raster[pat]>=0.6*im+t_start) & (raster[pat]<0.6*(im+1)-0.3+t_end) ] )\n",
    "#                     lsta[im,sp]+=pat_img * spcount_imrep\n",
    "#                     spcount[im,sp]+=spcount_imrep\n",
    "\n",
    "#                 lsta[im,sp]=np.divide(lsta[im,sp],spcount[im,sp])\n",
    "                \n",
    "#         LSTAS_Splits[np.where(model_cell_list==clus_nb)[0][0]]=lsta\n",
    "#         i+=1\n",
    "#     else:\n",
    "# #         print(clus_nb)\n",
    "#         i+=1\n",
    "#         continue\n",
    "# np.save('/media/eqs8/Samuele_01/Exp_13/analysis/LSTAS_Splits_1000',LSTAS_Splits)\n",
    "# print('Done!')"
   ]
  },
  {
   "cell_type": "code",
   "execution_count": 28,
   "metadata": {},
   "outputs": [
    {
     "data": {
      "text/plain": [
       "(9, 7, 6, 72, 72)"
      ]
     },
     "execution_count": 28,
     "metadata": {},
     "output_type": "execute_result"
    }
   ],
   "source": [
    "# # LSTAS_Splits_1=np.load('/media/eqs8/Samuele_01/Exp_12/analysis/LSTAS_Splits_1100.npy')\n",
    "# # LSTAS_Splits_1.shape\n",
    "\n",
    "# LSTAS_Splits_2=np.load('/media/eqs8/Samuele_01/Exp_13/analysis/LSTAS_Splits_1000.npy')\n",
    "# LSTAS_Splits_2.shape"
   ]
  },
  {
   "cell_type": "code",
   "execution_count": 90,
   "metadata": {},
   "outputs": [],
   "source": [
    "# exp=13\n",
    "# RF_fit_folder = '/media/eqs8/Samuele_01/Exp_13/analysis/Sam_analysis_trial/STAs_withellipses_new/'\n",
    "\n",
    "# meas_RF_fit = 5#[1,5]\n",
    "\n",
    "# codename = 'exp'+str(exp)+'_m'+str(meas_RF_fit)+ '_RF_fit' \n",
    "# RF_fit,sharpval = load_obj(RF_fit_folder +codename)\n",
    "\n",
    "# ellipse_resize= 1. #0000000000001     # resize ellipse from checkerboard RF\n",
    "\n",
    "# if exp>=14:  \n",
    "#     check_resize_factor = 1                       #\n",
    "#     image_translation = 72       / 12           # in check units of lsta (72px decalage/#pixpercheck)\n",
    "#     patim_size = 72\n",
    "    \n",
    "# if exp>10 or exp<14:\n",
    "#     check_resize_factor = (864/73) / 12                       #73/60\n",
    "#     image_translation = 72       / (864/73)           # in check units of lsta (72px decalage/#pixpercheck)\n",
    "#     patim_size = 72\n",
    "    \n",
    "# if exp<=10:\n",
    "#     check_resize_factor = (864/57) / 21           #56/50   # RF and LSTA are on checkerboard coordinates\n",
    "#                                                 # have to resize according to pixel size of each check\n",
    "#     image_translation = -93       / 21           # in check units of lsta\n",
    "#     patim_size = 56\n",
    "\n",
    "# if exp==11:\n",
    "#     model_cell_list=np.array([3,44,68,81,95,134,153,199,310,322,388,478])\n",
    "# if exp==12:\n",
    "#     model_cell_list=np.array([33,46,74,82,87,93,95,111,120,125,158,173,179,184,192,196,200,202,245,266,271,287,335,354,372,380,415,450,459,460,570,657])\n",
    "# if exp==13:\n",
    "#     model_cell_list=np.array([91,186,202,225,257,621,634,684,748])\n",
    "    \n",
    "# expl_var=np.zeros((len(model_cell_list),7))\n",
    "# for set_nb, lstasplit_set in enumerate(LSTAS_Splits_2):\n",
    "# #     print(model_cell_list[set_nb])\n",
    "#     coor = (np.array(RF_fit[model_cell_list[set_nb]][0])) \n",
    "#     Xell,Yell= (np.array((RF_fit[model_cell_list[set_nb]][1]))) \n",
    "#     #-------------------------------------------\n",
    "#     # resize and convert to python coordinates\n",
    "#     #-------------------------------------------\n",
    "#     # top left corner in Matlab is: 0.5,0.5\n",
    "#     # in matlab is -0.5,-0.5. Have to shift, resize. And then reshift (inversion was done at RF_fit step)\n",
    "\n",
    "#     coor_new = (coor - [0.5,0.5]) *check_resize_factor + [0.5,0.5] + [image_translation,image_translation]\n",
    "\n",
    "#     Xell = ( ((Xell-(coor[0]))*ellipse_resize )*check_resize_factor + coor_new[0] )*108/72\n",
    "#     Yell = ( ((Yell-(coor[1]))*ellipse_resize )*check_resize_factor + coor_new[1] )*108/72\n",
    "    \n",
    "#     for split_nb, lsta_split in enumerate(lstasplit_set):  #iterate along the 7 images\n",
    "# #         print(split_nb)\n",
    "#         splits_corr_coeffs=[]\n",
    "#         for outer_sample_index, outer_lsta_sample in enumerate(lsta_split):\n",
    "#             outer_sta_sample_res=resize(outer_lsta_sample, (108, 108), anti_aliasing=True)\n",
    "#                                     #resize(im, (108, 108), anti_aliasing=True)\n",
    "#             outer_filt=[]\n",
    "#             for q,w in enumerate(outer_sta_sample_res.flatten()):\n",
    "#                 if Yell.min()<q/108<Yell.max() and Xell.min()<q%108<Xell.max():\n",
    "#                     outer_filt.append(w) \n",
    "#             outer_filt=np.array(outer_filt)\n",
    "#             for inner_sample_index, inner_lsta_sample in enumerate(lsta_split):\n",
    "#                 if outer_sample_index<inner_sample_index:\n",
    "#                     inner_sta_sample_res=resize(inner_lsta_sample, (108, 108), anti_aliasing=True)\n",
    "#                     inner_filt=[]\n",
    "#                     for h,l in enumerate(inner_sta_sample_res.flatten()):\n",
    "#                         if Yell.min()<h/108<Yell.max() and Xell.min()<h%108<Xell.max():\n",
    "#                             inner_filt.append(l) \n",
    "#                     inner_filt=np.array(inner_filt)\n",
    "# #                     print( abs(exp_LSTAs_pol[np.where(exp_LSTAs_pol[:,0]==model_cell_list[set_nb])[0][0],1][split_nb]), model_cell_list[set_nb] )\n",
    "#                     splits_corr_coeffs.append(np.corrcoef(outer_filt,inner_filt)[0,1]*abs(exp_LSTAs_pol[np.where(exp_LSTAs_pol[:,0]==model_cell_list[set_nb])[0][0],1][split_nb]))\n",
    "#         expl_var[set_nb,split_nb]=np.array(splits_corr_coeffs).mean()\n",
    "#     print(set_nb)"
   ]
  },
  {
   "cell_type": "code",
   "execution_count": 30,
   "metadata": {},
   "outputs": [],
   "source": [
    "# np.save('/media/eqs8/Samuele_01/Exp_13/analysis/Exp_LSTAs_expl_var_1000.npy',expl_var)\n",
    "# expl_var=np.load('/media/eqs8/Samuele_01/Exp_13/analysis/Exp_LSTAs_expl_var_1000.npy')\n",
    "# expl_var"
   ]
  },
  {
   "cell_type": "code",
   "execution_count": 11,
   "metadata": {},
   "outputs": [],
   "source": [
    "# exp=13\n",
    "# expl_var=np.load('/media/eqs8/Samuele_01/Exp_13/analysis/Exp_LSTAs_expl_var_1000.npy')\n",
    "# if exp==12:\n",
    "#     model_cell_list=np.array([33,46,74,82,87,93,95,111,120,125,158,173,179,184,192,196,200,202,245,266,271,287,335,354,372,380,415,450,459,460,570,657])\n",
    "# if exp==13:\n",
    "#     model_cell_list=[91,186,202,225,257,621,634,684,748]\n",
    "    \n",
    "# for clus_id, cluster in enumerate(expl_var):\n",
    "#     if not np.all(cluster==0.):\n",
    "#         denum=np.array(list(filter(lambda x : x != 0., cluster)))\n",
    "#         num=np.array(list(filter(lambda x : x != 0. or x!=-0., corr_coeffs_ellipse[clus_id])))\n",
    "#         print(model_cell_list[clus_id],(num/denum).mean())"
   ]
  },
  {
   "cell_type": "markdown",
   "metadata": {},
   "source": [
    "## Quantification of the quality of the CNN model in predicting LSTAs "
   ]
  },
  {
   "cell_type": "code",
   "execution_count": 115,
   "metadata": {},
   "outputs": [],
   "source": [
    "MAJOR CHNGES NEEDED MADE IN THE FIGURES NOTEBOOK\n",
    "\n",
    "exp=17\n",
    "#trial with a gaussain fitting\n",
    "\n",
    "x, y = np.meshgrid(np.linspace(0,108,108), np.linspace(0,108,108))\n",
    "def gaussian_filt( x,y ,x0,y0,sx,sy,theta,amp):\n",
    "    x1=x*np.cos(theta)-y*np.sin(theta)-x0*np.cos(theta)+y0*np.sin(theta)\n",
    "    y1=y*np.cos(theta)+x*np.sin(theta)-y0*np.cos(theta)-x0*np.sin(theta)\n",
    "    return amp*np.exp(-((x1**2. / (2. * sx**2.) + (y1)**2. / (2. * sy**2.))))\n",
    "def gaussian_filt_1( input_ ,x0,y0,sx,sy,theta,amp):\n",
    "    x1=input_[0]*np.cos(theta)-input_[1]*np.sin(theta)-x0*np.cos(theta)+y0*np.sin(theta)\n",
    "    y1=input_[1]*np.cos(theta)+input_[0]*np.sin(theta)-y0*np.cos(theta)-x0*np.sin(theta)\n",
    "    return (amp*np.exp(-((x1**2. / (2. * sx**2.) + (y1)**2. / (2. * sy**2.))))).ravel()\n",
    "\n",
    "if exp==11:\n",
    "    model_cell_list=[3,44,68,81,95,134,153,199,310,322,388,478]\n",
    "    results_folder=\"/media/samuele/Samuele_01/Exp_11/analysis/cnn_12mixed_tr19/run_019\"\n",
    "    pckls_folder='/media/samuele/Samuele_01/Exp_11/analysis/LSTAs1200_zoom_new/'\n",
    "    label=np.load('/media/samuele/Samuele_01/Exp_11/analysis/exp_LSTAS_labels_berens_exp11.npy',allow_pickle=True)\n",
    "    nb_imgs=7\n",
    "    pert_nb=1200\n",
    "    m=2\n",
    "if exp==12:\n",
    "    model_cell_list=[33,46,74,82,87,93,95,111,120,125,158,173,179,184,192,196,200,202,245,266,271,287,335,354,372,380,415,450,459,460,570,657]\n",
    "    results_folder=\"/media/samuele/Samuele_01/Exp_12/analysis/cnn_32mixed_tr21/run_060\"\n",
    "    pckls_folder='/media/samuele/Samuele_01/Exp_12/analysis/LSTAs_newcode/'\n",
    "    label=np.load('/media/samuele/Samuele_01/Exp_12/analysis/exp_LSTAS_labels_ellipse_exp12.npy',allow_pickle=True)\n",
    "    nb_imgs=7\n",
    "    pert_nb=1200\n",
    "if exp==13: \n",
    "    model_cell_list=[91,186,202,225,257,621,634,684,748]\n",
    "    results_folder=\"/media/samuele/Samuele_01/Exp_13/analysis/cnn_9OFF_tr1/run_097\"\n",
    "    pckls_folder='/media/samuele/Samuele_01/Exp_13/analysis/LSTAs_newcode/'\n",
    "    label=np.load('/media/samuele/Samuele_01/Exp_13/analysis/exp_LSTAS_labels_berens_exp13.npy',allow_pickle=True)\n",
    "    nb_imgs=7\n",
    "    pert_nb=1200\n",
    "    m=2\n",
    "if exp==17: \n",
    "    model_cell_list=[22,30,78,88,89,116,177,262,285,289,339,349,376,402,412,515,553,561,579,680,708,754,767,776,796,800,862,868,892,910,960,962,991,994,998,1007,1009,1014,1029,1031,1032]\n",
    "    results_folder=\"/media/samuele/Samuele_01/Exp_17/analysis/cnn_41mixed_tr28_repeat/run_026\"\n",
    "    pckls_folder='/media/samuele/Samuele_01/Exp_17/analysis/LSTA_1000/'\n",
    "    label=np.load('/media/samuele/Samuele_01/Exp_17/analysis/exp_LSTAS_labels_berens_exp17.npy',allow_pickle=True)\n",
    "    nb_imgs=8\n",
    "    pert_nb=1000\n",
    "    m=4\n",
    "if exp==19: \n",
    "    model_cell_list=[6,33,44,65,79,83,89,142,145,153,201,211,237,253,293,299,311,318,329,338,360,385,416,432,435,436,493,604]\n",
    "    results_folder=\"/media/samuele/Samuele_01/Exp_19/analysis/cnn_28mixed_tr35/run_019\"\n",
    "    pckls_folder='/media/samuele/Samuele_01/Exp_19/analysis/LSTA_1000/'\n",
    "    label=np.load('/media/samuele/Samuele_01/Exp_19/analysis/exp_LSTAS_labels_berens_exp19.npy',allow_pickle=True)\n",
    "    nb_imgs=8\n",
    "    pert_nb=1000\n",
    "    m=\n",
    "if exp==101:\n",
    "    model_cell_list=[815,816,817,821,823,842,850,857,865,868,869,871,883,886,887,888,889,892,894,903,905,907,913,914,915,916,917]\n",
    "    results_folder=\"/media/samuele/Samuele_01/Salamander1/cnn_27mixed/run_075\"\n",
    "    pckls_folder='/media/samuele/Samuele_01/Salamander1/LSTA_1200/'\n",
    "    label=np.load('/media/samuele/Samuele_01/Salamander1/exp_LSTAS_labels_berens_exp101.npy',allow_pickle=True)\n",
    "    nb_imgs=4\n",
    "    pert_nb=1200 \n",
    "if exp==102:\n",
    "    model_cell_list=[ 109,  197,  999, 1000, 1009, 1014, 1018, 1029, 1042, 1046, 1047,1051, 1055, 1154, 1165, 1167, 1178, 1181, 1182, 1183, 1184, 1185, 1186] \n",
    "    results_folder=\"/media/samuele/Samuele_01/Salamander2/cnn_23mixed_tr34/run_030\"\n",
    "    pckls_folder='/media/samuele/Samuele_01/Salamander2/LSTAs_1200/'\n",
    "    label=np.load('/media/samuele/Samuele_01/Salamander2/exp_LSTAS_labels_berens_exp102.npy',allow_pickle=True)\n",
    "    nb_imgs=4\n",
    "    pert_nb=1200\n",
    "    \n",
    "corr_coeffs_gaussfit=np.zeros((len(model_cell_list),nb_imgs))\n",
    "test_lstas_withgray=np.load(os.path.join(results_folder, 'lstas.npy'))\n",
    "if exp==17: pert_testing=[16,0,1,19,8,12,11,24]\n",
    "else:pert_testing=[30,0,1,19,8,12,11]\n",
    "for idx,cell in enumerate(model_cell_list):\n",
    "    \n",
    "    exp_lstas=np.load(pckls_folder+'exp{0}_m{3}_c{1}_s{2}_LSTAs.pkl'.format(exp,cell,pert_nb,m),allow_pickle=True)\n",
    "    for nb,im in enumerate(exp_lstas):\n",
    "        denoised_im=gaussian(im,sigma=1)\n",
    "        res_img=resize(denoised_im, (108, 108), anti_aliasing=True)\n",
    "# plt.figure()  \n",
    "# plt.imshow(res_img)\n",
    "# plt.plot(Xell,Yell,'black')\n",
    "# plt.figure()\n",
    "# plt.imshow(mask.reshape(108,108))\n",
    "# plt.plot(Xell,Yell,'red')\n",
    "# plt.figure()\n",
    "# plt.imshow(test_lstas_withgray[4,pert_testing[6]])\n",
    "        if abs(res_img.min())> abs(res_img.max()): p0=[res_img.argmin()%108, int(res_img.argmin()/108),2,2, 0,-1]\n",
    "        if abs(res_img.max())> abs(res_img.min()): p0=[res_img.argmax()%108, int(res_img.argmax()/108),2,2, 0,1]\n",
    "        try: \n",
    "            best_vals, covar = curve_fit(gaussian_filt_1, np.array((x, y)), res_img.ravel(), p0=p0)\n",
    "            model_pred=test_lstas_withgray[idx,pert_testing[nb]]\n",
    "            corr_coeffs_gaussfit[idx,nb]=corrcoef(gaussian_filt_1((x,y), *best_vals),model_pred.flatten()) *abs(label[np.where(label[:,0]==cell)[0][0],1][nb])\n",
    "        except: corr_coeffs_gaussfit[idx,nb]=0"
   ]
  },
  {
   "cell_type": "code",
   "execution_count": 116,
   "metadata": {},
   "outputs": [
    {
     "name": "stdout",
     "output_type": "stream",
     "text": [
      "0.5664186058563693\n"
     ]
    }
   ],
   "source": [
    "list_=[]\n",
    "for i in range(test_lstas_withgray.shape[0]):\n",
    "    if list(filter(lambda x : x != 0. or x!=-0., corr_coeffs_gaussfit[i] )):\n",
    "        list_.append(np.array(list(filter(lambda x : x != 0. or x!=-0., corr_coeffs_gaussfit[i] ))).mean() )\n",
    "    else:continue\n",
    "    \n",
    "print(np.array(list_).mean())\n",
    "#print(np.array(list_))\n",
    "# list_=np.array(list_)\n",
    "# #list_=np.delete(list_, np.where(list_==nan)[0])\n",
    "# # print(list_)\n",
    "# print(np.where(list_==float(\"nan\"))[0])"
   ]
  },
  {
   "cell_type": "markdown",
   "metadata": {},
   "source": [
    "## Quantification of the quality of the LN model in predicting LSTAs "
   ]
  },
  {
   "cell_type": "code",
   "execution_count": null,
   "metadata": {},
   "outputs": [],
   "source": [
    "MAJOR CHANGES NEEDED\n",
    "\n",
    "exp=17\n",
    "#trial with a gaussain fitting\n",
    "\n",
    "x, y = np.meshgrid(np.linspace(0,108,108), np.linspace(0,108,108))\n",
    "def gaussian_filt( x,y ,x0,y0,sx,sy,theta,amp):\n",
    "    x1=x*np.cos(theta)-y*np.sin(theta)-x0*np.cos(theta)+y0*np.sin(theta)\n",
    "    y1=y*np.cos(theta)+x*np.sin(theta)-y0*np.cos(theta)-x0*np.sin(theta)\n",
    "    return amp*np.exp(-((x1**2. / (2. * sx**2.) + (y1)**2. / (2. * sy**2.))))\n",
    "def gaussian_filt_1( input_ ,x0,y0,sx,sy,theta,amp):\n",
    "    x1=input_[0]*np.cos(theta)-input_[1]*np.sin(theta)-x0*np.cos(theta)+y0*np.sin(theta)\n",
    "    y1=input_[1]*np.cos(theta)+input_[0]*np.sin(theta)-y0*np.cos(theta)-x0*np.sin(theta)\n",
    "    return (amp*np.exp(-((x1**2. / (2. * sx**2.) + (y1)**2. / (2. * sy**2.))))).ravel()\n",
    "\n",
    "if exp==11:\n",
    "    model_cell_list=[3,44,68,81,95,134,153,199,310,322,388,478]\n",
    "    results_folder=\"/media/eqs8/Samuele_01/Exp_11/analysis/cnn_12mixed_tr19/run_019\"\n",
    "    pckls_folder='/media/eqs8/Samuele_01/Exp_11/analysis/LSTAs1200_zoom_new/'\n",
    "    label=np.load('/media/eqs8/Samuele_01/Exp_11/analysis/exp_LSTAS_labels_berens_exp11.npy',allow_pickle=True)\n",
    "    nb_imgs=7\n",
    "    pert_nb=1200\n",
    "    m=2\n",
    "if exp==12:\n",
    "    model_cell_list=[33,46,74,82,87,93,95,111,120,125,158,173,179,184,192,196,200,202,245,266,271,287,335,354,372,380,415,450,459,460,570,657]\n",
    "    results_folder=\"/media/eqs8/Samuele_01/Exp_12/analysis/cnn_32mixed_tr21/run_060\"\n",
    "    pckls_folder='/media/eqs8/Samuele_01/Exp_12/analysis/LSTAs_newcode/'\n",
    "    label=np.load('/media/eqs8/Samuele_01/Exp_12/analysis/exp_LSTAS_labels_berens_exp12.npy',allow_pickle=True)\n",
    "    nb_imgs=7\n",
    "    pert_nb=1200\n",
    "if exp==13: \n",
    "    model_cell_list=[91,186,202,225,257,621,634,684,748]\n",
    "    results_folder=\"/media/eqs8/Samuele_01/Exp_13/analysis/cnn_9OFF_tr1/run_097\"\n",
    "    pckls_folder='/media/eqs8/Samuele_01/Exp_13/analysis/LSTAs_newcode/'\n",
    "    label=np.load('/media/eqs8/Samuele_01/Exp_13/analysis/exp_LSTAS_labels_berens_exp13.npy',allow_pickle=True)\n",
    "    nb_imgs=7\n",
    "    pert_nb=1200\n",
    "    m=2\n",
    "if exp==17: \n",
    "    model_cell_list=[22,30,78,88,89,116,177,262,285,289,339,349,376,402,412,515,553,561,579,680,708,754,767,776,796,800,862,868,892,910,960,962,991,994,998,1007,1009,1014,1029,1031,1032]\n",
    "    results_folder=\"/media/eqs8/Samuele_01/Exp_17/analysis/cnn_41mixed_tr28_repeat/run_026\"\n",
    "    pckls_folder='/media/eqs8/Samuele_01/Exp_17/analysis/LSTA_1000/'\n",
    "    label=np.load('/media/eqs8/Samuele_01/Exp_17/analysis/exp_LSTAS_labels_berens_exp17.npy',allow_pickle=True)\n",
    "    nb_imgs=8\n",
    "    pert_nb=1000\n",
    "    m=4\n",
    "if exp==19: \n",
    "    model_cell_list=[6,33,44,65,79,83,89,142,145,153,201,211,237,253,293,299,311,318,329,338,360,385,416,432,435,436,493,604]\n",
    "    results_folder=\"/media/samuele/Samuele_01/Exp_19/analysis/cnn_28mixed_tr35/run_019\"\n",
    "    pckls_folder='/media/samuele/Samuele_01/Exp_19/analysis/LSTA_1000/'\n",
    "    label=np.load('/media/samuele/Samuele_01/Exp_19/analysis/exp_LSTAS_labels_berens_exp19.npy',allow_pickle=True)\n",
    "    nb_imgs=8\n",
    "    pert_nb=1000\n",
    "    m=\n",
    "if exp=='Bapt':\n",
    "    model_cell_list=[]\n",
    "    results_folder=\"/media/eqs8/Samuele_01/Bapt/analysis/cnn_12mixed_tr19/run_019\"\n",
    "    pckls_folder= ''  \n",
    "\n",
    "corr_coeffs_gaussfit=np.zeros((len(model_cell_list),nb_imgs))\n",
    "test_lstas_withgray=np.load(os.path.join(results_folder, 'lstas.npy'))\n",
    "if exp==17: pert_testing=[16,0,1,19,8,12,11,24]\n",
    "else:pert_testing=[30,0,1,19,8,12,11]\n",
    "for idx,cell in enumerate(model_cell_list):\n",
    "    \n",
    "    exp_lstas=np.load(pckls_folder+'exp{0}_m{3}_c{1}_s{2}_LSTAs.pkl'.format(exp,cell,pert_nb,m),allow_pickle=True)\n",
    "    for nb,im in enumerate(exp_lstas):\n",
    "        denoised_im=gaussian(im,sigma=1)\n",
    "        res_img=resize(denoised_im, (108, 108), anti_aliasing=True)\n",
    "# plt.figure()  \n",
    "# plt.imshow(res_img)\n",
    "# plt.plot(Xell,Yell,'black')\n",
    "# plt.figure()\n",
    "# plt.imshow(mask.reshape(108,108))\n",
    "# plt.plot(Xell,Yell,'red')\n",
    "# plt.figure()\n",
    "# plt.imshow(test_lstas_withgray[4,pert_testing[6]])\n",
    "        if abs(res_img.min())> abs(res_img.max()): p0=[res_img.argmin()%108, int(res_img.argmin()/108),2,2, 0,-1]\n",
    "        if abs(res_img.max())> abs(res_img.min()): p0=[res_img.argmax()%108, int(res_img.argmax()/108),2,2, 0,1]\n",
    "        try: \n",
    "            best_vals, covar = curve_fit(gaussian_filt_1, np.array((x, y)), res_img.ravel(), p0=p0)\n",
    "            model_pred=test_lstas_withgray[idx,pert_testing[nb]]\n",
    "            corr_coeffs_gaussfit[idx,nb]=corrcoef(gaussian_filt_1((x,y), *best_vals),model_pred.flatten()) *abs(label[np.where(label[:,0]==cell)[0][0],1][nb])\n",
    "        except: corr_coeffs_gaussfit[idx,nb]=0"
   ]
  },
  {
   "cell_type": "code",
   "execution_count": 104,
   "metadata": {},
   "outputs": [],
   "source": [
    "# LN_PRED_LSTAS=np.load('/media/samuele/Samuele_01/Exp_17/analysis/ln_41mixed_tr28/c01/run_064/lstas.npy')\n",
    "# print(LN_PRED_LSTAS.shape)\n",
    "# for lsta in LN_PRED_LSTAS:\n",
    "#     plt.figure()\n",
    "#     plt.imshow(lsta)"
   ]
  },
  {
   "cell_type": "markdown",
   "metadata": {},
   "source": [
    "# Cells for constructing the input for the Berens method"
   ]
  },
  {
   "cell_type": "markdown",
   "metadata": {},
   "source": [
    "###  I have to contruct the input(sequence of perturbation checkerboards) and the output (response per each perturbed image)"
   ]
  },
  {
   "cell_type": "code",
   "execution_count": 26,
   "metadata": {},
   "outputs": [
    {
     "name": "stdout",
     "output_type": "stream",
     "text": [
      "['' 'condition_nb' 'start_display_nb' 'end_display_nb']\n"
     ]
    }
   ],
   "source": [
    "#I look here inside the stimulus and I determine when each image and each perturbation was displayed\n",
    "\n",
    "exp=19\n",
    "s600=False     ###BEWARE THIS\n",
    "LAP4=True\n",
    "\n",
    "\n",
    "if exp<14: \n",
    "    if s600:\n",
    "        stim_index = 3\n",
    "        pert_img_nb=12\n",
    "        patterns_nb=600 \n",
    "    else:\n",
    "        stim_index = 1\n",
    "        pert_img_nb=7\n",
    "        patterns_nb=1200\n",
    "if exp>100:\n",
    "    stim_index = 4\n",
    "    pert_img_nb=4\n",
    "    patterns_nb=1200 \n",
    "if exp==14:\n",
    "    if LAP4: stim_index = 4\n",
    "    else: stim_index = 2\n",
    "    pert_img_nb=8\n",
    "    patterns_nb=1000\n",
    "if exp==17 : \n",
    "    if LAP4: stim_index = 7\n",
    "    else: stim_index = 3   # measurement number -1\n",
    "    pert_img_nb=8\n",
    "    patterns_nb=1000\n",
    "if exp==19 : \n",
    "    if LAP4: stim_index = 6\n",
    "    stim_index = 4   # measurement number -1\n",
    "    pert_img_nb=8\n",
    "    patterns_nb=1000\n",
    "    \n",
    "if exp== 11: \n",
    "    rootF='/media/samuele/Samuele_01/Exp_11/analysis/pckls_triggers/'\n",
    "    if s600:\n",
    "        stimF ='/media/samuele/Samuele_01/Exp_11/stimuli/20210205-fipwrc_12imgs_600reps_ml50_std25_amp32/'\n",
    "        date='20210205-'\n",
    "        stimcond='/media/samuele/Samuele_01/Exp_11/stimuli/20210205-fipwrc_12imgs_600reps_ml50_std25_amp32/'\n",
    "        date_cond='20210205-'\n",
    "    else:\n",
    "        stimF ='/media/samuele/Samuele_01/Exp_11/stimuli/20210205-FI_MERGE/20210205-fi_merge_ml50_std25/'\n",
    "        #the folder were there is the csv with the stimulus trials\n",
    "        date='20210205-'\n",
    "        stimcond='/media/samuele/Samuele_01/Exp_11/stimuli/20210205-FI_MERGE/20210205-fipwrc_6imgs_1200reps_ml50_std25_amp32/'\n",
    "        date_cond='20210205-'\n",
    "if exp== 12: \n",
    "    rootF='/media/samuele/Samuele_01/Exp_12/analysis/pckls_trigs/'\n",
    "    if s600:\n",
    "        stimF ='/media/samuele/Samuele_01/Exp_11/stimuli/20210205-fipwrc_12imgs_600reps_ml50_std25_amp32/'\n",
    "        date='20210205-'\n",
    "        stimcond='/media/samuele/Samuele_01/Exp_11/stimuli/20210205-fipwrc_12imgs_600reps_ml50_std25_amp32/'\n",
    "        date_cond='20210205-'\n",
    "    else:\n",
    "        stimF ='/media/samuele/Samuele_01/Exp_12/stimuli/20210205-FI_MERGE/20210205-fi_merge_ml50_std25/'\n",
    "        #the folder were there is the csv with the stimulus trials\n",
    "        date='20210205-'\n",
    "        stimcond='/media/eqs8/Samuele_01/Exp_12/stimuli/20210205-FI_MERGE/20210205-fipwrc_6imgs_1200reps_ml50_std25_amp32/'\n",
    "        date_cond='20210205-'\n",
    "if exp== 13: \n",
    "    rootF='/media/samuele/Samuele_01/Exp_13/analysis/pckls_triggers/'\n",
    "    if s600:\n",
    "        stimF ='/media/samuele/Samuele_01/Exp_11/stimuli/20210205-fipwrc_12imgs_600reps_ml50_std25_amp32/'\n",
    "        date='20210205-'\n",
    "        stimcond='/media/samuele/Samuele_01/Exp_11/stimuli/20210205-fipwrc_12imgs_600reps_ml50_std25_amp32/'\n",
    "        date_cond='20210205-'\n",
    "    else:\n",
    "        stimF ='/media/samuele/Samuele_01/Exp_13/stimuli/20210205-FI_MERGE/20210205-fi_merge_ml50_std25/'\n",
    "        #the folder were there is the csv with the stimulus trials\n",
    "        date='20210205-'\n",
    "        stimcond='/media/samuele/Samuele_01/Exp_13/stimuli/20210205-FI_MERGE/20210205-fipwrc_6imgs_1200reps_ml50_std25_amp32/'\n",
    "        date_cond='20210205-'\n",
    "if exp== 14: \n",
    "    rootF='/media/samuele/Samuele_01/Exp_14/analysis/pckls_triggers/'\n",
    "    stimF ='/media/samuele/Samuele_01/Exp_14/stimuli/'\n",
    "    #the folder were there is the csv with the stimulus trials\n",
    "    date='20210515-'\n",
    "    stimcond=stimF\n",
    "    date_cond=date\n",
    "if exp== 17: \n",
    "    rootF='/media/samuele/Samuele_01/Exp_17/analysis/pckls_triggers/'\n",
    "    stimF ='/media/samuele/Samuele_01/Exp_17/stimuli/20210519-fimerge_8imgs_1000reps_ml50_std25_amp32/'\n",
    "    date='20210519-'\n",
    "    stimcond='/media/samuele/Samuele_01/Exp_17/stimuli/20210515-fipwrc_8imgs_1000reps_ml50_std25_amp32/'\n",
    "    date_cond='20210515-'\n",
    "if exp== 19: \n",
    "    rootF='/media/samuele/Samuele_01/Exp_19/analysis/pckls_triggers/'\n",
    "    stimF ='/media/samuele/Samuele_01/Exp_19/stimulus/20210617-fipwrc_4imgsInv_1000reps_ml50_std25_amp32/'\n",
    "    date='20210617-'\n",
    "    stimcond='/media/samuele/Samuele_01/Exp_19/stimulus/20210617-fipwrc_4imgsInv_1000reps_ml50_std25_amp32/'\n",
    "    date_cond='20210617-'\n",
    "    \n",
    "if exp== 101: \n",
    "    rootF='/media/samuele/Samuele_01/Salamander1/pckls_triggers/'\n",
    "    stimF ='/media/samuele/BC_Samuele/20190523_goodone/stimuli/fi_merge/'\n",
    "    date=''\n",
    "    stimcond='/media/samuele/BC_Samuele/20190523_goodone/stimuli/fi_merge/'\n",
    "    date_cond=''    \n",
    "if exp== 102: \n",
    "    rootF='/media/samuele/Samuele_01/Salamander2/pckls_triggers/'\n",
    "    stimF ='/media/samuele/BC_Samuele/20190524/stimuli/fi_merge/'\n",
    "    date=''\n",
    "    stimcond='/media/samuele/BC_Samuele/20190524/stimuli/fi_merge/'\n",
    "    date_cond=''\n",
    "    \n",
    "Mtimes = []\n",
    "Trigs = []\n",
    "\n",
    "fs=20000\n",
    "\n",
    "time_elapsed = 0\n",
    "for meas in np.arange(7)+1:    #FOR MOUSE!!!!!!!!  and 101\n",
    "#for meas in [7,1,2,5,4,3,6]:     #FOR exp 102!!!!!! \n",
    "    \n",
    "    trigs,ttot= load_obj(rootF + 'exp'+str(exp)+'-meas_0' + str(meas) + '_triggers_unfilt')\n",
    "    Trigs.append(time_elapsed+trigs/fs)\n",
    "    Mtimes.append(time_elapsed)\n",
    "    time_elapsed+=ttot\n",
    "Mtimes.append(time_elapsed)\n",
    "\n",
    "\n",
    "stim_trials_f= open(stimF +date+ 'fipwrc_trials.csv')  #fi_merge_\n",
    "stim_trials_f = csv.reader(stim_trials_f,delimiter=\",\")\n",
    "\n",
    "stim_trials=[]\n",
    "for row in stim_trials_f:\n",
    "    stim_trials.append(np.array(row))\n",
    "\n",
    "stim_trials_head = stim_trials[0]\n",
    "stim_trials = np.array(stim_trials[1:]).astype(float)\n",
    "print(stim_trials_head)\n",
    "\n",
    "\n",
    "#-------------------------------\n",
    "#convert to times with trigtimes\n",
    "trigs = Trigs[stim_index]\n",
    "if exp==11 and stim_index==1: trigs = np.concatenate((Trigs[1], -np.ones((301429-(Trigs[stim_index].shape)[0])))) #froze fix\n",
    "\n",
    "for st in stim_trials:\n",
    "    st[2]=trigs[int(st[2])]\n",
    "    st[3]=trigs[int(st[3])+1]\n",
    "\n",
    "#-----------\n",
    "# Get conditions\n",
    "stim_cond_f= open(stimcond + date_cond+'fipwrc_conditions.csv')  #fi_merge_\n",
    "stim_cond_f = csv.reader(stim_cond_f,delimiter=\",\")\n",
    "\n",
    "stim_cond={}\n",
    "stim_pattern={}\n",
    "c=0\n",
    "for row in stim_cond_f:\n",
    "    if c==0:\n",
    "        stim_cond_head = row\n",
    "        c=1\n",
    "    else:\n",
    "        stim_cond[row[0]]= int(row[1])\n",
    "        stim_pattern[row[0]]=int(row[2])\n",
    "\n",
    "#print(stim_cond_head)\n",
    "\n",
    "#---------------------\n",
    "# Get images start times and pert_nb\n",
    "\n",
    "pert_nb = np.zeros([pert_img_nb,patterns_nb])\n",
    "im_starts= np.zeros([pert_img_nb,patterns_nb])\n",
    "im_patterns=np.zeros([pert_img_nb,patterns_nb])\n",
    "\n",
    "im_count = np.zeros(pert_img_nb,dtype='int')\n",
    "\n",
    "for stim in stim_trials:\n",
    "    condition = int(stim[1])\n",
    "    im_nb =  int(stim_cond[str(condition)])\n",
    "    if exp<14 and s600==True:\n",
    "        im_nb=im_nb-7\n",
    "    if exp==17 or exp==14:\n",
    "        if im_nb==8: im_nb=0                      #image key8 to 1st position\n",
    "        if im_nb==12: im_nb=7                    #image key12 to 8th position\n",
    "    if exp==19:\n",
    "        if im_nb==3: im_nb=0 \n",
    "        if im_nb==5: im_nb=1\n",
    "        if im_nb==8: im_nb=2\n",
    "        if im_nb==12: im_nb=3\n",
    "        if im_nb==9003: im_nb=4\n",
    "        if im_nb==9005: im_nb=5\n",
    "        if im_nb==9008: im_nb=6\n",
    "        if im_nb==9012: im_nb=7\n",
    "            \n",
    "    pattern = int(stim_pattern[str(condition)])\n",
    "\n",
    "    im_starts[im_nb,im_count[im_nb]] = stim[2]\n",
    "\n",
    "    im_patterns[im_nb,im_count[im_nb]]= pattern\n",
    "    \n",
    "    im_count[im_nb]+=1"
   ]
  },
  {
   "cell_type": "code",
   "execution_count": 27,
   "metadata": {},
   "outputs": [
    {
     "name": "stdout",
     "output_type": "stream",
     "text": [
      "0\n",
      "101\n",
      "102\n",
      "106\n",
      "107\n",
      "108\n",
      "109\n",
      "10\n",
      "114\n",
      "118\n",
      "11\n",
      "121\n",
      "122\n",
      "310\n",
      "311\n",
      "318\n",
      "319\n",
      "322\n",
      "323\n",
      "325\n",
      "328\n",
      "329\n",
      "330\n",
      "336\n",
      "337\n",
      "338\n",
      "593\n",
      "597\n",
      "598\n",
      "59\n",
      "5\n",
      "603\n",
      "604\n",
      "61\n",
      "62\n",
      "638\n",
      "647\n",
      "65\n",
      "67\n",
      "68\n",
      "125\n",
      "127\n",
      "128\n",
      "129\n",
      "130\n",
      "134\n",
      "137\n",
      "138\n",
      "140\n",
      "142\n",
      "143\n",
      "145\n",
      "146\n",
      "123\n",
      "148\n",
      "174\n",
      "203\n",
      "232\n",
      "25\n",
      "30\n",
      "33\n",
      "373\n",
      "435\n",
      "492\n",
      "57\n",
      "6\n",
      "153\n",
      "156\n",
      "157\n",
      "159\n",
      "15\n",
      "160\n",
      "162\n",
      "164\n",
      "165\n",
      "168\n",
      "16\n",
      "171\n",
      "173\n",
      "175\n",
      "182\n",
      "184\n",
      "185\n",
      "190\n",
      "191\n",
      "193\n",
      "196\n",
      "198\n",
      "1\n",
      "200\n",
      "201\n",
      "202\n",
      "204\n",
      "206\n",
      "211\n",
      "212\n",
      "213\n",
      "216\n",
      "219\n",
      "21\n",
      "220\n",
      "223\n",
      "225\n",
      "228\n",
      "229\n",
      "234\n",
      "236\n",
      "237\n",
      "23\n",
      "248\n",
      "24\n",
      "250\n",
      "251\n",
      "252\n",
      "253\n",
      "254\n",
      "257\n",
      "259\n",
      "262\n",
      "263\n",
      "269\n",
      "26\n",
      "270\n",
      "271\n",
      "272\n",
      "274\n",
      "277\n",
      "279\n",
      "281\n",
      "282\n",
      "284\n",
      "285\n",
      "286\n",
      "287\n",
      "289\n",
      "28\n",
      "293\n",
      "296\n",
      "297\n",
      "299\n",
      "2\n",
      "300\n",
      "305\n",
      "307\n",
      "340\n",
      "341\n",
      "342\n",
      "347\n",
      "349\n",
      "353\n",
      "356\n",
      "359\n",
      "35\n",
      "360\n",
      "366\n",
      "369\n",
      "36\n",
      "377\n",
      "385\n",
      "386\n",
      "390\n",
      "39\n",
      "408\n",
      "411\n",
      "415\n",
      "416\n",
      "422\n",
      "425\n",
      "427\n",
      "432\n",
      "436\n",
      "43\n",
      "443\n",
      "449\n",
      "44\n",
      "45\n",
      "467\n",
      "468\n",
      "469\n",
      "46\n",
      "47\n",
      "486\n",
      "487\n",
      "493\n",
      "498\n",
      "499\n",
      "501\n",
      "502\n",
      "50\n",
      "520\n",
      "528\n",
      "52\n",
      "537\n",
      "555\n",
      "55\n",
      "560\n",
      "565\n",
      "56\n",
      "570\n",
      "71\n",
      "75\n",
      "79\n",
      "80\n",
      "81\n",
      "82\n",
      "83\n",
      "84\n",
      "89\n",
      "94\n",
      "96\n",
      "97\n"
     ]
    }
   ],
   "source": [
    "patim_size = 72\n",
    "\n",
    "if exp>=14 and exp<100:\n",
    "    nb_rep = 1000 \n",
    "    pert_img_nb=8\n",
    "if exp<14:\n",
    "    if s600:\n",
    "        nb_rep = 600 \n",
    "        pert_img_nb=12\n",
    "    else:\n",
    "        nb_rep = 1200 \n",
    "        pert_img_nb=7\n",
    "if exp>100:\n",
    "    nb_rep = 1200 \n",
    "    pert_img_nb=4\n",
    "    patim_size = 56\n",
    "\n",
    "if exp==11:\n",
    "    if s600:\n",
    "        pckls_folder='/media/samuele/Samuele_01/Exp_11/analysis/s600/'\n",
    "        patFolder ='/media/samuele/Samuele_01/Exp_11/stimuli/20210205-fipwrc_12imgs_600reps_ml50_std25_amp32/patterns'\n",
    "    else:\n",
    "        pckls_folder='/media/samuele/Samuele_01/Exp_11/analysis/s1200_rasters/'\n",
    "        patFolder ='/media/samuele/Samuele_01/Exp_11/stimuli/20210205-FI_MERGE/20210205-fipwrc_6imgs_1200reps_ml50_std25_amp32/patterns'\n",
    "if exp==12:\n",
    "    if s600:\n",
    "        pckls_folder='/media/samuele/Samuele_01/Exp_12/analysis/s600/'\n",
    "        patFolder ='/media/samuele/Samuele_01/Exp_11/stimuli/20210205-fipwrc_12imgs_600reps_ml50_std25_amp32/patterns'\n",
    "    else:\n",
    "        pckls_folder='/media/samuele/Samuele_01/Exp_12/analysis/s1200_rasters_newcode/'\n",
    "        patFolder ='/media/samuele/Samuele_01/Exp_12/stimuli/20210205-FI_MERGE/20210205-fipwrc_6imgs_1200reps_ml50_std25_amp32/patterns'\n",
    "if exp==13:\n",
    "    if s600:\n",
    "        pckls_folder='/media/samuele/Samuele_01/Exp_13/analysis/s600/'\n",
    "        patFolder ='/media/samuele/Samuele_01/Exp_11/stimuli/20210205-fipwrc_12imgs_600reps_ml50_std25_amp32/patterns'\n",
    "    else:\n",
    "        pckls_folder='/media/samuele/Samuele_01/Exp_13/analysis/Sam_analysis_trial/s1200_rasters_new/'\n",
    "        patFolder ='/media/samuele/Samuele_01/Exp_13/stimuli/20210205-FI_MERGE/20210205-fipwrc_6imgs_1200reps_ml50_std25_amp32/patterns'\n",
    "if exp==14:\n",
    "    if LAP4: pckls_folder='/media/samuele/Samuele_01/Exp_14/analysis/s1000_lap4/'\n",
    "    else: pckls_folder='/media/samuele/Samuele_01/Exp_14/analysis/s1000/'\n",
    "    patFolder ='/media/samuele/Samuele_01/Exp_14/stimuli/patterns'\n",
    "if exp==17:\n",
    "    if LAP4: pckls_folder='/media/samuele/Samuele_01/Exp_17/analysis/s1000_lap4/'\n",
    "    else: pckls_folder='/media/samuele/Samuele_01/Exp_17/analysis/s1000/'\n",
    "    patFolder ='/media/samuele/Samuele_01/Exp_17/stimuli/20210515-fipwrc_8imgs_1000reps_ml50_std25_amp32/patterns'\n",
    "if exp==19:\n",
    "    if LAP4: pckls_folder='/media/samuele/Samuele_01/Exp_19/analysis/s1000_lap4/'\n",
    "    else: pckls_folder='/media/samuele/Samuele_01/Exp_19/analysis/s1000/'\n",
    "    patFolder ='/media/samuele/Samuele_01/Exp_19/stimulus/20210617-fipwrc_4imgsInv_1000reps_ml50_std25_amp32/patterns'\n",
    "\n",
    "if exp==101:\n",
    "    pckls_folder='/media/samuele/Samuele_01/Salamander1/s1200/'\n",
    "    patFolder ='/media/samuele/BC_Samuele/20190523_goodone/stimuli/fi_merge/fi_merge_fipwrc_patterns'\n",
    "if exp==102:\n",
    "    pckls_folder='/media/samuele/Samuele_01/Salamander2/s1200/'\n",
    "    patFolder ='/media/samuele/BC_Samuele/20190524/stimuli/fi_merge/fi_merge_fipwrc_patterns'\n",
    "\n",
    "    \n",
    "cell_nb=0\n",
    "cell_names=[]\n",
    "for filename in os.listdir(pckls_folder):\n",
    "    if filename.endswith(\".pkl\"):\n",
    "        cell_names.append(int(filename.split('_')[2][1:] ) )\n",
    "        cell_nb+=1\n",
    "cell_names=np.array(cell_names)\n",
    "        \n",
    "stim=np.zeros((pert_img_nb, nb_rep, patim_size, patim_size ))\n",
    "resp=np.zeros((cell_nb, pert_img_nb, nb_rep))\n",
    "\n",
    "for filename in os.listdir(pckls_folder):\n",
    "    if filename.endswith(\".pkl\"): \n",
    "        cell=int(filename.split('_')[2][1:])\n",
    "        print(cell)\n",
    "        raster=np.load(pckls_folder+filename,allow_pickle=True)\n",
    "    \n",
    "        spcount = np.zeros([pert_img_nb],dtype='int')\n",
    "        #----------------------\n",
    "        for im in np.arange(pert_img_nb):\n",
    "            for pat in np.arange(nb_rep):\n",
    "                #-----------------\n",
    "                pat_nb = int(im_patterns[im,pat])\n",
    "                pat_img_file = patFolder + '/pattern_'+str(pat_nb)+'_data.npy'\n",
    "                pat_img = np.load(pat_img_file)\n",
    "                pat_img = pat_img[::-1,:]\n",
    "                #-----------------\n",
    "                if exp>=14 and exp<100: stim[im,pat][1:-1,1:-1]=pat_img\n",
    "                else: stim[im,pat]=pat_img\n",
    "                \n",
    "\n",
    "                spcount_imrep = len( raster[pat][ (raster[pat]>=0.6*im+0.03) & (raster[pat]<0.6*(im+1)-0.3+0.05) ] )\n",
    "    #             print(spcount_imrep)\n",
    "                resp[np.where(cell_names.argsort()==np.where(cell_names==cell)[0][0])[0][0], im, pat]=spcount_imrep\n",
    "\n",
    "if exp<14 and s600==True:\n",
    "    np.save('/media/samuele/Samuele_01/Exp_{0}/analysis/Response_shaped_for_Berens_exp{0}_s600.npy'.format(exp),resp)\n",
    "    np.save('/media/samuele/Samuele_01/Exp_{0}/analysis/Stimulus_shaped_for_Berens_exp{0}_s600.npy'.format(exp),stim)\n",
    "elif exp>100:\n",
    "    np.save('/media/samuele/Samuele_01/Salamander{0}/Response_shaped_for_Berens_exp{1}.npy'.format(exp-100,exp),resp)\n",
    "    np.save('/media/samuele/Samuele_01/Salamander{0}/Stimulus_shaped_for_Berens_exp{1}.npy'.format(exp-100,exp),stim)\n",
    "else:\n",
    "    if LAP4: np.save('/media/samuele/Samuele_01/Exp_{0}/analysis/Response_shaped_for_Berens_exp{0}_s1000_LAP4.npy'.format(exp),resp)\n",
    "    else:\n",
    "        np.save('/media/samuele/Samuele_01/Exp_{0}/analysis/Response_shaped_for_Berens_exp{0}_s1200.npy'.format(exp),resp)\n",
    "        np.save('/media/samuele/Samuele_01/Exp_{0}/analysis/Stimulus_shaped_for_Berens_exp{0}_s1200.npy'.format(exp),stim)"
   ]
  },
  {
   "cell_type": "code",
   "execution_count": 28,
   "metadata": {},
   "outputs": [
    {
     "data": {
      "text/plain": [
       "(211, 8, 1000)"
      ]
     },
     "execution_count": 28,
     "metadata": {},
     "output_type": "execute_result"
    }
   ],
   "source": [
    "a=np.load('/media/samuele/Samuele_01/Exp_19/analysis/Response_shaped_for_Berens_exp19_s1000_LAP4.npy')\n",
    "a.shape"
   ]
  },
  {
   "cell_type": "code",
   "execution_count": 29,
   "metadata": {},
   "outputs": [
    {
     "data": {
      "text/plain": [
       "(209, 8, 1000)"
      ]
     },
     "execution_count": 29,
     "metadata": {},
     "output_type": "execute_result"
    }
   ],
   "source": [
    "b=np.load('/media/samuele/Samuele_01/Exp_19/analysis/Response_shaped_for_Berens_exp19.npy')\n",
    "b.shape"
   ]
  },
  {
   "cell_type": "code",
   "execution_count": 7,
   "metadata": {},
   "outputs": [],
   "source": [
    "#trial of the Berens method with a fixed set of parameters \n",
    "# exp=13\n",
    "# if exp==11:\n",
    "#     model_cell_list=[3,44,68,81,95,134,153,199,310,322,388,478]\n",
    "#     results_folder=\"/media/eqs8/Samuele_01/Exp_11/analysis/cnn_12mixed_tr19/run_019\"\n",
    "#     pckls_folder='/media/eqs8/Samuele_01/Exp_11/analysis/LSTAs1200_zoom_new/'\n",
    "#     label=np.load('/media/eqs8/Samuele_01/Exp_11/analysis/exp_LSTAS_lables_ellipse_exp11.npy',allow_pickle=True)\n",
    "#     resp='/media/eqs8/Samuele_01/Exp_11/analysis'\n",
    "# if exp==12:\n",
    "#     model_cell_list=[33,46,74,82,87,93,95,111,120,125,158,173,179,184,192,196,200,202,245,266,271,287,335,354,372,380,415,450,459,460,570,657]\n",
    "#     results_folder=\"/media/eqs8/Samuele_01/Exp_12/analysis/cnn_32mixed_tr21/run_060\"\n",
    "#     pckls_folder='/media/eqs8/Samuele_01/Exp_12/analysis/LSTAs_newcode/'\n",
    "#     label=np.load('/media/eqs8/Samuele_01/Exp_12/analysis/exp_LSTAS_lables_ellipse_exp12.npy',allow_pickle=True)\n",
    "#     resp='/media/eqs8/Samuele_01/Exp_12/analysis'\n",
    "# if exp==13: \n",
    "#     model_cell_list=[91,186,202,225,257,621,634,684,748]\n",
    "#     results_folder=\"/media/eqs8/Samuele_01/Exp_13/analysis/cnn_9OFF_tr1/run_097\"\n",
    "#     pckls_folder='/media/eqs8/Samuele_01/Exp_13/analysis/LSTAs_newcode/'\n",
    "#     label=np.load('/media/eqs8/Samuele_01/Exp_13/analysis/exp_LSTAS_lables_ellipse_exp13.npy',allow_pickle=True)\n",
    "#     resp='/media/eqs8/Samuele_01/Exp_13/analysis'\n",
    "# if exp=='Bapt':\n",
    "#     model_cell_list=[]\n",
    "#     results_folder=\"/media/eqs8/Samuele_01/Bapt/analysis/cnn_12mixed_tr19/run_019\"\n",
    "#     pckls_folder= ''  \n",
    "#     resp=''\n",
    "\n",
    "# corr_coeffs_berensfit=np.zeros((len(model_cell_list),7))\n",
    "# test_lstas_withgray=np.load(os.path.join(results_folder, 'lstas.npy'))\n",
    "# pert_testing=[30,0,1,19,8,12,11]\n",
    "# for idx,cell in enumerate(model_cell_list):\n",
    "#     response=resp[np.where(cell_names.argsort()==np.where(cell_names==cell)[0][0])[0][0]]\n",
    "#     for nb,resp_to_image in enumerate(response):\n",
    "#         stimulus=stim[nb]\n",
    "#         size=72\n",
    "#         dims =(size,size)  #[20:60,20:60].shape\n",
    "#         df = [24, 24]#[20,12] \n",
    "#         lag=0\n",
    "#         try: \n",
    "#             lg = splineLG((stimulus/stimulus.max()).reshape(1200, size*size), resp_to_image, dims=dims, dt=lag, df=df)\n",
    "#             lg.fit(metric='corrcoef',\n",
    "#                               num_iters=300, verbose=0, tolerance=10,\n",
    "#                               beta=0.010)\n",
    "#             model_pred=test_lstas_withgray[idx,pert_testing[nb]]\n",
    "#             res_ber=resize(lg.w_opt.reshape((size,size)), (108, 108), anti_aliasing=True)\n",
    "#             #print(corrcoef(res_ber.flatten(),model_pred.flatten()) *abs(label[np.where(exp_LSTAs_pol[:,0]==cell)[0][0],1][nb]))\n",
    "#             corr_coeffs_berensfit[idx,nb]=corrcoef(res_ber.flatten(),model_pred.flatten()) *abs(label[np.where(label[:,0]==cell)[0][0],1][nb])\n",
    "#         except: corr_coeffs_berensfit[idx,nb]=0"
   ]
  },
  {
   "cell_type": "code",
   "execution_count": 62,
   "metadata": {},
   "outputs": [],
   "source": [
    "# trial of quantifying the performance of the model through the Berens method\n",
    "\n",
    "# #grid search trial\n",
    "\n",
    "# exp=13\n",
    "# if exp==11:\n",
    "#     model_cell_list=[3,44,68,81,95,134,153,199,310,322,388,478]\n",
    "#     results_folder=\"/media/eqs8/Samuele_01/Exp_11/analysis/cnn_12mixed_tr19/run_019\"\n",
    "#     pckls_folder='/media/eqs8/Samuele_01/Exp_11/analysis/LSTAs1200_zoom_new/'\n",
    "#     label=np.load('/media/eqs8/Samuele_01/Exp_11/analysis/exp_LSTAS_lables_ellipse_exp11.npy',allow_pickle=True)\n",
    "#     stim=np.load('/media/eqs8/Samuele_01/Exp_11/analysis/Stimulus_shaped_for_Berens_exp11.npy')\n",
    "#     resp=np.load('/media/eqs8/Samuele_01/Exp_11/analysis/Response_shaped_for_Berens_exp11.npy')\n",
    "# if exp==12:\n",
    "#     model_cell_list=[33,46,74,82,87,93,95,111,120,125,158,173,179,184,192,196,200,202,245,266,271,287,335,354,372,380,415,450,459,460,570,657]\n",
    "#     results_folder=\"/media/eqs8/Samuele_01/Exp_12/analysis/cnn_32mixed_tr21/run_060\"\n",
    "#     pckls_folder='/media/eqs8/Samuele_01/Exp_12/analysis/LSTAs_newcode/'\n",
    "#     label=np.load('/media/eqs8/Samuele_01/Exp_12/analysis/exp_LSTAS_lables_ellipse_exp12.npy',allow_pickle=True)\n",
    "#     stim=np.load('/media/eqs8/Samuele_01/Exp_12/analysis/Stimulus_shaped_for_Berens_exp12.npy')\n",
    "#     resp=np.load('/media/eqs8/Samuele_01/Exp_12/analysis/Response_shaped_for_Berens_exp12.npy')\n",
    "# if exp==13: \n",
    "#     model_cell_list=[91,186,202,225,257,621,634,684,748]\n",
    "#     results_folder=\"/media/eqs8/Samuele_01/Exp_13/analysis/cnn_9OFF_tr1/run_097\"\n",
    "#     pckls_folder='/media/eqs8/Samuele_01/Exp_13/analysis/LSTAs_newcode/'\n",
    "#     label=np.load('/media/eqs8/Samuele_01/Exp_13/analysis/exp_LSTAS_lables_ellipse_exp13.npy',allow_pickle=True)\n",
    "#     stim=np.load('/media/eqs8/Samuele_01/Exp_13/analysis/Stimulus_shaped_for_Berens_exp13.npy')\n",
    "#     resp=np.load('/media/eqs8/Samuele_01/Exp_13/analysis/Response_shaped_for_Berens_exp13.npy')\n",
    "# if exp=='Bapt':\n",
    "#     model_cell_list=[]\n",
    "#     results_folder=\"/media/eqs8/Samuele_01/Bapt/analysis/cnn_12mixed_tr19/run_019\"\n",
    "#     pckls_folder= ''  \n",
    "\n",
    "# cell_nb=0\n",
    "# cell_names=[]\n",
    "# for filename in os.listdir(pckls_folder):\n",
    "#     if filename.endswith(\".pkl\"):\n",
    "#         cell_names.append(int(filename.split('_')[2][1:] ) )\n",
    "#         cell_nb+=1\n",
    "# cell_names=np.array(cell_names)\n",
    "    \n",
    "# corr_coeffs_berensfit=np.zeros((len(model_cell_list),7))\n",
    "# test_lstas_withgray=np.load(os.path.join(results_folder, 'lstas.npy'))\n",
    "# pert_testing=[30,0,1,19,8,12,11]\n",
    "# for idx,cell in enumerate(model_cell_list):\n",
    "#     response=resp[np.where(cell_names.argsort()==np.where(cell_names==cell)[0][0])[0][0]]\n",
    "#     for nb,resp_to_image in enumerate(response):\n",
    "#         stimulus=stim[nb]\n",
    "#         size=72\n",
    "#         dims =(size,size)  #[20:60,20:60].shape \n",
    "#         lag=0\n",
    "#         temp=[]\n",
    "#         for nspl in [22,24,26,28]:\n",
    "#             df = [nspl, nspl]\n",
    "#             for b in np.arange(0.001,0.012, 0.001):\n",
    "#                 try: \n",
    "#                     lg = splineLG((stimulus/stimulus.max()).reshape(1200, size*size), resp_to_image, dims=dims, dt=lag, df=df)\n",
    "#                     lg.fit(metric='corrcoef',\n",
    "#                                       num_iters=1000, verbose=0, tolerance=10,\n",
    "#                                       beta=b)\n",
    "#                     model_pred=test_lstas_withgray[idx,pert_testing[nb]]\n",
    "#                     res_ber=resize(lg.w_opt.reshape((size,size)), (108, 108), anti_aliasing=True)\n",
    "#                     #print(corrcoef(res_ber.flatten(),model_pred.flatten()) *abs(label[np.where(exp_LSTAs_pol[:,0]==cell)[0][0],1][nb]))\n",
    "#                     temp.append(corrcoef(res_ber.flatten(),model_pred.flatten()) *abs(label[np.where(label[:,0]==cell)[0][0],1][nb]))\n",
    "#                 except: temp.append(0)\n",
    "#         corr_coeffs_berensfit[idx,nb]=np.array(temp).max()"
   ]
  },
  {
   "cell_type": "code",
   "execution_count": 66,
   "metadata": {},
   "outputs": [
    {
     "name": "stdout",
     "output_type": "stream",
     "text": [
      "[0.00722321 0.         0.         0.00690698 0.         0.\n",
      " 0.        ]\n",
      "[ 0.90180217  0.         -0.          0.36700579  0.          0.\n",
      "  0.        ]\n",
      "/n\n",
      "[0.         0.         0.         0.         0.         0.62738635\n",
      " 0.        ]\n",
      "[0.         0.         0.         0.         0.         0.75011779\n",
      " 0.        ]\n",
      "/n\n",
      "[0.94046769 0.85738851 0.93580537 0.81417591 0.68397404 0.00191907\n",
      " 0.81292687]\n",
      "[0.86013464 0.70219481 0.86126194 0.83492961 0.74684533 0.39322785\n",
      " 0.7779369 ]\n",
      "/n\n",
      "[0.85740269 0.57388665 0.81328123 0.83343394 0.92378522 0.\n",
      " 0.85251447]\n",
      "[0.85804549 0.511182   0.85806894 0.87228336 0.89365456 0.\n",
      " 0.9000304 ]\n",
      "/n\n",
      "[ 0.  0.  0.  0.  0. -0.  0.]\n",
      "[ 0.  0.  0. -0.  0.  0.  0.]\n",
      "/n\n",
      "[ 0.46623786  0.         -0.          0.          0.95034925  0.90164569\n",
      "  0.85166166]\n",
      "[0.54420954 0.         0.         0.         0.67188037 0.4531394\n",
      " 0.79983044]\n",
      "/n\n",
      "[-0.          0.90294226  0.88736372  0.          0.88944241  0.\n",
      "  0.95510614]\n",
      "[0.         0.67265284 0.8465209  0.         0.45733737 0.\n",
      " 0.80641993]\n",
      "/n\n",
      "[0.93543395 0.92473194 0.95044894 0.         0.95258707 0.\n",
      " 0.93687423]\n",
      "[0.74874094 0.74894901 0.86662857 0.         0.78919384 0.\n",
      " 0.83871329]\n",
      "/n\n",
      "[ 0.86476772 -0.          0.92392087 -0.          0.69407295  0.9307207\n",
      "  0.91155444]\n",
      "[0.8973654  0.         0.83536889 0.         0.82186084 0.85767479\n",
      " 0.81387576]\n",
      "/n\n"
     ]
    }
   ],
   "source": [
    "for i in range(9):\n",
    "    print(np.array(list(filter(lambda x : x != 0. or x!=-0., corr_coeffs_gaussfit[i] ))).mean() )\n",
    "    print(np.array(list(filter(lambda x : x != 0. or x!=-0., corr_coeffs_berensfit[i] ))).mean() )\n",
    "#     print(corr_coeffs_gaussfit[i])\n",
    "#     print(corr_coeffs_berensfit[i])\n",
    "    print('/n')"
   ]
  },
  {
   "cell_type": "code",
   "execution_count": 28,
   "metadata": {},
   "outputs": [
    {
     "name": "stdout",
     "output_type": "stream",
     "text": [
      "57\n",
      "-0.0502648702253802 0.040645707948306325 0.008198237649756428\n",
      "-0.03452651012394839 0.05416958037643734 0.008108311228348434\n",
      "-8.060107025568964e-05 8.829458832212982e-05 2.2900734429295297e-05\n",
      "-0.040183371445477976 0.057810656574549805 0.010387804452252344\n",
      "-8.946847734763488e-05 0.00012587217057072786 2.382209713712125e-05\n",
      "-0.04843391743194667 0.03212738718742056 0.005904770095868134\n",
      "-0.04726375241585419 0.031943261529659796 0.0035835387290159824\n",
      "-0.0024202111493391073 0.01880663778604539 0.0006868270530069157\n"
     ]
    },
    {
     "data": {
      "image/png": "[encoded data removed]",
      "text/plain": [
       "<Figure size 432x288 with 1 Axes>"
      ]
     },
     "metadata": {
      "needs_background": "light"
     },
     "output_type": "display_data"
    },
    {
     "data": {
      "image/png": "[encoded data removed]",
      "text/plain": [
       "<Figure size 432x288 with 1 Axes>"
      ]
     },
     "metadata": {
      "needs_background": "light"
     },
     "output_type": "display_data"
    },
    {
     "data": {
      "image/png": "[encoded data removed]",
      "text/plain": [
       "<Figure size 432x288 with 1 Axes>"
      ]
     },
     "metadata": {
      "needs_background": "light"
     },
     "output_type": "display_data"
    },
    {
     "data": {
      "image/png": "[encoded data removed]",
      "text/plain": [
       "<Figure size 432x288 with 1 Axes>"
      ]
     },
     "metadata": {
      "needs_background": "light"
     },
     "output_type": "display_data"
    },
    {
     "data": {
      "image/png": "[encoded data removed]",
      "text/plain": [
       "<Figure size 432x288 with 1 Axes>"
      ]
     },
     "metadata": {
      "needs_background": "light"
     },
     "output_type": "display_data"
    },
    {
     "data": {
      "image/png": "[encoded data removed]",
      "text/plain": [
       "<Figure size 432x288 with 1 Axes>"
      ]
     },
     "metadata": {
      "needs_background": "light"
     },
     "output_type": "display_data"
    },
    {
     "data": {
      "image/png": "[encoded data removed]",
      "text/plain": [
       "<Figure size 432x288 with 1 Axes>"
      ]
     },
     "metadata": {
      "needs_background": "light"
     },
     "output_type": "display_data"
    },
    {
     "data": {
      "image/png": "[encoded data removed]",
      "text/plain": [
       "<Figure size 432x288 with 1 Axes>"
      ]
     },
     "metadata": {
      "needs_background": "light"
     },
     "output_type": "display_data"
    }
   ],
   "source": [
    "denoised_LSTAs=np.load('/media/eqs8/Samuele_01/Exp_17/analysis/Best_denoised_LSTAS_berens_exp17.npy')\n",
    "cell=561\n",
    "ind =np.where(exp_LSTAs_pol_ber[:,0]==cell)[0][0]\n",
    "print(ind)\n",
    "for j in range(8):\n",
    "    plt.figure()\n",
    "    plt.imshow(denoised_LSTAs[ind,j])\n",
    "    print(denoised_LSTAs[ind,j].min(),denoised_LSTAs[ind,j].max(),denoised_LSTAs[ind,j].std())"
   ]
  },
  {
   "cell_type": "markdown",
   "metadata": {},
   "source": [
    "## This cell to count how many LSTAs predicted by the model are ON or OFF"
   ]
  },
  {
   "cell_type": "code",
   "execution_count": 5,
   "metadata": {},
   "outputs": [
    {
     "name": "stderr",
     "output_type": "stream",
     "text": [
      "\r",
      "  0%|          | 0/6 [00:00<?, ?it/s]"
     ]
    },
    {
     "name": "stdout",
     "output_type": "stream",
     "text": [
      "(12, 2910, 108, 108)\n"
     ]
    },
    {
     "name": "stderr",
     "output_type": "stream",
     "text": [
      "\r",
      " 17%|█▋        | 1/6 [00:14<01:13, 14.76s/it]"
     ]
    },
    {
     "name": "stdout",
     "output_type": "stream",
     "text": [
      "(9, 2910, 108, 108)\n"
     ]
    },
    {
     "name": "stderr",
     "output_type": "stream",
     "text": [
      "\r",
      " 33%|███▎      | 2/6 [00:25<00:50, 12.63s/it]"
     ]
    },
    {
     "name": "stdout",
     "output_type": "stream",
     "text": [
      "(41, 2910, 108, 108)\n"
     ]
    },
    {
     "name": "stderr",
     "output_type": "stream",
     "text": [
      "\r",
      " 50%|█████     | 3/6 [01:19<01:34, 31.45s/it]"
     ]
    },
    {
     "name": "stdout",
     "output_type": "stream",
     "text": [
      "(28, 2910, 108, 108)\n"
     ]
    },
    {
     "name": "stderr",
     "output_type": "stream",
     "text": [
      "\r",
      " 67%|██████▋   | 4/6 [02:03<01:12, 36.25s/it]"
     ]
    },
    {
     "name": "stdout",
     "output_type": "stream",
     "text": [
      "(27, 2910, 108, 108)\n"
     ]
    },
    {
     "name": "stderr",
     "output_type": "stream",
     "text": [
      "\r",
      " 83%|████████▎ | 5/6 [03:01<00:44, 44.07s/it]"
     ]
    },
    {
     "name": "stdout",
     "output_type": "stream",
     "text": [
      "(23, 2910, 108, 108)\n"
     ]
    },
    {
     "name": "stderr",
     "output_type": "stream",
     "text": [
      "100%|██████████| 6/6 [03:40<00:00, 36.76s/it]"
     ]
    },
    {
     "name": "stdout",
     "output_type": "stream",
     "text": [
      "54.44444444444444 66.0\n"
     ]
    },
    {
     "name": "stderr",
     "output_type": "stream",
     "text": [
      "\n"
     ]
    }
   ],
   "source": [
    "#Choose your modeled experiment with its best run\n",
    "cells_invs_mouse=[]\n",
    "cells_invs_salamander=[]\n",
    "for exp in tqdm([11, 13,17,19, 101,102]):\n",
    "    if exp==11: results_folder= \"/media/samuele/Samuele_01/Exp_11/analysis/cnn_12mixed_tr19/run_019\"\n",
    "    #if exp==12: results_folder= '/media/eqs8/Samuele_01/Exp_12/analysis/cnn_32mixed_tr21/run_060/'\n",
    "    if exp==13: results_folder= '/media/samuele/Samuele_01/Exp_13/analysis/cnn_9OFF_tr1/run_097/'\n",
    "    if exp==17: results_folder= '/media/samuele/Samuele_01/Exp_17/analysis/cnn_41mixed_tr28_repeat/run_026'\n",
    "    if exp==19: results_folder=\"/media/samuele/Samuele_01/Exp_19/analysis/cnn_28mixed_tr35/run_019\"\n",
    "    if exp==101:results_folder= '/media/samuele/BC_Samuele/20190523_goodone/analyses/cnn_sys_ident/20200616_025316/run_075/'\n",
    "    if exp==102:results_folder='/media/samuele/Samuele_01/Salamander2/cnn_23mixed_tr34/run_030'\n",
    "\n",
    "    train_lstas=np.load(os.path.join(results_folder, 'train_lstas.npy'))\n",
    "    print(train_lstas.shape)\n",
    "\n",
    "    for cell in range(train_lstas.shape[0]):\n",
    "        lstas_pol=[]\n",
    "        for img in train_lstas[cell,:,:,:]:\n",
    "            if np.abs(img.max())>np.abs(img.min()):\n",
    "                lstas_pol.append(1)\n",
    "            else:\n",
    "                lstas_pol.append(-1)\n",
    "#         ON=lstas_pol.count(1)\n",
    "#         OFF=lstas_pol.count(-1)\n",
    "        lstas_pol=np.array(lstas_pol)\n",
    "    #     ON=np.count(lstas_pol,1)\n",
    "    #     OFF=np.count(lstas_pol,-1)\n",
    "#         print('Cell {0}: {1:.0f}% of LSTAs ON, {2:.0f}% of LSTAs OFF'.format(cell,ON/train_lstas.shape[1]*100,OFF/train_lstas.shape[1]*100))\n",
    "        if all(lstas_pol==1) or all(lstas_pol==-1):\n",
    "            if exp>100:cells_invs_salamander.append(0)\n",
    "            else:cells_invs_mouse.append(0)\n",
    "        else: \n",
    "            if exp>100: cells_invs_salamander.append(1)\n",
    "            else: cells_invs_mouse.append(1)\n",
    "cells_invs_mouse=np.array(cells_invs_mouse)\n",
    "cells_invs_salamander=np.array(cells_invs_salamander)\n",
    "# print('Number of cells: {0} of which {1} are predicted to have polarity invertion ({2:.3}%) '.format(cells_invs.shape[0], cells_invs.sum(),cells_invs.sum()/cells_invs.shape[0]*100))\n",
    "print(cells_invs_mouse.sum()/cells_invs_mouse.shape[0]*100, cells_invs_salamander.sum()/cells_invs_salamander.shape[0]*100)"
   ]
  },
  {
   "cell_type": "markdown",
   "metadata": {},
   "source": [
    "## Assessing wether there is or not a difference in latency for the same neuron when it has ON vs OFF LSTAs"
   ]
  },
  {
   "cell_type": "code",
   "execution_count": 76,
   "metadata": {},
   "outputs": [
    {
     "data": {
      "text/plain": [
       "array([  0,   6,  10,  11,  13,  14,  16,  17,  18,  19,  28,  35,  43,\n",
       "        44,  46,  49,  54,  56,  58,  60,  63,  72,  83,  92,  95,  96,\n",
       "       110, 113, 117, 122, 124, 129, 132, 133, 134, 137, 149, 150, 151,\n",
       "       153, 157, 158, 163, 164, 167, 170, 175, 176, 192, 193, 195, 197,\n",
       "       200, 201, 202, 209, 216, 224, 225, 227, 233, 234, 235, 236, 237,\n",
       "       239, 241, 246, 251, 252, 253, 256, 265, 266, 267, 269, 270, 271,\n",
       "       277, 283, 287, 291, 295, 297, 299, 302, 303, 307, 308, 310, 319,\n",
       "       322, 328, 329, 334, 337, 339, 341, 348, 351, 356, 357, 360, 366,\n",
       "       368, 372, 378, 381, 398, 411, 419, 420, 421, 423, 424, 425, 426,\n",
       "       429, 432, 433, 448, 461, 477, 480, 481, 482, 490, 519, 521, 522,\n",
       "       523, 541, 542, 544, 554, 557, 570, 575, 593, 601, 616, 627, 628,\n",
       "       632, 637, 665, 666, 667, 672, 678, 696, 701, 703, 706, 714, 715,\n",
       "       718, 719, 720, 722, 723, 724, 727, 728])"
      ]
     },
     "execution_count": 76,
     "metadata": {},
     "output_type": "execute_result"
    }
   ],
   "source": [
    "np.sort(np.array(As+Bs))"
   ]
  },
  {
   "cell_type": "code",
   "execution_count": 56,
   "metadata": {},
   "outputs": [
    {
     "name": "stdout",
     "output_type": "stream",
     "text": [
      "[260   0  20  20 140 300 160 120]\n"
     ]
    },
    {
     "data": {
      "image/png": "[encoded data removed]",
      "text/plain": [
       "<Figure size 432x288 with 1 Axes>"
      ]
     },
     "metadata": {
      "needs_background": "light"
     },
     "output_type": "display_data"
    }
   ],
   "source": [
    "clus=285\n",
    "raster=np.load('/media/eqs8/Samuele_01/Exp_17/analysis/s1000/exp17_m4_c{0}_s1000_times.pkl'.format(clus),allow_pickle=True)\n",
    "for i,j in enumerate(raster):\n",
    "    if i==0:temp=j\n",
    "    else: temp=np.concatenate((temp,j))\n",
    "        \n",
    "nb_bins=int(4800/20 )    #lenght of the stimulus in ms/ lenght of 1 bin in ms\n",
    "occurrencies, intervals=np.histogram(temp, bins=nb_bins)\n",
    "lat=[]\n",
    "for i in range(8):\n",
    "    lat+= [(occurrencies[np.where((i*0.6+0.03<intervals) & (intervals<i*0.6+0.35))[0]].argmax())]\n",
    "    \n",
    "plot(np.arange(8)+1,lat,'o')\n",
    "axhline(10)\n",
    "axhline(20)\n",
    "ylim([0,17])\n",
    "print(np.array(lat)*20)"
   ]
  },
  {
   "cell_type": "code",
   "execution_count": 50,
   "metadata": {},
   "outputs": [
    {
     "data": {
      "text/plain": [
       "array([[4, array([ 0.,  1.,  1., -1.,  0.,  0.,  0., -1.])],\n",
       "       [18, array([0., 0., 0., 0., 0., 0., 0., 0.])],\n",
       "       [19, array([0., 0., 0., 1., 0., 0., 0., 0.])],\n",
       "       [22, array([-1.,  0., -1., -1.,  0.,  0.,  0., -1.])],\n",
       "       [30, array([-1.,  0.,  1.,  1.,  0., -1.,  0.,  0.])],\n",
       "       [53, array([0., 0., 0., 0., 0., 0., 0., 0.])],\n",
       "       [78, array([-1.,  0.,  0.,  0.,  0., -1.,  0., -1.])],\n",
       "       [83, array([ 0., -1.,  1.,  0.,  0.,  0.,  0.,  0.])],\n",
       "       [88, array([0., 0., 0., 0., 0., 0., 0., 0.])],\n",
       "       [89, array([-1.,  0.,  0.,  0., -1., -1., -1., -1.])],\n",
       "       [98, array([0., 0., 0., 0., 0., 0., 0., 0.])],\n",
       "       [113, array([ 0.,  1.,  1.,  1.,  0.,  0.,  1., -1.])],\n",
       "       [116, array([-1.,  1.,  0., -1.,  0., -1., -1., -1.])],\n",
       "       [117, array([-1.,  1., -1., -1., -1., -1., -1., -1.])],\n",
       "       [123, array([0., 0., 0., 0., 0., 0., 0., 0.])],\n",
       "       [127, array([0., 0., 0., 0., 0., 0., 0., 0.])],\n",
       "       [130, array([0., 0., 0., 0., 0., 0., 0., 0.])],\n",
       "       [141, array([ 0.,  1., -1.,  1.,  0.,  0.,  0.,  0.])],\n",
       "       [145, array([ 0.,  1., -1., -1., -1.,  0.,  0., -1.])],\n",
       "       [164, array([0., 0., 0., 0., 0., 0., 0., 0.])],\n",
       "       [177, array([-1.,  0.,  0.,  0., -1.,  0., -1., -1.])],\n",
       "       [178, array([0., 0., 0., 0., 0., 0., 0., 0.])],\n",
       "       [191, array([0., 0., 0., 0., 0., 0., 0., 0.])],\n",
       "       [194, array([-1.,  0.,  0.,  0.,  0., -1., -1.,  0.])],\n",
       "       [195, array([ 0.,  0., -1.,  0., -1.,  0.,  0.,  0.])],\n",
       "       [197, array([ 0.,  0.,  0.,  0.,  0.,  0.,  0., -1.])],\n",
       "       [200, array([ 0.,  1., -1., -1., -1., -1.,  1., -1.])],\n",
       "       [209, array([0., 0., 0., 0., 0., 0., 0., 0.])],\n",
       "       [210, array([0., 1., 1., 1., 0., 0., 0., 0.])],\n",
       "       [216, array([0., 0., 0., 0., 0., 0., 0., 0.])],\n",
       "       [239, array([0., 0., 0., 1., 0., 0., 0., 0.])],\n",
       "       [260, array([0., 0., 0., 0., 0., 0., 0., 0.])],\n",
       "       [262, array([0., 0., 0., 0., 0., 0., 0., 0.])],\n",
       "       [268, array([0., 0., 0., 0., 0., 0., 0., 0.])],\n",
       "       [270, array([0., 0., 0., 0., 0., 0., 0., 0.])],\n",
       "       [285, array([-1.,  1.,  0.,  0., -1., -1., -1., -1.])],\n",
       "       [289, array([-1., -1.,  0., -1., -1.,  0.,  0.,  0.])],\n",
       "       [290, array([0., 0., 0., 0., 0., 0., 0., 0.])],\n",
       "       [312, array([0., 0., 0., 0., 0., 0., 0., 0.])],\n",
       "       [339, array([-1.,  1., -1.,  0., -1., -1., -1., -1.])],\n",
       "       [349, array([ 0., -1.,  1.,  1.,  0.,  0.,  0.,  0.])],\n",
       "       [350, array([-1.,  0., -1., -1.,  1.,  0., -1.,  0.])],\n",
       "       [364, array([-1.,  1.,  0.,  1., -1., -1., -1., -1.])],\n",
       "       [376, array([-1.,  0.,  0.,  0., -1.,  0., -1.,  0.])],\n",
       "       [402, array([ 0., -1.,  1., -1.,  0., -1.,  0.,  0.])],\n",
       "       [412, array([-1., -1., -1., -1., -1., -1.,  0., -1.])],\n",
       "       [418, array([0., 0., 0., 0., 0., 0., 0., 0.])],\n",
       "       [436, array([ 0., -1.,  1., -1.,  1.,  0.,  0.,  0.])],\n",
       "       [459, array([ 0., -1., -1., -1.,  0.,  0.,  0.,  0.])],\n",
       "       [499, array([-1., -1., -1.,  1., -1.,  1., -1., -1.])],\n",
       "       [500, array([-1., -1.,  1.,  1.,  1., -1., -1., -1.])],\n",
       "       [508, array([ 0., -1.,  0.,  0.,  0.,  0.,  0.,  0.])],\n",
       "       [515, array([ 0.,  0.,  0.,  0., -1.,  0.,  0., -1.])],\n",
       "       [532, array([ 0.,  1., -1.,  1.,  0.,  0.,  0.,  0.])],\n",
       "       [534, array([0., 0., 0., 0., 0., 0., 0., 0.])],\n",
       "       [541, array([0., 0., 0., 0., 0., 0., 0., 0.])],\n",
       "       [553, array([-1.,  0.,  0.,  1., -1., -1., -1., -1.])],\n",
       "       [561, array([ 0.,  0.,  0.,  0.,  0., -1., -1.,  1.])],\n",
       "       [567, array([ 0.,  1., -1., -1.,  0.,  0.,  0.,  0.])],\n",
       "       [579, array([ 0., -1.,  0.,  0., -1.,  0., -1.,  0.])],\n",
       "       [639, array([ 0., -1., -1., -1.,  0.,  0.,  0.,  0.])],\n",
       "       [641, array([ 0., -1., -1.,  1.,  0.,  0.,  0.,  0.])],\n",
       "       [642, array([ 0., -1.,  0.,  0.,  0.,  0.,  0.,  0.])],\n",
       "       [680, array([-1., -1., -1., -1., -1., -1., -1.,  0.])],\n",
       "       [706, array([-1.,  1.,  1., -1.,  1., -1., -1.,  1.])],\n",
       "       [708, array([-1.,  0., -1., -1., -1., -1., -1., -1.])],\n",
       "       [737, array([0., 0., 1., 1., 0., 1., 1., 0.])],\n",
       "       [743, array([-1., -1., -1.,  0., -1.,  1.,  0., -1.])],\n",
       "       [753, array([ 0., -1.,  1.,  1., -1., -1.,  1.,  0.])],\n",
       "       [754, array([-1.,  1.,  0.,  1.,  1.,  1., -1., -1.])],\n",
       "       [767, array([ 1.,  0., -1.,  0., -1., -1., -1., -1.])],\n",
       "       [776, array([-1.,  1.,  0.,  0., -1., -1.,  0., -1.])],\n",
       "       [791, array([ 0.,  0.,  0.,  0.,  0., -1.,  0., -1.])],\n",
       "       [792, array([ 0., -1., -1., -1.,  0.,  0.,  0.,  0.])],\n",
       "       [794, array([ 0.,  1.,  1., -1.,  0.,  1.,  0.,  0.])],\n",
       "       [796, array([ 0.,  0.,  0.,  0.,  0., -1.,  0.,  0.])],\n",
       "       [800, array([-1.,  0.,  0.,  0., -1.,  1., -1.,  1.])],\n",
       "       [813, array([0., 0., 0., 0., 0., 0., 0., 0.])],\n",
       "       [815, array([ 1.,  0.,  0.,  0.,  0., -1., -1.,  0.])],\n",
       "       [823, array([ 0.,  0.,  0., -1.,  0.,  0.,  0., -1.])],\n",
       "       [843, array([0., 0., 0., 0., 0., 0., 0., 0.])],\n",
       "       [862, array([-1.,  0., -1.,  0., -1.,  1., -1., -1.])],\n",
       "       [868, array([ 0.,  0.,  0.,  0., -1., -1.,  0.,  0.])],\n",
       "       [872, array([0., 0., 0., 0., 0., 0., 0., 0.])],\n",
       "       [874, array([-1.,  1.,  0.,  0.,  0., -1., -1., -1.])],\n",
       "       [892, array([ 0.,  1., -1., -1., -1., -1., -1., -1.])],\n",
       "       [901, array([-1.,  1.,  1., -1., -1., -1., -1.,  1.])],\n",
       "       [905, array([ 0., -1.,  0.,  1.,  0.,  0.,  0.,  0.])],\n",
       "       [910, array([ 1.,  1.,  1.,  1.,  0., -1.,  0., -1.])],\n",
       "       [924, array([0., 0., 0., 0., 0., 0., 0., 0.])],\n",
       "       [939, array([0., 0., 0., 0., 0., 0., 0., 0.])],\n",
       "       [942, array([-1.,  1., -1.,  1., -1., -1., -1.,  0.])],\n",
       "       [956, array([-1.,  1.,  1., -1.,  0.,  0.,  0.,  0.])],\n",
       "       [960, array([-1.,  0.,  0.,  0., -1., -1., -1., -1.])],\n",
       "       [962, array([ 0.,  0.,  0.,  1.,  0., -1.,  0., -1.])],\n",
       "       [972, array([ 0.,  0., -1.,  0., -1., -1.,  0.,  0.])],\n",
       "       [991, array([-1.,  1.,  0.,  1., -1., -1., -1., -1.])],\n",
       "       [992, array([-1., -1., -1., -1., -1.,  1.,  0.,  1.])],\n",
       "       [994, array([0., 0., 0., 1., 0., 0., 0., 0.])],\n",
       "       [996, array([0., 0., 0., 0., 0., 0., 0., 0.])],\n",
       "       [998, array([ 1.,  0.,  1.,  0.,  1., -1.,  0., -1.])],\n",
       "       [1004, array([-1.,  1.,  0.,  0.,  1.,  0., -1., -1.])],\n",
       "       [1007, array([ 0.,  0., -1., -1., -1., -1., -1., -1.])],\n",
       "       [1009, array([ 0., -1.,  1.,  1.,  0.,  0.,  0., -1.])],\n",
       "       [1011, array([-1.,  0.,  0.,  0.,  0., -1.,  0.,  0.])],\n",
       "       [1014, array([-1.,  1.,  0.,  1.,  1., -1.,  0.,  1.])],\n",
       "       [1021, array([0., 0., 1., 0., 0., 0., 0., 0.])],\n",
       "       [1023, array([0., 0., 0., 1., 0., 0., 0., 0.])],\n",
       "       [1026, array([ 0.,  1.,  0.,  0.,  0.,  0.,  0., -1.])],\n",
       "       [1029, array([-1., -1., -1.,  0.,  0., -1.,  1.,  0.])],\n",
       "       [1030, array([0., 0., 0., 0., 0., 0., 0., 0.])],\n",
       "       [1031, array([-1.,  1.,  0.,  1., -1., -1.,  0.,  1.])],\n",
       "       [1032, array([-1.,  0.,  0., -1.,  0., -1., -1., -1.])],\n",
       "       [1033, array([0., 1., 0., 0., 0., 0., 0., 0.])],\n",
       "       [1036, array([0., 0., 0., 0., 0., 0., 0., 0.])]], dtype=object)"
      ]
     },
     "execution_count": 50,
     "metadata": {},
     "output_type": "execute_result"
    }
   ],
   "source": [
    "exp=17\n",
    "\n",
    "exp_LSTAs_pol_ber=np.load('/media/eqs8/Samuele_01/Exp_{0}/analysis/exp_LSTAS_labels_berens_exp{0}.npy'.format(exp),allow_pickle=True)\n",
    "exp_LSTAs_pol_ber"
   ]
  },
  {
   "cell_type": "code",
   "execution_count": 124,
   "metadata": {},
   "outputs": [],
   "source": [
    "#try to iterate over inverting cells\n",
    "exp=17\n",
    "\n",
    "bin_size=20\n",
    "nb_imgs=8\n",
    "latency_diffs=[]\n",
    "labels=np.load('/media/eqs8/Samuele_01/Exp_{0}/analysis/exp_LSTAS_labels_berens_exp{0}.npy'.format(exp),allow_pickle=True)\n",
    "for cell in inverting_cells:\n",
    "    raster=np.load('/media/eqs8/Samuele_01/Exp_17/analysis/s1000/exp17_m4_c{0}_s1000_times.pkl'.format(cell),allow_pickle=True)\n",
    "    for i,j in enumerate(raster):\n",
    "        if i==0:temp=j\n",
    "        else: temp=np.concatenate((temp,j))\n",
    "\n",
    "    nb_bins=int(nb_imgs*600/bin_size )    #lenght of the raster in ms/ lenght of 1 bin in ms\n",
    "    occurrencies, intervals=np.histogram(temp, bins=nb_bins)\n",
    "    lat=[]\n",
    "    for i in range(nb_imgs):\n",
    "        lat+= [(occurrencies[np.where((i*0.6+0.03<intervals) & (intervals<i*0.6+0.35))[0]].argmax())]\n",
    "    lat=np.array(lat)*bin_size\n",
    "    cell_labels=labels[np.where(labels[:,0]==cell)[0][0]][1]\n",
    "    bright_lat=[]\n",
    "    dark_lat=[]\n",
    "    for img_idx,lab in enumerate(cell_labels):\n",
    "        if lab==0.: continue\n",
    "        elif lab== 1.: bright_lat.append(lat[img_idx])\n",
    "        else: dark_lat.append(lat[img_idx])\n",
    "    mean_bright_lat= np.array(bright_lat).mean()\n",
    "    mean_dark_lat= np.array(dark_lat).mean()\n",
    "    latency_diffs.append(abs(mean_bright_lat-mean_dark_lat))"
   ]
  },
  {
   "cell_type": "code",
   "execution_count": 129,
   "metadata": {},
   "outputs": [
    {
     "data": {
      "text/plain": [
       "(array([16.,  6.,  5.,  9.,  5.,  3.,  1.,  0.,  2.,  3.]),\n",
       " array([  0. ,  20.5,  41. ,  61.5,  82. , 102.5, 123. , 143.5, 164. ,\n",
       "        184.5, 205. ]),\n",
       " <BarContainer object of 10 artists>)"
      ]
     },
     "execution_count": 129,
     "metadata": {},
     "output_type": "execute_result"
    },
    {
     "data": {
      "image/png": "[encoded data removed]",
      "text/plain": [
       "<Figure size 432x288 with 1 Axes>"
      ]
     },
     "metadata": {
      "needs_background": "light"
     },
     "output_type": "display_data"
    }
   ],
   "source": [
    "plt.hist(latency_diffs)"
   ]
  },
  {
   "cell_type": "code",
   "execution_count": 126,
   "metadata": {},
   "outputs": [
    {
     "data": {
      "text/plain": [
       "50"
      ]
     },
     "execution_count": 126,
     "metadata": {},
     "output_type": "execute_result"
    }
   ],
   "source": [
    "len(inverting_cells)"
   ]
  },
  {
   "cell_type": "code",
   "execution_count": 130,
   "metadata": {},
   "outputs": [
    {
     "data": {
      "text/plain": [
       "[80.0,\n",
       " 120.0,\n",
       " 0.0,\n",
       " 205.0,\n",
       " 36.0,\n",
       " 17.14285714285714,\n",
       " 50.0,\n",
       " 170.0,\n",
       " 72.0,\n",
       " 196.0,\n",
       " 63.33333333333334,\n",
       " 10.0,\n",
       " 10.0,\n",
       " 110.0,\n",
       " 93.33333333333333,\n",
       " 10.0,\n",
       " 13.333333333333343,\n",
       " 14.666666666666657,\n",
       " 10.0,\n",
       " 176.0,\n",
       " 20.0,\n",
       " 70.0,\n",
       " 90.0,\n",
       " 25.0,\n",
       " 84.0,\n",
       " 53.33333333333333,\n",
       " 65.0,\n",
       " 16.0,\n",
       " 90.0,\n",
       " 113.33333333333334,\n",
       " 60.0,\n",
       " 20.0,\n",
       " 64.0,\n",
       " 100.0,\n",
       " 136.66666666666669,\n",
       " 8.0,\n",
       " 40.0,\n",
       " 195.0,\n",
       " 32.0,\n",
       " 20.0,\n",
       " 30.0,\n",
       " 48.0,\n",
       " 72.0,\n",
       " 6.666666666666657,\n",
       " 80.0,\n",
       " 40.0,\n",
       " 50.0,\n",
       " 0.0,\n",
       " 20.0,\n",
       " 66.66666666666666]"
      ]
     },
     "execution_count": 130,
     "metadata": {},
     "output_type": "execute_result"
    }
   ],
   "source": [
    "latency_diffs"
   ]
  },
  {
   "cell_type": "code",
   "execution_count": null,
   "metadata": {},
   "outputs": [],
   "source": []
  }
 ],
 "metadata": {
  "kernelspec": {
   "display_name": "Python 3",
   "language": "python",
   "name": "python3"
  },
  "language_info": {
   "codemirror_mode": {
    "name": "ipython",
    "version": 3
   },
   "file_extension": ".py",
   "mimetype": "text/x-python",
   "name": "python",
   "nbconvert_exporter": "python",
   "pygments_lexer": "ipython3",
   "version": "3.8.8"
  }
 },
 "nbformat": 4,
 "nbformat_minor": 4
}
