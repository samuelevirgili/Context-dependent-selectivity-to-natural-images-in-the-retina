{
 "cells": [
  {
   "cell_type": "code",
   "execution_count": 1,
   "metadata": {},
   "outputs": [],
   "source": [
    "MAC=False\n",
    "if MAC: \n",
    "    rootf = '/Users'\n",
    "else:\n",
    "    rootf = '/home'"
   ]
  },
  {
   "cell_type": "code",
   "execution_count": 2,
   "metadata": {},
   "outputs": [
    {
     "name": "stdout",
     "output_type": "stream",
     "text": [
      "Populating the interactive namespace from numpy and matplotlib\n"
     ]
    }
   ],
   "source": [
    "%pylab inline\n",
    "%load_ext autoreload\n",
    "%autoreload 2\n",
    "# %load_ext autotime"
   ]
  },
  {
   "cell_type": "code",
   "execution_count": 3,
   "metadata": {},
   "outputs": [],
   "source": [
    "import os as os\n",
    "import sys\n",
    "sys.path.append('./extraction_functions') #this is where we put all the functions.py\n",
    "sys.path.append('./../../functions_PVA') #this is where we put all the functions.py\n",
    "#from brpylib import *\n",
    "\n",
    "import matplotlib.pyplot as plt\n",
    "from numpy               import arange\n",
    "\n",
    "\n",
    "from extract_triggers import *\n",
    "\n",
    "from save_load import *"
   ]
  },
  {
   "cell_type": "markdown",
   "metadata": {},
   "source": [
    "# Load raw file to extract triggers"
   ]
  },
  {
   "cell_type": "code",
   "execution_count": 4,
   "metadata": {
    "scrolled": false
   },
   "outputs": [
    {
     "name": "stdout",
     "output_type": "stream",
     "text": [
      "[['exp17', 'meas1'], ['exp17', 'meas2'], ['exp17', 'meas3'], ['exp17', 'meas4'], ['exp17', 'meas5'], ['exp17', 'meas6'], ['exp17', 'meas7'], ['exp17', 'meas8']]\n"
     ]
    },
    {
     "data": {
      "text/plain": [
       "['/media/eqs8/Samuele_01/Exp_17/recordings/exp17-meas1-20210608-check-30Hz-12px60ch.raw',\n",
       " '/media/eqs8/Samuele_01/Exp_17/recordings/exp17-meas2-20210608-check-30Hz-12px60ch.raw',\n",
       " '/media/eqs8/Samuele_01/Exp_17/recordings/exp17-meas3-20210608-Euler-50Hz.raw',\n",
       " '/media/eqs8/Samuele_01/Exp_17/recordings/exp17-meas4-20210608-fiandpwrc_8imgs1000reps.raw',\n",
       " '/media/eqs8/Samuele_01/Exp_17/recordings/exp17-meas5-20210608-check-30Hz-12px60ch.raw',\n",
       " '/media/eqs8/Samuele_01/Exp_17/recordings/exp17-meas6-20210608-fullFlash.raw',\n",
       " '/media/eqs8/Samuele_01/Exp_17/recordings/exp17-meas7-20210608-LAP4fiandpwrc_8imgs1000reps.raw',\n",
       " '/media/eqs8/Samuele_01/Exp_17/recordings/exp17-meas8-20210608-LAP4fiandpwrc_8imgs1000reps.raw']"
      ]
     },
     "execution_count": 4,
     "metadata": {},
     "output_type": "execute_result"
    }
   ],
   "source": [
    "rawfiles = []\n",
    "rawnames = []\n",
    "rawcount=0\n",
    "\n",
    "rawdir ='/media/eqs8/Samuele_01/Exp_17/recordings/'\n",
    "\n",
    "#-----------------------------------------------\n",
    "# Here I load all the pickles names\n",
    "# we make the list of names, and the list of address to open\n",
    "#-----------------------------------------------\n",
    "\n",
    "rawfilesdata = getfiles(startdir=rawdir, phrase='.raw', function='endswith')\n",
    "for rf in rawfilesdata:\n",
    "    rawfiles.append(rf)\n",
    "\n",
    "rawfiles = sorted(rawfiles)\n",
    "\n",
    "for rf in rawfiles[:]:\n",
    "    rawnames.append(((rf.split('/')[-1].split('-')[0:2])))\n",
    "\n",
    "rawcount = len(rawfiles)\n",
    "print(rawnames)   \n",
    "rawfiles\n",
    "np.where(np.array(rawnames)=='exp4')[0]\n",
    "rawfiles"
   ]
  },
  {
   "cell_type": "code",
   "execution_count": 5,
   "metadata": {},
   "outputs": [
    {
     "name": "stderr",
     "output_type": "stream",
     "text": [
      "\r",
      "  0%|          | 0/37356000 [00:00<?, ?it/s]"
     ]
    },
    {
     "name": "stdout",
     "output_type": "stream",
     "text": [
      "/media/eqs8/Samuele_01/Exp_17/recordings/exp17-meas1-20210608-check-30Hz-12px60ch.raw\n",
      "/media/eqs8/Samuele_01/Exp_17/analysis/pckls_triggers/exp17-meas_01_triggers_unfilt\n"
     ]
    },
    {
     "name": "stderr",
     "output_type": "stream",
     "text": [
      "100%|██████████| 37356000/37356000 [02:37<00:00, 237618.31it/s]\n"
     ]
    },
    {
     "name": "stdout",
     "output_type": "stream",
     "text": [
      "55700 18789776.436517056\n"
     ]
    },
    {
     "name": "stderr",
     "output_type": "stream",
     "text": [
      "  0%|          | 19930/21286000 [00:00<01:46, 199279.76it/s]"
     ]
    },
    {
     "name": "stdout",
     "output_type": "stream",
     "text": [
      "/media/eqs8/Samuele_01/Exp_17/recordings/exp17-meas2-20210608-check-30Hz-12px60ch.raw\n",
      "/media/eqs8/Samuele_01/Exp_17/analysis/pckls_triggers/exp17-meas_02_triggers_unfilt\n"
     ]
    },
    {
     "name": "stderr",
     "output_type": "stream",
     "text": [
      "100%|██████████| 21286000/21286000 [01:37<00:00, 217844.18it/s]\n"
     ]
    },
    {
     "name": "stdout",
     "output_type": "stream",
     "text": [
      "31200 10691005.018141026\n"
     ]
    },
    {
     "name": "stderr",
     "output_type": "stream",
     "text": [
      "  0%|          | 7681/13508000 [00:00<02:55, 76767.61it/s]"
     ]
    },
    {
     "name": "stdout",
     "output_type": "stream",
     "text": [
      "/media/eqs8/Samuele_01/Exp_17/recordings/exp17-meas3-20210608-Euler-50Hz.raw\n",
      "/media/eqs8/Samuele_01/Exp_17/analysis/pckls_triggers/exp17-meas_03_triggers_unfilt\n"
     ]
    },
    {
     "name": "stderr",
     "output_type": "stream",
     "text": [
      "100%|██████████| 13508000/13508000 [01:01<00:00, 218591.19it/s]\n"
     ]
    },
    {
     "name": "stdout",
     "output_type": "stream",
     "text": [
      "32400 6771839.754722223\n"
     ]
    },
    {
     "name": "stderr",
     "output_type": "stream",
     "text": [
      "  0%|          | 7125/146626000 [00:00<34:18, 71241.24it/s]"
     ]
    },
    {
     "name": "stdout",
     "output_type": "stream",
     "text": [
      "/media/eqs8/Samuele_01/Exp_17/recordings/exp17-meas4-20210608-fiandpwrc_8imgs1000reps.raw\n",
      "/media/eqs8/Samuele_01/Exp_17/analysis/pckls_triggers/exp17-meas_04_triggers_unfilt\n"
     ]
    },
    {
     "name": "stderr",
     "output_type": "stream",
     "text": [
      "100%|██████████| 146626000/146626000 [11:04<00:00, 220737.26it/s]\n"
     ]
    },
    {
     "name": "stdout",
     "output_type": "stream",
     "text": [
      "292000 73533389.72510959\n"
     ]
    },
    {
     "name": "stderr",
     "output_type": "stream",
     "text": [
      "  0%|          | 1/26430000 [00:00<1829:44:49,  4.01it/s]"
     ]
    },
    {
     "name": "stdout",
     "output_type": "stream",
     "text": [
      "/media/eqs8/Samuele_01/Exp_17/recordings/exp17-meas5-20210608-check-30Hz-12px60ch.raw\n",
      "/media/eqs8/Samuele_01/Exp_17/analysis/pckls_triggers/exp17-meas_05_triggers_unfilt\n"
     ]
    },
    {
     "name": "stderr",
     "output_type": "stream",
     "text": [
      "100%|██████████| 26430000/26430000 [02:21<00:00, 186427.97it/s]\n"
     ]
    },
    {
     "name": "stdout",
     "output_type": "stream",
     "text": [
      "39181 13323355.80710038\n"
     ]
    },
    {
     "name": "stderr",
     "output_type": "stream",
     "text": [
      "  0%|          | 9006/16618000 [00:00<03:04, 90057.08it/s]"
     ]
    },
    {
     "name": "stdout",
     "output_type": "stream",
     "text": [
      "/media/eqs8/Samuele_01/Exp_17/recordings/exp17-meas6-20210608-fullFlash.raw\n",
      "/media/eqs8/Samuele_01/Exp_17/analysis/pckls_triggers/exp17-meas_06_triggers_unfilt\n"
     ]
    },
    {
     "name": "stderr",
     "output_type": "stream",
     "text": [
      "100%|██████████| 16618000/16618000 [01:17<00:00, 213790.05it/s]\n"
     ]
    },
    {
     "name": "stdout",
     "output_type": "stream",
     "text": [
      "45401 8704176.166450078\n"
     ]
    },
    {
     "name": "stderr",
     "output_type": "stream",
     "text": [
      "  0%|          | 7396/40599992 [00:00<09:08, 73950.90it/s]"
     ]
    },
    {
     "name": "stdout",
     "output_type": "stream",
     "text": [
      "/media/eqs8/Samuele_01/Exp_17/recordings/exp17-meas7-20210608-LAP4fiandpwrc_8imgs1000reps.raw\n",
      "/media/eqs8/Samuele_01/Exp_17/analysis/pckls_triggers/exp17-meas_07_triggers_unfilt\n"
     ]
    },
    {
     "name": "stderr",
     "output_type": "stream",
     "text": [
      "100%|██████████| 40599992/40599992 [03:10<00:00, 212933.45it/s]\n"
     ]
    },
    {
     "name": "stdout",
     "output_type": "stream",
     "text": [
      "80392 20483483.078826252\n"
     ]
    },
    {
     "name": "stderr",
     "output_type": "stream",
     "text": [
      "  0%|          | 10497/146390000 [00:00<23:39, 103154.33it/s]"
     ]
    },
    {
     "name": "stdout",
     "output_type": "stream",
     "text": [
      "/media/eqs8/Samuele_01/Exp_17/recordings/exp17-meas8-20210608-LAP4fiandpwrc_8imgs1000reps.raw\n",
      "/media/eqs8/Samuele_01/Exp_17/analysis/pckls_triggers/exp17-meas_08_triggers_unfilt\n"
     ]
    },
    {
     "name": "stderr",
     "output_type": "stream",
     "text": [
      "100%|██████████| 146390000/146390000 [10:55<00:00, 223449.14it/s]\n"
     ]
    },
    {
     "name": "stdout",
     "output_type": "stream",
     "text": [
      "292000 73315007.80466096\n",
      "Done!\n"
     ]
    }
   ],
   "source": [
    "exp = 17\n",
    "nfiles = 8\n",
    "\n",
    "meas_skip=5    # do only measurement N\n",
    "SKIP= False\n",
    "\n",
    "fs=20000\n",
    "\n",
    "rootF = '/media/eqs8/Samuele_01/Exp_17/analysis/pckls_triggers/'\n",
    "#the folder in which the pickles are to be saved\n",
    "\n",
    "Fsave = rootF\n",
    "indexes = np.where(np.array(rawnames)=='exp'+str(exp))[0]\n",
    "mcount=0\n",
    "for meas in indexes[0:]:\n",
    "    mcount+=1\n",
    "    \n",
    "    #----------------------\n",
    "    if SKIP:\n",
    "        if mcount!=meas_skip: continue\n",
    "    #----------------------\n",
    "    \n",
    "    f_base = rawfiles[meas]\n",
    "    print(f_base)\n",
    "    f_out = rootF + 'exp'+str(exp)+'-meas_0' + str(mcount) + '_triggers_unfilt'\n",
    "    print(f_out)\n",
    "    indices,data, t_tot =  extract(input_path=f_base , dtype='uint16', nb_channels=256, channel_id=126, output_path=None)\n",
    "    \n",
    "    print(len(indices),mean(indices))\n",
    "\n",
    "    save_obj([indices,t_tot],f_out)\n",
    "    save_obj(data,f_out+'_data')\n",
    "\n",
    "print('Done!')"
   ]
  },
  {
   "cell_type": "markdown",
   "metadata": {},
   "source": [
    "# Run Sanity Check"
   ]
  },
  {
   "cell_type": "code",
   "execution_count": 8,
   "metadata": {},
   "outputs": [
    {
     "name": "stdout",
     "output_type": "stream",
     "text": [
      "Measurement  1\n",
      "Minimal sanity check ok.\n",
      "Measurement  2\n",
      "Minimal sanity check ok.\n",
      "Measurement  3\n",
      "Minimal sanity check ok.\n",
      "Measurement  4\n",
      "Minimal sanity check ok.\n",
      "Measurement  5\n",
      "Minimal sanity check ok.\n",
      "Measurement  6\n",
      "Measurement  7\n",
      "Measurement  8\n",
      "Minimal sanity check ok.\n"
     ]
    }
   ],
   "source": [
    "exp=17\n",
    "\n",
    "nmeas=8\n",
    "\n",
    "for meas in np.arange(nmeas)+1:\n",
    "    \n",
    "    print('Measurement ', meas)\n",
    "    \n",
    "    f=rootF + 'exp'+str(exp)+'-meas_0' + str(meas) + '_triggers_unfilt'\n",
    "\n",
    "    indices, ttot = load_obj(f)\n",
    "    indices.shape,ttot\n",
    "    if meas==6 or meas==7:continue\n",
    "    else:\n",
    "        run_minimal_sanity_check(indices[:])\n",
    "    # indices\n",
    "    indices.shape\n",
    "\n",
    "#save_obj([indices[1:],ttot],f)"
   ]
  },
  {
   "cell_type": "code",
   "execution_count": 12,
   "metadata": {},
   "outputs": [],
   "source": [
    "#/home/matias/Dropbox/Drop-IdV/git-Perturbation/analysis/pert_DATA\n",
    "rootF = rootf + '/matias/Dropbox/Drop-IdV/git-Perturbation/analysis/pert_DATA/pckls_triggers/'\n",
    "\n",
    "f_out = rootF + 'exp'+str(exp)+'-meas_0' + str(mcount) + '_triggers_unfilt'\n",
    "# save_obj([indices,t_tot],f_out)\n",
    "# save_obj(data,f_out+'_data')"
   ]
  },
  {
   "cell_type": "markdown",
   "metadata": {},
   "source": [
    "# Plot Data in case sanity check fails to correct it"
   ]
  },
  {
   "cell_type": "code",
   "execution_count": 11,
   "metadata": {},
   "outputs": [
    {
     "data": {
      "text/plain": [
       "((55801,), 973.4)"
      ]
     },
     "execution_count": 11,
     "metadata": {},
     "output_type": "execute_result"
    }
   ],
   "source": [
    "# Get indices\n",
    "exp=14\n",
    "meas=4\n",
    "\n",
    "f=rootF + 'exp'+str(exp)+'-meas_0' + str(meas) + '_triggers_unfilt'\n",
    "\n",
    "indices, ttot = load_obj(f)\n",
    "indices.shape,ttot"
   ]
  },
  {
   "cell_type": "code",
   "execution_count": 20,
   "metadata": {},
   "outputs": [
    {
     "data": {
      "text/plain": [
       "array([  201,   200,   200, ...,   200,   200, 43798])"
      ]
     },
     "execution_count": 20,
     "metadata": {},
     "output_type": "execute_result"
    },
    {
     "data": {
      "image/png": "[encoded data removed]",
      "text/plain": [
       "<Figure size 432x288 with 1 Axes>"
      ]
     },
     "metadata": {
      "needs_background": "light"
     },
     "output_type": "display_data"
    },
    {
     "data": {
      "image/png": "[encoded data removed]",
      "text/plain": [
       "<Figure size 432x288 with 1 Axes>"
      ]
     },
     "metadata": {
      "needs_background": "light"
     },
     "output_type": "display_data"
    }
   ],
   "source": [
    "# Plot\n",
    "\n",
    "plot(diff(indices)[-145:])\n",
    "\n",
    "# print(np.where(diff(indices)>2000))\n",
    "# print(diff(indices)[138300:138500])\n",
    "figure()\n",
    "plot(diff(indices)[0:20000])\n",
    "indices\n",
    "diff(indices)"
   ]
  },
  {
   "cell_type": "code",
   "execution_count": 44,
   "metadata": {},
   "outputs": [
    {
     "data": {
      "text/plain": [
       "(19468000,)"
      ]
     },
     "execution_count": 44,
     "metadata": {},
     "output_type": "execute_result"
    }
   ],
   "source": [
    "# Get raw traces\n",
    "\n",
    "exp=14\n",
    "\n",
    "meas=4\n",
    "f=rootf + '/matias/data/DATA_pert/sorted/exp'+str(exp)+'/exp'+str(exp)+'-meas_0'+str(meas)+'_triggers_unfilt_data'\n",
    "f=rootf + '/matias/Dropbox/Drop-IdV/git-Perturbation/analysis/pert_DATA/pckls_triggers/exp'+str(exp)+'-meas_0'+str(meas)+'_triggers_unfilt_data'\n",
    "indices2 = load_obj(f)\n",
    "indices2.shape"
   ]
  },
  {
   "cell_type": "code",
   "execution_count": 57,
   "metadata": {},
   "outputs": [
    {
     "name": "stdout",
     "output_type": "stream",
     "text": [
      "8000000\n"
     ]
    },
    {
     "data": {
      "text/plain": [
       "(500000.0, 3000000.0)"
      ]
     },
     "execution_count": 57,
     "metadata": {},
     "output_type": "execute_result"
    },
    {
     "data": {
      "image/png": "[encoded data removed]",
      "text/plain": [
       "<Figure size 432x288 with 1 Axes>"
      ]
     },
     "metadata": {
      "needs_background": "light"
     },
     "output_type": "display_data"
    }
   ],
   "source": [
    "# Plot\n",
    "\n",
    "fs=20000\n",
    "x0=0*500 #+ int(0.5*1e+6) + 150000\n",
    "plt.plot(indices2[x0:x0+fs*300])\n",
    "print(16000*500)\n",
    "xlim([1e6*0.5,1e6*3])"
   ]
  },
  {
   "cell_type": "code",
   "execution_count": null,
   "metadata": {},
   "outputs": [],
   "source": []
  },
  {
   "cell_type": "code",
   "execution_count": null,
   "metadata": {},
   "outputs": [],
   "source": []
  },
  {
   "cell_type": "code",
   "execution_count": null,
   "metadata": {},
   "outputs": [],
   "source": []
  },
  {
   "cell_type": "code",
   "execution_count": null,
   "metadata": {},
   "outputs": [],
   "source": []
  },
  {
   "cell_type": "code",
   "execution_count": null,
   "metadata": {},
   "outputs": [],
   "source": []
  },
  {
   "cell_type": "code",
   "execution_count": null,
   "metadata": {},
   "outputs": [],
   "source": []
  },
  {
   "cell_type": "code",
   "execution_count": null,
   "metadata": {},
   "outputs": [],
   "source": []
  },
  {
   "cell_type": "code",
   "execution_count": 105,
   "metadata": {},
   "outputs": [
    {
     "ename": "UserWarning",
     "evalue": "Triggers are not evenly spaced (some missing?).",
     "output_type": "error",
     "traceback": [
      "\u001b[0;31m---------------------------------------------------------------------------\u001b[0m",
      "\u001b[0;31mUserWarning\u001b[0m                               Traceback (most recent call last)",
      "\u001b[0;32m<ipython-input-105-dc169b0cd16b>\u001b[0m in \u001b[0;36m<module>\u001b[0;34m\u001b[0m\n\u001b[1;32m      5\u001b[0m \u001b[0mindices\u001b[0m\u001b[0;34m,\u001b[0m \u001b[0mttot\u001b[0m \u001b[0;34m=\u001b[0m \u001b[0mload_obj\u001b[0m\u001b[0;34m(\u001b[0m\u001b[0mf\u001b[0m\u001b[0;34m)\u001b[0m\u001b[0;34m\u001b[0m\u001b[0;34m\u001b[0m\u001b[0m\n\u001b[1;32m      6\u001b[0m \u001b[0mindices\u001b[0m\u001b[0;34m.\u001b[0m\u001b[0mshape\u001b[0m\u001b[0;34m,\u001b[0m\u001b[0mttot\u001b[0m\u001b[0;34m\u001b[0m\u001b[0;34m\u001b[0m\u001b[0m\n\u001b[0;32m----> 7\u001b[0;31m \u001b[0mrun_minimal_sanity_check\u001b[0m\u001b[0;34m(\u001b[0m\u001b[0mindices\u001b[0m\u001b[0;34m)\u001b[0m\u001b[0;34m\u001b[0m\u001b[0;34m\u001b[0m\u001b[0m\n\u001b[0m\u001b[1;32m      8\u001b[0m \u001b[0;31m# indices\u001b[0m\u001b[0;34m\u001b[0m\u001b[0;34m\u001b[0m\u001b[0;34m\u001b[0m\u001b[0m\n\u001b[1;32m      9\u001b[0m \u001b[0mindices\u001b[0m\u001b[0;34m.\u001b[0m\u001b[0mshape\u001b[0m\u001b[0;34m\u001b[0m\u001b[0;34m\u001b[0m\u001b[0m\n",
      "\u001b[0;32m~/Dropbox/Drop-IdV/git-Perturbation/analysis/make_triggers/extraction_functions/extract_triggers.py\u001b[0m in \u001b[0;36mrun_minimal_sanity_check\u001b[0;34m(triggers, sampling_rate, maximal_jitter)\u001b[0m\n\u001b[1;32m    171\u001b[0m     \u001b[0;32mif\u001b[0m \u001b[0;32mnot\u001b[0m \u001b[0mnp\u001b[0m\u001b[0;34m.\u001b[0m\u001b[0mall\u001b[0m\u001b[0;34m(\u001b[0m\u001b[0mnp\u001b[0m\u001b[0;34m.\u001b[0m\u001b[0mabs\u001b[0m\u001b[0;34m(\u001b[0m\u001b[0minter_trigger_values\u001b[0m \u001b[0;34m-\u001b[0m \u001b[0minter_trigger_value\u001b[0m\u001b[0;34m)\u001b[0m \u001b[0;34m<=\u001b[0m \u001b[0mmaximal_jitter\u001b[0m \u001b[0;34m*\u001b[0m \u001b[0msampling_rate\u001b[0m\u001b[0;34m)\u001b[0m\u001b[0;34m:\u001b[0m\u001b[0;34m\u001b[0m\u001b[0;34m\u001b[0m\u001b[0m\n\u001b[1;32m    172\u001b[0m         \u001b[0mmessage\u001b[0m \u001b[0;34m=\u001b[0m \u001b[0;34m\"Triggers are not evenly spaced (some missing?).\"\u001b[0m\u001b[0;34m\u001b[0m\u001b[0;34m\u001b[0m\u001b[0m\n\u001b[0;32m--> 173\u001b[0;31m         \u001b[0;32mraise\u001b[0m \u001b[0mUserWarning\u001b[0m\u001b[0;34m(\u001b[0m\u001b[0mmessage\u001b[0m\u001b[0;34m)\u001b[0m\u001b[0;34m\u001b[0m\u001b[0;34m\u001b[0m\u001b[0m\n\u001b[0m\u001b[1;32m    174\u001b[0m     \u001b[0;32melse\u001b[0m\u001b[0;34m:\u001b[0m\u001b[0;34m\u001b[0m\u001b[0;34m\u001b[0m\u001b[0m\n\u001b[1;32m    175\u001b[0m         \u001b[0mprint\u001b[0m\u001b[0;34m(\u001b[0m\u001b[0;34m\"Minimal sanity check ok.\"\u001b[0m\u001b[0;34m)\u001b[0m\u001b[0;34m\u001b[0m\u001b[0;34m\u001b[0m\u001b[0m\n",
      "\u001b[0;31mUserWarning\u001b[0m: Triggers are not evenly spaced (some missing?)."
     ]
    }
   ],
   "source": [
    "exp=3\n",
    "\n",
    "meas=1\n",
    "f='/media/matias/data/DATA_pert/sorted/exp'+str(exp)+'/exp'+str(exp)+'-meas_0'+str(meas)+'_triggers_unfilt'\n",
    "indices, ttot = load_obj(f)\n",
    "indices.shape,ttot\n",
    "run_minimal_sanity_check(indices)\n",
    "# indices\n",
    "indices.shape"
   ]
  },
  {
   "cell_type": "code",
   "execution_count": 23,
   "metadata": {},
   "outputs": [
    {
     "data": {
      "text/plain": [
       "array([667, 667, 666, ..., 667, 666, 667])"
      ]
     },
     "execution_count": 23,
     "metadata": {},
     "output_type": "execute_result"
    },
    {
     "data": {
      "image/png": "[encoded data removed]",
      "text/plain": [
       "<Figure size 432x288 with 1 Axes>"
      ]
     },
     "metadata": {
      "needs_background": "light"
     },
     "output_type": "display_data"
    },
    {
     "data": {
      "image/png": "[encoded data removed]",
      "text/plain": [
       "<Figure size 432x288 with 1 Axes>"
      ]
     },
     "metadata": {
      "needs_background": "light"
     },
     "output_type": "display_data"
    }
   ],
   "source": [
    "plot(diff(indices)[:])\n",
    "\n",
    "# print(np.where(diff(indices)>2000))\n",
    "# print(diff(indices)[138300:138500])\n",
    "figure()\n",
    "plot(diff(indices)[0:10])\n",
    "indices\n",
    "diff(indices)"
   ]
  },
  {
   "cell_type": "code",
   "execution_count": 83,
   "metadata": {},
   "outputs": [
    {
     "data": {
      "text/plain": [
       "[<matplotlib.lines.Line2D at 0x7f3b6dce20d0>]"
      ]
     },
     "execution_count": 83,
     "metadata": {},
     "output_type": "execute_result"
    },
    {
     "data": {
      "image/png": "[encoded data removed]",
      "text/plain": [
       "<Figure size 432x288 with 1 Axes>"
      ]
     },
     "metadata": {
      "needs_background": "light"
     },
     "output_type": "display_data"
    },
    {
     "data": {
      "image/png": "[encoded data removed]",
      "text/plain": [
       "<Figure size 432x288 with 1 Axes>"
      ]
     },
     "metadata": {
      "needs_background": "light"
     },
     "output_type": "display_data"
    }
   ],
   "source": [
    "plot(diff(indices)[138350:138425])\n",
    "\n",
    "# print(np.where(diff(indices)>2000))\n",
    "# print(diff(indices)[138300:138500])\n",
    "figure()\n",
    "plot(diff(indices2)[138350:138425])"
   ]
  },
  {
   "cell_type": "code",
   "execution_count": 116,
   "metadata": {},
   "outputs": [
    {
     "data": {
      "text/plain": [
       "[<matplotlib.lines.Line2D at 0x7f3b6dafcd00>]"
      ]
     },
     "execution_count": 116,
     "metadata": {},
     "output_type": "execute_result"
    },
    {
     "data": {
      "image/png": "[encoded data removed]",
      "text/plain": [
       "<Figure size 432x288 with 1 Axes>"
      ]
     },
     "metadata": {
      "needs_background": "light"
     },
     "output_type": "display_data"
    }
   ],
   "source": [
    "plot(indices)"
   ]
  },
  {
   "cell_type": "code",
   "execution_count": 117,
   "metadata": {},
   "outputs": [
    {
     "data": {
      "text/plain": [
       "(71548000,)"
      ]
     },
     "execution_count": 117,
     "metadata": {},
     "output_type": "execute_result"
    }
   ],
   "source": [
    "exp=3\n",
    "\n",
    "meas=1\n",
    "f='/media/matias/data/DATA_pert/sorted/exp'+str(exp)+'/exp'+str(exp)+'-meas_0'+str(meas)+'_triggers_unfilt_data'\n",
    "indices2 = load_obj(f)\n",
    "indices2.shape\n",
    "#run_minimal_sanity_check(indices2)\n",
    "# indices\n"
   ]
  },
  {
   "cell_type": "code",
   "execution_count": 120,
   "metadata": {},
   "outputs": [
    {
     "data": {
      "text/plain": [
       "[<matplotlib.lines.Line2D at 0x7f3b6d965f10>]"
      ]
     },
     "execution_count": 120,
     "metadata": {},
     "output_type": "execute_result"
    },
    {
     "data": {
      "image/png": "[encoded data removed]",
      "text/plain": [
       "<Figure size 432x288 with 1 Axes>"
      ]
     },
     "metadata": {
      "needs_background": "light"
     },
     "output_type": "display_data"
    }
   ],
   "source": [
    "fs=20000\n",
    "x0=0\n",
    "plt.plot(indices2[x0:x0+fs*30])\n",
    "#print(16000*500)"
   ]
  },
  {
   "cell_type": "code",
   "execution_count": 72,
   "metadata": {},
   "outputs": [
    {
     "name": "stdout",
     "output_type": "stream",
     "text": [
      "88800000\n",
      "500.08578877133317\n",
      "88815236.08578877\n",
      "[1232763.91421123]\n"
     ]
    }
   ],
   "source": [
    "print(177600*500)\n",
    "\n",
    "print(diff(indices).sum()/diff(indices).size)\n",
    "\n",
    "print(177600*diff(indices).sum()/diff(indices).size)\n",
    "span=177600*diff(indices).sum()/diff(indices).size\n",
    "\n",
    "print(indices2.shape-span)\n",
    "offset=int(indices2.shape-span)"
   ]
  },
  {
   "cell_type": "code",
   "execution_count": 59,
   "metadata": {},
   "outputs": [
    {
     "data": {
      "text/plain": [
       "(69198726, 69195000)"
      ]
     },
     "execution_count": 59,
     "metadata": {},
     "output_type": "execute_result"
    }
   ],
   "source": [
    "start=0\n",
    "for i,j in enumerate(diff(indices)):\n",
    "    if i<138398:\n",
    "        start+=j\n",
    "        \n",
    "start,x0"
   ]
  },
  {
   "cell_type": "code",
   "execution_count": 79,
   "metadata": {},
   "outputs": [
    {
     "data": {
      "text/plain": [
       "(90048000,)"
      ]
     },
     "execution_count": 79,
     "metadata": {},
     "output_type": "execute_result"
    }
   ],
   "source": [
    "indices2.shape"
   ]
  },
  {
   "cell_type": "code",
   "execution_count": 91,
   "metadata": {},
   "outputs": [
    {
     "data": {
      "text/plain": [
       "58.20791666666666"
      ]
     },
     "execution_count": 91,
     "metadata": {},
     "output_type": "execute_result"
    }
   ],
   "source": [
    "x0/20000/60"
   ]
  },
  {
   "cell_type": "code",
   "execution_count": null,
   "metadata": {},
   "outputs": [],
   "source": [
    "exp=7\n",
    "\n",
    "meas=2\n",
    "f='/media/matias/data/DATA_pert/sorted/exp'+str(exp)+'/exp'+str(exp)+'-meas_0'+str(meas)+'_triggers_unfilt'\n",
    "indices, ttot = load_obj(f)\n",
    "indices.shape,ttot\n",
    "run_minimal_sanity_check(indices)\n",
    "# indices\n",
    "data.shape"
   ]
  },
  {
   "cell_type": "code",
   "execution_count": null,
   "metadata": {},
   "outputs": [],
   "source": []
  },
  {
   "cell_type": "code",
   "execution_count": null,
   "metadata": {},
   "outputs": [],
   "source": []
  },
  {
   "cell_type": "code",
   "execution_count": 58,
   "metadata": {},
   "outputs": [
    {
     "data": {
      "text/plain": [
       "[<matplotlib.lines.Line2D at 0x7fae9be7c7c0>]"
      ]
     },
     "execution_count": 58,
     "metadata": {},
     "output_type": "execute_result"
    },
    {
     "data": {
      "image/png": "[encoded data removed]",
      "text/plain": [
       "<Figure size 432x288 with 1 Axes>"
      ]
     },
     "metadata": {
      "needs_background": "light"
     },
     "output_type": "display_data"
    }
   ],
   "source": [
    "fs=20000\n",
    "plot(data[0:fs*40])"
   ]
  },
  {
   "cell_type": "code",
   "execution_count": 13,
   "metadata": {},
   "outputs": [
    {
     "data": {
      "text/plain": [
       "2336.7"
      ]
     },
     "execution_count": 13,
     "metadata": {},
     "output_type": "execute_result"
    }
   ],
   "source": [
    "t_tot"
   ]
  },
  {
   "cell_type": "code",
   "execution_count": 10,
   "metadata": {},
   "outputs": [
    {
     "data": {
      "text/plain": [
       "[<matplotlib.lines.Line2D at 0x7faeda6db250>]"
      ]
     },
     "execution_count": 10,
     "metadata": {},
     "output_type": "execute_result"
    },
    {
     "data": {
      "image/png": "[encoded data removed]",
      "text/plain": [
       "<Figure size 432x288 with 1 Axes>"
      ]
     },
     "metadata": {
      "needs_background": "light"
     },
     "output_type": "display_data"
    }
   ],
   "source": [
    "plot(data)"
   ]
  },
  {
   "cell_type": "code",
   "execution_count": 7,
   "metadata": {},
   "outputs": [
    {
     "data": {
      "text/plain": [
       "array([17, 18, 19, 20, 21, 22, 23, 24])"
      ]
     },
     "execution_count": 7,
     "metadata": {},
     "output_type": "execute_result"
    }
   ],
   "source": [
    "indexes"
   ]
  },
  {
   "cell_type": "code",
   "execution_count": 5,
   "metadata": {},
   "outputs": [
    {
     "name": "stderr",
     "output_type": "stream",
     "text": [
      "  0%|          | 1604/69236000 [00:00<1:11:56, 16039.48it/s]"
     ]
    },
    {
     "name": "stdout",
     "output_type": "stream",
     "text": [
      "/media/matias/Matias_data_1/DATA/RAW_EXTRACTED_DATA/exp4-meas1-20201030-check-30Hz-21px50ch.raw\n",
      "/media/matias/data/DATA_pert/sorted/exp4/exp4-meas_01_triggers_unfilt\n"
     ]
    },
    {
     "name": "stderr",
     "output_type": "stream",
     "text": [
      "100%|██████████| 69236000/69236000 [1:00:50<00:00, 18966.50it/s]\n"
     ]
    },
    {
     "name": "stdout",
     "output_type": "stream",
     "text": [
      "103203 34784447.34717983\n"
     ]
    },
    {
     "name": "stderr",
     "output_type": "stream",
     "text": [
      "  0%|          | 1/13330000 [00:00<371:55:25,  9.96it/s]"
     ]
    },
    {
     "name": "stdout",
     "output_type": "stream",
     "text": [
      "/media/matias/Matias_data_1/DATA/RAW_EXTRACTED_DATA/exp4-meas2-20201029-Euler-50Hz.raw\n",
      "/media/matias/data/DATA_pert/sorted/exp4/exp4-meas_02_triggers_unfilt\n"
     ]
    },
    {
     "name": "stderr",
     "output_type": "stream",
     "text": [
      "100%|██████████| 13330000/13330000 [08:01<00:00, 27684.28it/s]\n"
     ]
    },
    {
     "name": "stdout",
     "output_type": "stream",
     "text": [
      "32255 6842434.399596962\n"
     ]
    },
    {
     "name": "stderr",
     "output_type": "stream",
     "text": [
      "  0%|          | 257/102916000 [00:00<11:08:28, 2565.94it/s]"
     ]
    },
    {
     "name": "stdout",
     "output_type": "stream",
     "text": [
      "/media/matias/Matias_data_1/DATA/RAW_EXTRACTED_DATA/exp4-meas3-20201030-6stims1200reps.raw\n",
      "/media/matias/data/DATA_pert/sorted/exp4/exp4-meas_03_triggers_unfilt\n"
     ]
    },
    {
     "name": "stderr",
     "output_type": "stream",
     "text": [
      "100%|██████████| 102916000/102916000 [1:08:30<00:00, 25037.83it/s] \n"
     ]
    },
    {
     "name": "stdout",
     "output_type": "stream",
     "text": [
      "204000 51673240.949857846\n"
     ]
    },
    {
     "name": "stderr",
     "output_type": "stream",
     "text": [
      "  0%|          | 257/89794000 [00:00<11:29:45, 2169.68it/s]"
     ]
    },
    {
     "name": "stdout",
     "output_type": "stream",
     "text": [
      "/media/matias/Matias_data_1/DATA/RAW_EXTRACTED_DATA/exp4-meas4-20201030-12stims600reps.raw\n",
      "/media/matias/data/DATA_pert/sorted/exp4/exp4-meas_04_triggers_unfilt\n"
     ]
    },
    {
     "name": "stderr",
     "output_type": "stream",
     "text": [
      "100%|██████████| 89794000/89794000 [16:12<00:00, 92332.17it/s] \n"
     ]
    },
    {
     "name": "stdout",
     "output_type": "stream",
     "text": [
      "175200 44162139.986946344\n"
     ]
    }
   ],
   "source": [
    "exp = 6\n",
    "nfiles = 4\n",
    "\n",
    "fs=20000\n",
    "\n",
    "rootF = '/media/matias/data/DATA_pert/sorted/exp'+str(exp)+'/'\n",
    "\n",
    "Fsave = rootF\n",
    "indexes = np.where(np.array(rawnames)=='exp4')[0]\n",
    "mcount=0\n",
    "# for meas in indexes:\n",
    "#     mcount+=1\n",
    "#     f_base = rawfiles[meas]\n",
    "#     print(f_base)\n",
    "#     f_out = rootF + 'exp'+str(exp)+'-meas_0' + str(mcount) + '_triggers_unfilt'\n",
    "#     print(f_out)\n",
    "#     indices,data, t_tot =  extract(input_path=f_base , dtype='uint16', nb_channels=256, channel_id=126, output_path=None)\n",
    "    \n",
    "#     print(len(indices),mean(indices))\n",
    "\n",
    "#     save_obj([indices,t_tot],f_out)\n",
    "#     save_obj(data,f_out+'_data')"
   ]
  },
  {
   "cell_type": "code",
   "execution_count": 10,
   "metadata": {},
   "outputs": [
    {
     "name": "stdout",
     "output_type": "stream",
     "text": [
      "/media/matias/data/DATA_pert/sorted/exp4/exp4-meas_01_triggers_unfilt\n"
     ]
    }
   ],
   "source": [
    "# one false trigger in exp4 meas 1 (run once)\n",
    "\n",
    "# exp = 4\n",
    "# nfiles = 4\n",
    "\n",
    "# fs=20000\n",
    "\n",
    "# rootF = '/media/matias/data/DATA_pert/sorted/exp'+str(exp)+'/'\n",
    "\n",
    "# Fsave = rootF\n",
    "\n",
    "# f_out = rootF + 'exp'+str(4)+'-meas_0' + str(1) + '_triggers_unfilt'\n",
    "# print(f_out)\n",
    "# [indices,t_tot] = load_obj(f_out)\n",
    "\n",
    "# indices = indices[1:]\n",
    "\n",
    "# save_obj([indices,t_tot],f_out)\n",
    "\n"
   ]
  },
  {
   "cell_type": "code",
   "execution_count": 9,
   "metadata": {},
   "outputs": [
    {
     "data": {
      "text/plain": [
       "array([  113181,   384944,   385610, ..., 69183291, 69183957, 69184624])"
      ]
     },
     "execution_count": 9,
     "metadata": {},
     "output_type": "execute_result"
    }
   ],
   "source": [
    "indices"
   ]
  },
  {
   "cell_type": "code",
   "execution_count": null,
   "metadata": {
    "collapsed": true
   },
   "outputs": [],
   "source": []
  },
  {
   "cell_type": "code",
   "execution_count": null,
   "metadata": {
    "collapsed": true
   },
   "outputs": [],
   "source": []
  },
  {
   "cell_type": "code",
   "execution_count": null,
   "metadata": {
    "collapsed": true
   },
   "outputs": [],
   "source": []
  },
  {
   "cell_type": "code",
   "execution_count": null,
   "metadata": {
    "collapsed": true
   },
   "outputs": [],
   "source": []
  },
  {
   "cell_type": "code",
   "execution_count": null,
   "metadata": {
    "collapsed": true
   },
   "outputs": [],
   "source": []
  },
  {
   "cell_type": "code",
   "execution_count": null,
   "metadata": {
    "collapsed": true
   },
   "outputs": [],
   "source": []
  }
 ],
 "metadata": {
  "kernelspec": {
   "display_name": "Python 3",
   "language": "python",
   "name": "python3"
  },
  "language_info": {
   "codemirror_mode": {
    "name": "ipython",
    "version": 3
   },
   "file_extension": ".py",
   "mimetype": "text/x-python",
   "name": "python",
   "nbconvert_exporter": "python",
   "pygments_lexer": "ipython3",
   "version": "3.6.13"
  }
 },
 "nbformat": 4,
 "nbformat_minor": 2
}
